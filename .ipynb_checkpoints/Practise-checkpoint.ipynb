{
 "cells": [
  {
   "cell_type": "code",
   "execution_count": 1,
   "id": "breeding-seattle",
   "metadata": {},
   "outputs": [
    {
     "name": "stdout",
     "output_type": "stream",
     "text": [
      "19102 - rows, 154 - columns\n",
      "(19102, 154)\n"
     ]
    }
   ],
   "source": [
    "import numpy as np\n",
    "import pandas as pd\n",
    "\n",
    "df=pd.read_csv(\"./survey_results_public.csv\")\n",
    "\n",
    "print(f\"{len(df)} - rows, {df.shape[1]} - columns\")\n",
    "print(df.shape)"
   ]
  },
  {
   "cell_type": "code",
   "execution_count": 2,
   "id": "threatened-polish",
   "metadata": {},
   "outputs": [],
   "source": [
    "## reset_index() converts series to a dataframe'\n",
    "study = df['CousinEducation'].value_counts().reset_index()\n",
    "\n",
    "##Renames columns\n",
    "study.rename(columns={'index': 'method', 'CousinEducation': 'count'}, inplace=True)\n",
    "\n",
    "#makes a column the index\n",
    "study.set_index('method')"
   ]
  },
  {
   "cell_type": "code",
   "execution_count": 4,
   "id": "sunrise-organ",
   "metadata": {},
   "outputs": [
    {
     "data": {
      "text/plain": [
       "4398"
      ]
     },
     "execution_count": 4,
     "metadata": {},
     "output_type": "execute_result"
    }
   ],
   "source": [
    "#apply on a series applies to each cell\n",
    "#apply on a DF applies to each column if axis=0\n",
    "df['FormalEducation'].apply(lambda x: True if  x in (\"Master's degree\",\"Professional degree\") else False).sum()"
   ]
  },
  {
   "cell_type": "code",
   "execution_count": 3,
   "id": "enclosed-justice",
   "metadata": {},
   "outputs": [
    {
     "data": {
      "text/plain": [
       "EmploymentStatus\n",
       "Employed full-time                                      6.980608\n",
       "Employed part-time                                      6.846154\n",
       "I prefer not to say                                          NaN\n",
       "Independent contractor, freelancer, or self-employed    7.231985\n",
       "Not employed, and not looking for work                       NaN\n",
       "Not employed, but looking for work                           NaN\n",
       "Retired                                                      NaN\n",
       "Name: JobSatisfaction, dtype: float64"
      ]
     },
     "execution_count": 3,
     "metadata": {},
     "output_type": "execute_result"
    }
   ],
   "source": [
    "df.groupby(['EmploymentStatus']).mean()['JobSatisfaction']\n",
    "\n",
    "#groups.sum()/groups.count() ==  groups.mean()\n"
   ]
  },
  {
   "cell_type": "code",
   "execution_count": 13,
   "id": "identical-hearts",
   "metadata": {},
   "outputs": [
    {
     "data": {
      "text/plain": [
       "['Respondent',\n",
       " 'Professional',\n",
       " 'ProgramHobby',\n",
       " 'Country',\n",
       " 'University',\n",
       " 'EmploymentStatus',\n",
       " 'FormalEducation',\n",
       " 'MajorUndergrad',\n",
       " 'HomeRemote',\n",
       " 'CompanySize',\n",
       " 'CompanyType',\n",
       " 'YearsProgram',\n",
       " 'YearsCodedJob',\n",
       " 'YearsCodedJobPast',\n",
       " 'DeveloperType',\n",
       " 'WebDeveloperType',\n",
       " 'MobileDeveloperType',\n",
       " 'NonDeveloperType',\n",
       " 'CareerSatisfaction',\n",
       " 'JobSatisfaction',\n",
       " 'ExCoderReturn',\n",
       " 'ExCoderNotForMe',\n",
       " 'ExCoderBalance',\n",
       " 'ExCoder10Years',\n",
       " 'ExCoderBelonged',\n",
       " 'ExCoderSkills',\n",
       " 'ExCoderWillNotCode',\n",
       " 'ExCoderActive',\n",
       " 'PronounceGIF',\n",
       " 'ProblemSolving',\n",
       " 'BuildingThings',\n",
       " 'LearningNewTech',\n",
       " 'BoringDetails',\n",
       " 'JobSecurity',\n",
       " 'DiversityImportant',\n",
       " 'AnnoyingUI',\n",
       " 'FriendsDevelopers',\n",
       " 'RightWrongWay',\n",
       " 'UnderstandComputers',\n",
       " 'SeriousWork',\n",
       " 'InvestTimeTools',\n",
       " 'WorkPayCare',\n",
       " 'KinshipDevelopers',\n",
       " 'ChallengeMyself',\n",
       " 'CompetePeers',\n",
       " 'ChangeWorld',\n",
       " 'JobSeekingStatus',\n",
       " 'HoursPerWeek',\n",
       " 'LastNewJob',\n",
       " 'AssessJobIndustry',\n",
       " 'AssessJobRole',\n",
       " 'AssessJobExp',\n",
       " 'AssessJobDept',\n",
       " 'AssessJobTech',\n",
       " 'AssessJobProjects',\n",
       " 'AssessJobCompensation',\n",
       " 'AssessJobOffice',\n",
       " 'AssessJobCommute',\n",
       " 'AssessJobRemote',\n",
       " 'AssessJobLeaders',\n",
       " 'AssessJobProfDevel',\n",
       " 'AssessJobDiversity',\n",
       " 'AssessJobProduct',\n",
       " 'AssessJobFinances',\n",
       " 'ImportantBenefits',\n",
       " 'ClickyKeys',\n",
       " 'JobProfile',\n",
       " 'ResumePrompted',\n",
       " 'LearnedHiring',\n",
       " 'ImportantHiringAlgorithms',\n",
       " 'ImportantHiringTechExp',\n",
       " 'ImportantHiringCommunication',\n",
       " 'ImportantHiringOpenSource',\n",
       " 'ImportantHiringPMExp',\n",
       " 'ImportantHiringCompanies',\n",
       " 'ImportantHiringTitles',\n",
       " 'ImportantHiringEducation',\n",
       " 'ImportantHiringRep',\n",
       " 'ImportantHiringGettingThingsDone',\n",
       " 'Currency',\n",
       " 'Overpaid',\n",
       " 'TabsSpaces',\n",
       " 'EducationImportant',\n",
       " 'EducationTypes',\n",
       " 'SelfTaughtTypes',\n",
       " 'TimeAfterBootcamp',\n",
       " 'CousinEducation',\n",
       " 'WorkStart',\n",
       " 'HaveWorkedLanguage',\n",
       " 'WantWorkLanguage',\n",
       " 'HaveWorkedFramework',\n",
       " 'WantWorkFramework',\n",
       " 'HaveWorkedDatabase',\n",
       " 'WantWorkDatabase',\n",
       " 'HaveWorkedPlatform',\n",
       " 'WantWorkPlatform',\n",
       " 'IDE',\n",
       " 'AuditoryEnvironment',\n",
       " 'Methodology',\n",
       " 'VersionControl',\n",
       " 'CheckInCode',\n",
       " 'ShipIt',\n",
       " 'OtherPeoplesCode',\n",
       " 'ProjectManagement',\n",
       " 'EnjoyDebugging',\n",
       " 'InTheZone',\n",
       " 'DifficultCommunication',\n",
       " 'CollaborateRemote',\n",
       " 'MetricAssess',\n",
       " 'EquipmentSatisfiedMonitors',\n",
       " 'EquipmentSatisfiedCPU',\n",
       " 'EquipmentSatisfiedRAM',\n",
       " 'EquipmentSatisfiedStorage',\n",
       " 'EquipmentSatisfiedRW',\n",
       " 'InfluenceInternet',\n",
       " 'InfluenceWorkstation',\n",
       " 'InfluenceHardware',\n",
       " 'InfluenceServers',\n",
       " 'InfluenceTechStack',\n",
       " 'InfluenceDeptTech',\n",
       " 'InfluenceVizTools',\n",
       " 'InfluenceDatabase',\n",
       " 'InfluenceCloud',\n",
       " 'InfluenceConsultants',\n",
       " 'InfluenceRecruitment',\n",
       " 'InfluenceCommunication',\n",
       " 'StackOverflowDescribes',\n",
       " 'StackOverflowSatisfaction',\n",
       " 'StackOverflowDevices',\n",
       " 'StackOverflowFoundAnswer',\n",
       " 'StackOverflowCopiedCode',\n",
       " 'StackOverflowJobListing',\n",
       " 'StackOverflowCompanyPage',\n",
       " 'StackOverflowJobSearch',\n",
       " 'StackOverflowNewQuestion',\n",
       " 'StackOverflowAnswer',\n",
       " 'StackOverflowMetaChat',\n",
       " 'StackOverflowAdsRelevant',\n",
       " 'StackOverflowAdsDistracting',\n",
       " 'StackOverflowModeration',\n",
       " 'StackOverflowCommunity',\n",
       " 'StackOverflowHelpful',\n",
       " 'StackOverflowBetter',\n",
       " 'StackOverflowWhatDo',\n",
       " 'StackOverflowMakeMoney',\n",
       " 'Gender',\n",
       " 'HighestEducationParents',\n",
       " 'Race',\n",
       " 'SurveyLong',\n",
       " 'QuestionsInteresting',\n",
       " 'QuestionsConfusing',\n",
       " 'InterestedAnswers',\n",
       " 'Salary',\n",
       " 'ExpectedSalary']"
      ]
     },
     "execution_count": 13,
     "metadata": {},
     "output_type": "execute_result"
    }
   ],
   "source": [
    "## convert to list\n",
    "list(df.columns)"
   ]
  },
  {
   "cell_type": "code",
   "execution_count": null,
   "id": "generic-claim",
   "metadata": {},
   "outputs": [],
   "source": [
    "# number of non null values along axis\n",
    "df.count(axis=0) # == df.notnull().sum(axis=0)\n",
    "df.count(axis=1) # == df.notnull().sum(axis=1)"
   ]
  },
  {
   "cell_type": "code",
   "execution_count": 12,
   "id": "english-original",
   "metadata": {},
   "outputs": [
    {
     "data": {
      "text/html": [
       "<div>\n",
       "<style scoped>\n",
       "    .dataframe tbody tr th:only-of-type {\n",
       "        vertical-align: middle;\n",
       "    }\n",
       "\n",
       "    .dataframe tbody tr th {\n",
       "        vertical-align: top;\n",
       "    }\n",
       "\n",
       "    .dataframe thead th {\n",
       "        text-align: right;\n",
       "    }\n",
       "</style>\n",
       "<table border=\"1\" class=\"dataframe\">\n",
       "  <thead>\n",
       "    <tr style=\"text-align: right;\">\n",
       "      <th></th>\n",
       "      <th>Respondent</th>\n",
       "      <th>Professional</th>\n",
       "      <th>ProgramHobby</th>\n",
       "      <th>Country</th>\n",
       "      <th>University</th>\n",
       "      <th>EmploymentStatus</th>\n",
       "      <th>FormalEducation</th>\n",
       "      <th>MajorUndergrad</th>\n",
       "      <th>HomeRemote</th>\n",
       "      <th>CompanySize</th>\n",
       "      <th>...</th>\n",
       "      <th>StackOverflowMakeMoney</th>\n",
       "      <th>Gender</th>\n",
       "      <th>HighestEducationParents</th>\n",
       "      <th>Race</th>\n",
       "      <th>SurveyLong</th>\n",
       "      <th>QuestionsInteresting</th>\n",
       "      <th>QuestionsConfusing</th>\n",
       "      <th>InterestedAnswers</th>\n",
       "      <th>Salary</th>\n",
       "      <th>ExpectedSalary</th>\n",
       "    </tr>\n",
       "  </thead>\n",
       "  <tbody>\n",
       "    <tr>\n",
       "      <th>666</th>\n",
       "      <td>667</td>\n",
       "      <td>Professional non-developer who sometimes write...</td>\n",
       "      <td>Yes, both</td>\n",
       "      <td>United States</td>\n",
       "      <td>No</td>\n",
       "      <td>Employed full-time</td>\n",
       "      <td>Bachelor's degree</td>\n",
       "      <td>Information technology, networking, or system ...</td>\n",
       "      <td>Never</td>\n",
       "      <td>Fewer than 10 employees</td>\n",
       "      <td>...</td>\n",
       "      <td>Strongly disagree</td>\n",
       "      <td>Male</td>\n",
       "      <td>High school</td>\n",
       "      <td>White or of European descent</td>\n",
       "      <td>Strongly disagree</td>\n",
       "      <td>Agree</td>\n",
       "      <td>Strongly disagree</td>\n",
       "      <td>Strongly agree</td>\n",
       "      <td>NaN</td>\n",
       "      <td>NaN</td>\n",
       "    </tr>\n",
       "    <tr>\n",
       "      <th>2489</th>\n",
       "      <td>2490</td>\n",
       "      <td>Professional developer</td>\n",
       "      <td>Yes, I program as a hobby</td>\n",
       "      <td>Japan</td>\n",
       "      <td>No</td>\n",
       "      <td>Employed full-time</td>\n",
       "      <td>Professional degree</td>\n",
       "      <td>Something else</td>\n",
       "      <td>Never</td>\n",
       "      <td>20 to 99 employees</td>\n",
       "      <td>...</td>\n",
       "      <td>Disagree</td>\n",
       "      <td>Male</td>\n",
       "      <td>A professional degree</td>\n",
       "      <td>East Asian</td>\n",
       "      <td>Agree</td>\n",
       "      <td>Agree</td>\n",
       "      <td>Strongly disagree</td>\n",
       "      <td>Strongly agree</td>\n",
       "      <td>26213.845218</td>\n",
       "      <td>NaN</td>\n",
       "    </tr>\n",
       "    <tr>\n",
       "      <th>16772</th>\n",
       "      <td>16773</td>\n",
       "      <td>Professional developer</td>\n",
       "      <td>Yes, I program as a hobby</td>\n",
       "      <td>Iran</td>\n",
       "      <td>No</td>\n",
       "      <td>Employed full-time</td>\n",
       "      <td>Bachelor's degree</td>\n",
       "      <td>Mathematics or statistics</td>\n",
       "      <td>Never</td>\n",
       "      <td>10 to 19 employees</td>\n",
       "      <td>...</td>\n",
       "      <td>Strongly disagree</td>\n",
       "      <td>Male</td>\n",
       "      <td>High school</td>\n",
       "      <td>NaN</td>\n",
       "      <td>Strongly agree</td>\n",
       "      <td>Agree</td>\n",
       "      <td>Disagree</td>\n",
       "      <td>Strongly disagree</td>\n",
       "      <td>385.873927</td>\n",
       "      <td>NaN</td>\n",
       "    </tr>\n",
       "  </tbody>\n",
       "</table>\n",
       "<p>3 rows × 154 columns</p>\n",
       "</div>"
      ],
      "text/plain": [
       "       Respondent                                       Professional  \\\n",
       "666           667  Professional non-developer who sometimes write...   \n",
       "2489         2490                             Professional developer   \n",
       "16772       16773                             Professional developer   \n",
       "\n",
       "                    ProgramHobby        Country University  \\\n",
       "666                    Yes, both  United States         No   \n",
       "2489   Yes, I program as a hobby          Japan         No   \n",
       "16772  Yes, I program as a hobby           Iran         No   \n",
       "\n",
       "         EmploymentStatus      FormalEducation  \\\n",
       "666    Employed full-time    Bachelor's degree   \n",
       "2489   Employed full-time  Professional degree   \n",
       "16772  Employed full-time    Bachelor's degree   \n",
       "\n",
       "                                          MajorUndergrad HomeRemote  \\\n",
       "666    Information technology, networking, or system ...      Never   \n",
       "2489                                      Something else      Never   \n",
       "16772                          Mathematics or statistics      Never   \n",
       "\n",
       "                   CompanySize  ... StackOverflowMakeMoney Gender  \\\n",
       "666    Fewer than 10 employees  ...      Strongly disagree   Male   \n",
       "2489        20 to 99 employees  ...               Disagree   Male   \n",
       "16772       10 to 19 employees  ...      Strongly disagree   Male   \n",
       "\n",
       "      HighestEducationParents                          Race  \\\n",
       "666               High school  White or of European descent   \n",
       "2489    A professional degree                    East Asian   \n",
       "16772             High school                           NaN   \n",
       "\n",
       "              SurveyLong QuestionsInteresting QuestionsConfusing  \\\n",
       "666    Strongly disagree                Agree  Strongly disagree   \n",
       "2489               Agree                Agree  Strongly disagree   \n",
       "16772     Strongly agree                Agree           Disagree   \n",
       "\n",
       "       InterestedAnswers        Salary  ExpectedSalary  \n",
       "666       Strongly agree           NaN             NaN  \n",
       "2489      Strongly agree  26213.845218             NaN  \n",
       "16772  Strongly disagree    385.873927             NaN  \n",
       "\n",
       "[3 rows x 154 columns]"
      ]
     },
     "execution_count": 12,
     "metadata": {},
     "output_type": "execute_result"
    }
   ],
   "source": [
    "## OR condition in columns, you can further use 'how' with a subset of columns\n",
    "df.dropna(axis=0,subset=[df.columns[13],df.columns[12]],how='any')"
   ]
  },
  {
   "cell_type": "code",
   "execution_count": 6,
   "id": "auburn-transcription",
   "metadata": {},
   "outputs": [
    {
     "data": {
      "image/png": "[encoded data removed]",
      "text/plain": [
       "<Figure size 432x288 with 2 Axes>"
      ]
     },
     "metadata": {
      "needs_background": "light"
     },
     "output_type": "display_data"
    }
   ],
   "source": [
    "import seaborn as sns\n",
    "sns.heatmap(df.corr(), annot=True, fmt=\".2f\");"
   ]
  },
  {
   "cell_type": "code",
   "execution_count": 9,
   "id": "handy-budget",
   "metadata": {},
   "outputs": [
    {
     "data": {
      "text/plain": [
       "<AxesSubplot:>"
      ]
     },
     "execution_count": 9,
     "metadata": {},
     "output_type": "execute_result"
    },
    {
     "data": {
      "image/png": "[encoded data removed]",
      "text/plain": [
       "<Figure size 432x288 with 1 Axes>"
      ]
     },
     "metadata": {
      "needs_background": "light"
     },
     "output_type": "display_data"
    }
   ],
   "source": [
    "df.hist() ## works on quantitaive  columns /?\n"
   ]
  },
  {
   "cell_type": "code",
   "execution_count": 11,
   "id": "authentic-steam",
   "metadata": {},
   "outputs": [
    {
     "data": {
      "text/plain": [
       "<AxesSubplot:>"
      ]
     },
     "execution_count": 11,
     "metadata": {},
     "output_type": "execute_result"
    },
    {
     "data": {
      "image/png": "[encoded data removed]",
      "text/plain": [
       "<Figure size 432x288 with 1 Axes>"
      ]
     },
     "metadata": {
      "needs_background": "light"
     },
     "output_type": "display_data"
    }
   ],
   "source": [
    "df.boxplot()"
   ]
  },
  {
   "cell_type": "code",
   "execution_count": 17,
   "id": "eleven-routine",
   "metadata": {},
   "outputs": [
    {
     "data": {
      "text/plain": [
       "58341.39857056923"
      ]
     },
     "execution_count": 17,
     "metadata": {},
     "output_type": "execute_result"
    }
   ],
   "source": [
    "df['Salary'].mean(skipna=True)"
   ]
  },
  {
   "cell_type": "code",
   "execution_count": 16,
   "id": "floppy-marriage",
   "metadata": {},
   "outputs": [
    {
     "data": {
      "text/plain": [
       "nan"
      ]
     },
     "execution_count": 16,
     "metadata": {},
     "output_type": "execute_result"
    }
   ],
   "source": [
    "df['Salary'].mean(skipna=False)"
   ]
  },
  {
   "cell_type": "code",
   "execution_count": 21,
   "id": "closing-october",
   "metadata": {},
   "outputs": [
    {
     "name": "stdout",
     "output_type": "stream",
     "text": [
      "(1,)\n",
      "()\n"
     ]
    }
   ],
   "source": [
    "#The mode is the value that appears most often. There can be multiple modes.\n",
    "#mean is single\n",
    "#mode can be multiple\n",
    "print(df['FormalEducation'].mode().shape) # is an array\n",
    "print(df['JobSatisfaction'].mean().shape)"
   ]
  },
  {
   "cell_type": "code",
   "execution_count": null,
   "id": "attempted-wagner",
   "metadata": {},
   "outputs": [],
   "source": []
  }
 ],
 "metadata": {
  "kernelspec": {
   "display_name": "Python 3",
   "language": "python",
   "name": "python3"
  },
  "language_info": {
   "codemirror_mode": {
    "name": "ipython",
    "version": 3
   },
   "file_extension": ".py",
   "mimetype": "text/x-python",
   "name": "python",
   "nbconvert_exporter": "python",
   "pygments_lexer": "ipython3",
   "version": "3.9.1"
  }
 },
 "nbformat": 4,
 "nbformat_minor": 5
}
