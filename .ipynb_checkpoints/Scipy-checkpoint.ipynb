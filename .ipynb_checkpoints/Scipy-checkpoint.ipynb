{
 "cells": [
  {
   "cell_type": "code",
   "execution_count": 10,
   "id": "monthly-thirty",
   "metadata": {},
   "outputs": [],
   "source": [
    "import scipy.stats \n",
    "from scipy.stats import spearmanr\n",
    "from scipy.stats import kendalltau\n"
   ]
  },
  {
   "cell_type": "code",
   "execution_count": 9,
   "id": "endangered-server",
   "metadata": {},
   "outputs": [
    {
     "data": {
      "text/plain": [
       "(SpearmanrResult(correlation=1.0, pvalue=0.0),\n",
       " SpearmanrResult(correlation=1.0, pvalue=0.0),\n",
       " SpearmanrResult(correlation=0.39999999999999997, pvalue=0.6))"
      ]
     },
     "execution_count": 9,
     "metadata": {},
     "output_type": "execute_result"
    }
   ],
   "source": [
    "spearmanr([1,2,3,4],[6,7,8,9]) ,\\\n",
    "spearmanr([1,3,-3,4],[6,7,-8,9]),\\\n",
    "spearmanr([1,3,-3,4],[6,7,8,9])"
   ]
  },
  {
   "cell_type": "code",
   "execution_count": 11,
   "id": "activated-injection",
   "metadata": {},
   "outputs": [
    {
     "data": {
      "text/plain": [
       "(KendalltauResult(correlation=1.0, pvalue=0.08333333333333333),\n",
       " KendalltauResult(correlation=1.0, pvalue=0.08333333333333333),\n",
       " KendalltauResult(correlation=0.3333333333333334, pvalue=0.75))"
      ]
     },
     "execution_count": 11,
     "metadata": {},
     "output_type": "execute_result"
    }
   ],
   "source": [
    "kendalltau([1,2,3,4],[6,7,8,9]) ,\\\n",
    "kendalltau([1,3,-3,4],[6,7,-8,9]),\\\n",
    "kendalltau([1,3,-3,4],[6,7,8,9])"
   ]
  },
  {
   "cell_type": "code",
   "execution_count": null,
   "id": "combined-process",
   "metadata": {},
   "outputs": [],
   "source": []
  }
 ],
 "metadata": {
  "kernelspec": {
   "display_name": "Python 3",
   "language": "python",
   "name": "python3"
  },
  "language_info": {
   "codemirror_mode": {
    "name": "ipython",
    "version": 3
   },
   "file_extension": ".py",
   "mimetype": "text/x-python",
   "name": "python",
   "nbconvert_exporter": "python",
   "pygments_lexer": "ipython3",
   "version": "3.9.1"
  }
 },
 "nbformat": 4,
 "nbformat_minor": 5
}
