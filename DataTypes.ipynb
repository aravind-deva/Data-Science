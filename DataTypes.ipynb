{
 "cells": [
  {
   "cell_type": "markdown",
   "id": "480f1fbc",
   "metadata": {},
   "source": [
    "### Timestamp.timestamp -> A universal specific point in time - epoch/unix time -> time elapsed since 1970\n",
    "### Datetime -> Wall Clock time -> can be the time in a timezone such as UTC, IST, GMT,EST etc"
   ]
  },
  {
   "cell_type": "code",
   "execution_count": null,
   "id": "93405ddd",
   "metadata": {},
   "outputs": [],
   "source": [
    "from datetime import datetime\n",
    "datetime.utcnow().strftime(\"%Y-%m-%dT%H:%M:%S.%fZ\")\n"
   ]
  },
  {
   "cell_type": "code",
   "execution_count": 3,
   "id": "f398ac31",
   "metadata": {},
   "outputs": [
    {
     "data": {
      "text/html": [
       "<div>\n",
       "<style scoped>\n",
       "    .dataframe tbody tr th:only-of-type {\n",
       "        vertical-align: middle;\n",
       "    }\n",
       "\n",
       "    .dataframe tbody tr th {\n",
       "        vertical-align: top;\n",
       "    }\n",
       "\n",
       "    .dataframe thead th {\n",
       "        text-align: right;\n",
       "    }\n",
       "</style>\n",
       "<table border=\"1\" class=\"dataframe\">\n",
       "  <thead>\n",
       "    <tr style=\"text-align: right;\">\n",
       "      <th></th>\n",
       "      <th>date</th>\n",
       "    </tr>\n",
       "  </thead>\n",
       "  <tbody>\n",
       "    <tr>\n",
       "      <th>0</th>\n",
       "      <td>2023-10-03</td>\n",
       "    </tr>\n",
       "    <tr>\n",
       "      <th>1</th>\n",
       "      <td>2023-10-04</td>\n",
       "    </tr>\n",
       "  </tbody>\n",
       "</table>\n",
       "</div>"
      ],
      "text/plain": [
       "         date\n",
       "0  2023-10-03\n",
       "1  2023-10-04"
      ]
     },
     "execution_count": 3,
     "metadata": {},
     "output_type": "execute_result"
    }
   ],
   "source": [
    "import pandas as pd\n",
    "df=pd.DataFrame()\n",
    "df['date'] = ['2023-10-03','2023-10-04']\n",
    "df"
   ]
  },
  {
   "cell_type": "code",
   "execution_count": 7,
   "id": "8a2d6e3e",
   "metadata": {},
   "outputs": [
    {
     "data": {
      "text/plain": [
       "0   2023-10-03\n",
       "1   2023-10-04\n",
       "Name: date, dtype: datetime64[ns]"
      ]
     },
     "execution_count": 7,
     "metadata": {},
     "output_type": "execute_result"
    }
   ],
   "source": [
    "df.date.astype('datetime64[ns]')"
   ]
  },
  {
   "cell_type": "code",
   "execution_count": 10,
   "id": "ad9ba19d",
   "metadata": {},
   "outputs": [
    {
     "name": "stdout",
     "output_type": "stream",
     "text": [
      "Specify UTC =true, to convert mixed timezones to UTC\n"
     ]
    },
    {
     "data": {
      "text/plain": [
       "0   2023-10-03 00:00:00+00:00\n",
       "1   2023-10-04 00:00:00+00:00\n",
       "Name: date, dtype: datetime64[ns, UTC]"
      ]
     },
     "execution_count": 10,
     "metadata": {},
     "output_type": "execute_result"
    }
   ],
   "source": [
    "print('Specify UTC =true, to convert mixed timezones to UTC')\n",
    "pd.to_datetime(df.date,utc=True) "
   ]
  },
  {
   "cell_type": "markdown",
   "id": "715d913f",
   "metadata": {},
   "source": [
    "## use pd.to_datetime for converting a series/vector of values\n",
    "## use pd.TimeStamp for converting a scalar"
   ]
  },
  {
   "cell_type": "code",
   "execution_count": 16,
   "id": "9ca5fb0e",
   "metadata": {},
   "outputs": [
    {
     "data": {
      "text/plain": [
       "(Timestamp('2023-10-03 00:00:00'), datetime.date(2023, 10, 3), 10)"
      ]
     },
     "execution_count": 16,
     "metadata": {},
     "output_type": "execute_result"
    }
   ],
   "source": [
    "pd.Timestamp(df.date[0]),pd.Timestamp(df.date[0]).date(),\\\n",
    "pd.Timestamp(df.date[0]).date().month"
   ]
  },
  {
   "cell_type": "markdown",
   "id": "9828b242",
   "metadata": {},
   "source": [
    "### epoch/unix time -> time elapsed since 1970"
   ]
  },
  {
   "cell_type": "code",
   "execution_count": 18,
   "id": "cd3d5c02",
   "metadata": {},
   "outputs": [
    {
     "data": {
      "text/plain": [
       "1696291200.0"
      ]
     },
     "execution_count": 18,
     "metadata": {},
     "output_type": "execute_result"
    }
   ],
   "source": [
    "pd.Timestamp(df.date[0]).timestamp()\n"
   ]
  }
 ],
 "metadata": {
  "kernelspec": {
   "display_name": "Python 3 (ipykernel)",
   "language": "python",
   "name": "python3"
  },
  "language_info": {
   "codemirror_mode": {
    "name": "ipython",
    "version": 3
   },
   "file_extension": ".py",
   "mimetype": "text/x-python",
   "name": "python",
   "nbconvert_exporter": "python",
   "pygments_lexer": "ipython3",
   "version": "3.9.13"
  }
 },
 "nbformat": 4,
 "nbformat_minor": 5
}
