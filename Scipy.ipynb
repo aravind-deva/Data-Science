{
 "cells": [
  {
   "cell_type": "code",
   "execution_count": 13,
   "id": "opponent-mercury",
   "metadata": {},
   "outputs": [],
   "source": [
    "import scipy.stats \n",
    "from scipy.stats import spearmanr\n",
    "from scipy.stats import kendalltau\n",
    "from numpy import corrcoef\n"
   ]
  },
  {
   "cell_type": "code",
   "execution_count": 9,
   "id": "ecological-language",
   "metadata": {},
   "outputs": [
    {
     "data": {
      "text/plain": [
       "(SpearmanrResult(correlation=1.0, pvalue=0.0),\n",
       " SpearmanrResult(correlation=1.0, pvalue=0.0),\n",
       " SpearmanrResult(correlation=0.39999999999999997, pvalue=0.6))"
      ]
     },
     "execution_count": 9,
     "metadata": {},
     "output_type": "execute_result"
    }
   ],
   "source": [
    "spearmanr([1,2,3,4],[6,7,8,9]) ,\\\n",
    "spearmanr([1,3,-3,4],[6,7,-8,9]),\\\n",
    "spearmanr([1,3,-3,4],[6,7,8,9])"
   ]
  },
  {
   "cell_type": "code",
   "execution_count": 11,
   "id": "streaming-cooperative",
   "metadata": {},
   "outputs": [
    {
     "data": {
      "text/plain": [
       "(KendalltauResult(correlation=1.0, pvalue=0.08333333333333333),\n",
       " KendalltauResult(correlation=1.0, pvalue=0.08333333333333333),\n",
       " KendalltauResult(correlation=0.3333333333333334, pvalue=0.75))"
      ]
     },
     "execution_count": 11,
     "metadata": {},
     "output_type": "execute_result"
    }
   ],
   "source": [
    "kendalltau([1,2,3,4],[6,7,8,9]) ,\\\n",
    "kendalltau([1,3,-3,4],[6,7,-8,9]),\\\n",
    "kendalltau([1,3,-3,4],[6,7,8,9])"
   ]
  },
  {
   "cell_type": "code",
   "execution_count": 14,
   "id": "polyphonic-stake",
   "metadata": {},
   "outputs": [
    {
     "data": {
      "text/plain": [
       "(array([[1., 1.],\n",
       "        [1., 1.]]),\n",
       " array([[1.        , 0.96344426],\n",
       "        [0.96344426, 1.        ]]),\n",
       " array([[1.        , 0.12510865],\n",
       "        [0.12510865, 1.        ]]))"
      ]
     },
     "execution_count": 14,
     "metadata": {},
     "output_type": "execute_result"
    }
   ],
   "source": [
    "corrcoef([1,2,3,4],[6,7,8,9]) ,\\\n",
    "corrcoef([1,3,-3,4],[6,7,-8,9]),\\\n",
    "corrcoef([1,3,-3,4],[6,7,8,9])"
   ]
  },
  {
   "cell_type": "code",
   "execution_count": 17,
   "id": "automatic-macro",
   "metadata": {},
   "outputs": [
    {
     "data": {
      "text/plain": [
       "array([[ 1.        , -0.81088485],\n",
       "       [-0.81088485,  1.        ]])"
      ]
     },
     "execution_count": 17,
     "metadata": {},
     "output_type": "execute_result"
    }
   ],
   "source": [
    "corrcoef([[1,2,3],[3,4,-5]])"
   ]
  }
 ],
 "metadata": {
  "kernelspec": {
   "display_name": "Python 3",
   "language": "python",
   "name": "python3"
  },
  "language_info": {
   "codemirror_mode": {
    "name": "ipython",
    "version": 3
   },
   "file_extension": ".py",
   "mimetype": "text/x-python",
   "name": "python",
   "nbconvert_exporter": "python",
   "pygments_lexer": "ipython3",
   "version": "3.9.1"
  }
 },
 "nbformat": 4,
 "nbformat_minor": 5
}
