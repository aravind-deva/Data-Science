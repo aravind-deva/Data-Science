{
 "cells": [
  {
   "cell_type": "code",
   "execution_count": 4,
   "id": "b8e5fa7f",
   "metadata": {},
   "outputs": [],
   "source": [
    "from datetime import datetime\n",
    "import pandas as pd"
   ]
  },
  {
   "cell_type": "code",
   "execution_count": 10,
   "id": "35c22673",
   "metadata": {},
   "outputs": [
    {
     "data": {
      "text/plain": [
       "(datetime.datetime(2023, 12, 2, 14, 44, 27, 209593), datetime.datetime)"
      ]
     },
     "execution_count": 10,
     "metadata": {},
     "output_type": "execute_result"
    }
   ],
   "source": [
    "datetime.now(),\\\n"
   ]
  },
  {
   "cell_type": "code",
   "execution_count": 12,
   "id": "cc51a8eb",
   "metadata": {},
   "outputs": [
    {
     "data": {
      "text/plain": [
       "datetime.datetime"
      ]
     },
     "execution_count": 12,
     "metadata": {},
     "output_type": "execute_result"
    }
   ],
   "source": [
    "type(datetime.now())"
   ]
  },
  {
   "cell_type": "code",
   "execution_count": 31,
   "id": "e2f35c68",
   "metadata": {},
   "outputs": [
    {
     "data": {
      "text/plain": [
       "'12-02-2023T14:50:18359425Z'"
      ]
     },
     "execution_count": 31,
     "metadata": {},
     "output_type": "execute_result"
    }
   ],
   "source": [
    "date_format=\"%m-%d-%YT%H:%M:%S%fZ\"\n",
    "\n",
    "datetime.now().strftime(date_format) ## format as string"
   ]
  },
  {
   "cell_type": "code",
   "execution_count": 33,
   "id": "4317c582",
   "metadata": {},
   "outputs": [
    {
     "data": {
      "text/plain": [
       "datetime.datetime(2023, 12, 2, 14, 50, 18, 359425)"
      ]
     },
     "execution_count": 33,
     "metadata": {},
     "output_type": "execute_result"
    }
   ],
   "source": [
    "date_string='12-02-2023T14:50:18359425Z'\n",
    "\n",
    "datetime.strptime(date_string,date_format) ## parse from string\n"
   ]
  },
  {
   "cell_type": "code",
   "execution_count": 35,
   "id": "546a2244",
   "metadata": {},
   "outputs": [
    {
     "data": {
      "text/plain": [
       "datetime.datetime(2021, 9, 13, 8, 30, 57, tzinfo=datetime.timezone(datetime.timedelta(seconds=3600)))"
      ]
     },
     "execution_count": 35,
     "metadata": {},
     "output_type": "execute_result"
    }
   ],
   "source": [
    "date_format2 = '%a %b %d %H:%M:%S %Y %z'\n",
    "datetime.strptime(\"Mon Sep 13 08:30:57 2021 +0100\",date_format2) ## parse from string"
   ]
  },
  {
   "cell_type": "code",
   "execution_count": 14,
   "id": "668be4ee",
   "metadata": {},
   "outputs": [
    {
     "data": {
      "text/plain": [
       "Timestamp('2018-02-23 00:00:00')"
      ]
     },
     "execution_count": 14,
     "metadata": {},
     "output_type": "execute_result"
    }
   ],
   "source": [
    "pd.to_datetime('2018-02-23')"
   ]
  },
  {
   "cell_type": "code",
   "execution_count": 15,
   "id": "2cb578c5",
   "metadata": {
    "scrolled": true
   },
   "outputs": [
    {
     "data": {
      "text/plain": [
       "1519344000.0"
      ]
     },
     "execution_count": 15,
     "metadata": {},
     "output_type": "execute_result"
    }
   ],
   "source": [
    "pd.to_datetime('2018-02-23').timestamp()"
   ]
  },
  {
   "cell_type": "code",
   "execution_count": 27,
   "id": "45b45884",
   "metadata": {},
   "outputs": [
    {
     "data": {
      "text/plain": [
       "datetime.date(2018, 2, 23)"
      ]
     },
     "execution_count": 27,
     "metadata": {},
     "output_type": "execute_result"
    }
   ],
   "source": [
    "pd.to_datetime('2018-02-23').date()"
   ]
  },
  {
   "cell_type": "code",
   "execution_count": 29,
   "id": "41fffe68",
   "metadata": {},
   "outputs": [
    {
     "data": {
      "text/plain": [
       "Timestamp('2018-02-23 00:00:00')"
      ]
     },
     "execution_count": 29,
     "metadata": {},
     "output_type": "execute_result"
    }
   ],
   "source": [
    "pd.Timestamp('2018-02-23')"
   ]
  },
  {
   "cell_type": "code",
   "execution_count": 28,
   "id": "3d5dab83",
   "metadata": {},
   "outputs": [
    {
     "data": {
      "text/plain": [
       "datetime.IsoCalendarDate(year=2018, week=8, weekday=5)"
      ]
     },
     "execution_count": 28,
     "metadata": {},
     "output_type": "execute_result"
    }
   ],
   "source": [
    "pd.Timestamp('2018-02-23').date().isocalendar()"
   ]
  },
  {
   "cell_type": "code",
   "execution_count": 36,
   "id": "c29cd985",
   "metadata": {},
   "outputs": [
    {
     "data": {
      "text/plain": [
       "datetime.IsoCalendarDate(year=2022, week=52, weekday=7)"
      ]
     },
     "execution_count": 36,
     "metadata": {},
     "output_type": "execute_result"
    }
   ],
   "source": [
    "pd.Timestamp('2023-01-01').date().isocalendar()\n"
   ]
  },
  {
   "cell_type": "code",
   "execution_count": 41,
   "id": "1728f1fa",
   "metadata": {},
   "outputs": [
    {
     "data": {
      "text/plain": [
       "2023"
      ]
     },
     "execution_count": 41,
     "metadata": {},
     "output_type": "execute_result"
    }
   ],
   "source": [
    "pd.Timestamp('2023-01-01').date().year"
   ]
  },
  {
   "cell_type": "code",
   "execution_count": 37,
   "id": "d5ba1b9b",
   "metadata": {},
   "outputs": [
    {
     "data": {
      "text/plain": [
       "datetime.IsoCalendarDate(year=2023, week=1, weekday=1)"
      ]
     },
     "execution_count": 37,
     "metadata": {},
     "output_type": "execute_result"
    }
   ],
   "source": [
    "pd.Timestamp('2023-01-02').date().isocalendar()\n"
   ]
  },
  {
   "cell_type": "code",
   "execution_count": 43,
   "id": "b6b092bd",
   "metadata": {},
   "outputs": [
    {
     "data": {
      "text/plain": [
       "2022"
      ]
     },
     "execution_count": 43,
     "metadata": {},
     "output_type": "execute_result"
    }
   ],
   "source": [
    "pd.Timestamp('2023-01-01').date().isocalendar().year"
   ]
  }
 ],
 "metadata": {
  "kernelspec": {
   "display_name": "Python 3 (ipykernel)",
   "language": "python",
   "name": "python3"
  },
  "language_info": {
   "codemirror_mode": {
    "name": "ipython",
    "version": 3
   },
   "file_extension": ".py",
   "mimetype": "text/x-python",
   "name": "python",
   "nbconvert_exporter": "python",
   "pygments_lexer": "ipython3",
   "version": "3.9.13"
  }
 },
 "nbformat": 4,
 "nbformat_minor": 5
}
