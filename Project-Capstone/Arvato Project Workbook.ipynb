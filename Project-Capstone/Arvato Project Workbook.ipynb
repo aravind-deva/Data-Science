{
 "cells": [
  {
   "cell_type": "markdown",
   "metadata": {},
   "source": [
    "# Capstone Project: Create a Customer Segmentation Report for Arvato Financial Services\n",
    "\n",
    "In this project, you will analyze demographics data for customers of a mail-order sales company in Germany, comparing it against demographics information for the general population. You'll use unsupervised learning techniques to perform customer segmentation, identifying the parts of the population that best describe the core customer base of the company. Then, you'll apply what you've learned on a third dataset with demographics information for targets of a marketing campaign for the company, and use a model to predict which individuals are most likely to convert into becoming customers for the company. The data that you will use has been provided by our partners at Bertelsmann Arvato Analytics, and represents a real-life data science task.\n",
    "\n",
    "If you completed the first term of this program, you will be familiar with the first part of this project, from the unsupervised learning project. The versions of those two datasets used in this project will include many more features and has not been pre-cleaned. You are also free to choose whatever approach you'd like to analyzing the data rather than follow pre-determined steps. In your work on this project, make sure that you carefully document your steps and decisions, since your main deliverable for this project will be a blog post reporting your findings."
   ]
  },
  {
   "cell_type": "code",
   "execution_count": 1,
   "metadata": {},
   "outputs": [
    {
     "name": "stdout",
     "output_type": "stream",
     "text": [
      "Requirement already satisfied: numpy in /opt/conda/lib/python3.6/site-packages (1.19.5)\n",
      "\u001b[33mWARNING: Running pip as the 'root' user can result in broken permissions and conflicting behaviour with the system package manager. It is recommended to use a virtual environment instead: https://pip.pypa.io/warnings/venv\u001b[0m\n",
      "Requirement already satisfied: imbalanced-learn in /opt/conda/lib/python3.6/site-packages (0.8.0)\n",
      "Requirement already satisfied: joblib>=0.11 in /opt/conda/lib/python3.6/site-packages (from imbalanced-learn) (0.11)\n",
      "Requirement already satisfied: scikit-learn>=0.24 in /opt/conda/lib/python3.6/site-packages (from imbalanced-learn) (0.24.2)\n",
      "Requirement already satisfied: scipy>=0.19.1 in /opt/conda/lib/python3.6/site-packages (from imbalanced-learn) (1.2.1)\n",
      "Requirement already satisfied: numpy>=1.13.3 in /opt/conda/lib/python3.6/site-packages (from imbalanced-learn) (1.19.5)\n",
      "Requirement already satisfied: threadpoolctl>=2.0.0 in /opt/conda/lib/python3.6/site-packages (from scikit-learn>=0.24->imbalanced-learn) (2.1.0)\n",
      "\u001b[33mWARNING: Running pip as the 'root' user can result in broken permissions and conflicting behaviour with the system package manager. It is recommended to use a virtual environment instead: https://pip.pypa.io/warnings/venv\u001b[0m\n",
      "Requirement already satisfied: setuptools in /opt/conda/lib/python3.6/site-packages (57.0.0)\n",
      "\u001b[33mWARNING: Running pip as the 'root' user can result in broken permissions and conflicting behaviour with the system package manager. It is recommended to use a virtual environment instead: https://pip.pypa.io/warnings/venv\u001b[0m\n",
      "Requirement already satisfied: pip in /opt/conda/lib/python3.6/site-packages (21.1.3)\n",
      "\u001b[33mWARNING: Running pip as the 'root' user can result in broken permissions and conflicting behaviour with the system package manager. It is recommended to use a virtual environment instead: https://pip.pypa.io/warnings/venv\u001b[0m\n",
      "Requirement already satisfied: xgboost in /opt/conda/lib/python3.6/site-packages (1.4.2)\n",
      "Requirement already satisfied: numpy in /opt/conda/lib/python3.6/site-packages (from xgboost) (1.19.5)\n",
      "Requirement already satisfied: scipy in /opt/conda/lib/python3.6/site-packages (from xgboost) (1.2.1)\n",
      "\u001b[33mWARNING: Running pip as the 'root' user can result in broken permissions and conflicting behaviour with the system package manager. It is recommended to use a virtual environment instead: https://pip.pypa.io/warnings/venv\u001b[0m\n"
     ]
    }
   ],
   "source": [
    "# import libraries here; add more as necessary\n",
    "\n",
    "!pip install -U numpy\n",
    "!pip install imbalanced-learn\n",
    "!pip install --upgrade setuptools\n",
    "!pip install --upgrade pip\n",
    "!pip install xgboost\n",
    "#import sys\n",
    "#!{sys.executable} -m pip install imbalanced-learn\n",
    "\n",
    "import numpy as np\n",
    "import pandas as pd\n",
    "import matplotlib.pyplot as plt\n",
    "import seaborn as sns\n",
    "import sklearn\n",
    "import imblearn\n",
    "\n",
    "from sklearn.decomposition import PCA\n",
    "from sklearn.cluster import KMeans\n",
    "from sklearn.cluster import MiniBatchKMeans\n",
    "from scipy.stats import entropy\n",
    "from sklearn.metrics import silhouette_score\n",
    "\n",
    "import xgboost as xgb\n",
    "from sklearn.linear_model import LogisticRegression\n",
    "from sklearn.metrics import classification_report\n",
    "from sklearn.metrics import roc_auc_score\n",
    "from sklearn.metrics import precision_recall_curve\n",
    "from sklearn.metrics import auc\n",
    "from sklearn.ensemble import AdaBoostClassifier\n",
    "from sklearn.ensemble import RandomForestClassifier\n",
    "from sklearn.ensemble import GradientBoostingClassifier\n",
    "from xgboost import XGBClassifier\n",
    "from sklearn.neighbors import KNeighborsClassifier\n",
    "from sklearn.tree import DecisionTreeClassifier\n",
    "\n",
    "from sklearn.model_selection import train_test_split\n",
    "from sklearn.model_selection import cross_val_score\n",
    "from imblearn.over_sampling import SMOTE\n",
    "from sklearn.model_selection import GridSearchCV\n",
    "\n",
    "from sklearn.preprocessing import StandardScaler\n",
    "from sklearn.preprocessing import RobustScaler\n",
    "\n",
    "# magic word for producing visualizations in notebook\n",
    "%matplotlib inline"
   ]
  },
  {
   "cell_type": "markdown",
   "metadata": {},
   "source": [
    "## Part 0: Get to Know the Data\n",
    "\n",
    "There are four data files associated with this project:\n",
    "\n",
    "- `Udacity_AZDIAS_052018.csv`: Demographics data for the general population of Germany; 891 211 persons (rows) x 366 features (columns).\n",
    "- `Udacity_CUSTOMERS_052018.csv`: Demographics data for customers of a mail-order company; 191 652 persons (rows) x 369 features (columns).\n",
    "- `Udacity_MAILOUT_052018_TRAIN.csv`: Demographics data for individuals who were targets of a marketing campaign; 42 982 persons (rows) x 367 (columns).\n",
    "- `Udacity_MAILOUT_052018_TEST.csv`: Demographics data for individuals who were targets of a marketing campaign; 42 833 persons (rows) x 366 (columns).\n",
    "\n",
    "Each row of the demographics files represents a single person, but also includes information outside of individuals, including information about their household, building, and neighborhood. Use the information from the first two files to figure out how customers (\"CUSTOMERS\") are similar to or differ from the general population at large (\"AZDIAS\"), then use your analysis to make predictions on the other two files (\"MAILOUT\"), predicting which recipients are most likely to become a customer for the mail-order company.\n",
    "\n",
    "The \"CUSTOMERS\" file contains three extra columns ('CUSTOMER_GROUP', 'ONLINE_PURCHASE', and 'PRODUCT_GROUP'), which provide broad information about the customers depicted in the file. The original \"MAILOUT\" file included one additional column, \"RESPONSE\", which indicated whether or not each recipient became a customer of the company. For the \"TRAIN\" subset, this column has been retained, but in the \"TEST\" subset it has been removed; it is against that withheld column that your final predictions will be assessed in the Kaggle competition.\n",
    "\n",
    "Otherwise, all of the remaining columns are the same between the three data files. For more information about the columns depicted in the files, you can refer to two Excel spreadsheets provided in the workspace. [One of them](./DIAS Information Levels - Attributes 2017.xlsx) is a top-level list of attributes and descriptions, organized by informational category. [The other](./DIAS Attributes - Values 2017.xlsx) is a detailed mapping of data values for each feature in alphabetical order.\n",
    "\n",
    "In the below cell, we've provided some initial code to load in the first two datasets. Note for all of the `.csv` data files in this project that they're semicolon (`;`) delimited, so an additional argument in the [`read_csv()`](https://pandas.pydata.org/pandas-docs/stable/generated/pandas.read_csv.html) call has been included to read in the data properly. Also, considering the size of the datasets, it may take some time for them to load completely.\n",
    "\n",
    "You'll notice when the data is loaded in that a warning message will immediately pop up. Before you really start digging into the modeling and analysis, you're going to need to perform some cleaning. Take some time to browse the structure of the data and look over the informational spreadsheets to understand the data values. Make some decisions on which features to keep, which features to drop, and if any revisions need to be made on data formats. It'll be a good idea to create a function with pre-processing steps, since you'll need to clean all of the datasets before you work with them."
   ]
  },
  {
   "cell_type": "code",
   "execution_count": 2,
   "metadata": {},
   "outputs": [
    {
     "name": "stderr",
     "output_type": "stream",
     "text": [
      "/opt/conda/lib/python3.6/site-packages/IPython/core/interactiveshell.py:2785: DtypeWarning: Columns (18,19) have mixed types. Specify dtype option on import or set low_memory=False.\n",
      "  interactivity=interactivity, compiler=compiler, result=result)\n"
     ]
    }
   ],
   "source": [
    "import workspace_utils\n",
    "from workspace_utils import active_session\n",
    " \n",
    "with active_session():\n",
    "    azdias = pd.read_csv('../../data/Term2/capstone/arvato_data/Udacity_AZDIAS_052018.csv', sep=';')\n",
    "    customers = pd.read_csv('../../data/Term2/capstone/arvato_data/Udacity_CUSTOMERS_052018.csv', sep=';')\n",
    "    # do long-running work here"
   ]
  },
  {
   "cell_type": "markdown",
   "metadata": {},
   "source": [
    "# load in the data\n",
    "azdias = pd.read_csv('../../data/Term2/capstone/arvato_data/Udacity_AZDIAS_052018.csv', sep=';')\n",
    "customers = pd.read_csv('../../data/Term2/capstone/arvato_data/Udacity_CUSTOMERS_052018.csv', sep=';')"
   ]
  },
  {
   "cell_type": "code",
   "execution_count": 3,
   "metadata": {},
   "outputs": [],
   "source": [
    "def seg_entropy(df,col,dropna=True):\n",
    "    '''\n",
    "    INPUT - df - pandas dataframe \n",
    "            col - string - the name of the column to find entryopy\n",
    "    OUTPUT - \n",
    "            entropy - float value\n",
    "    '''\n",
    "    ent=entropy(df[col].value_counts(dropna=dropna))\n",
    "    return ent\n",
    "\n",
    "def unimportant_cols(df,threshold=90):\n",
    "    '''\n",
    "    Not In Use\n",
    "    \n",
    "    INPUT - df - pandas dataframe \n",
    "            threshold - null values more than this threshold\n",
    "    OUTPUT - \n",
    "            columns list - list of columns with more than threshold null values\n",
    "    '''\n",
    "    return df.columns[df.isnull().sum()/df.shape[0] *100.0 > threshold ].tolist()\n",
    "\n",
    "def convert_cols(df,cols=['CAMEO_DEUG_2015','CAMEO_INTL_2015']):\n",
    "    '''\n",
    "    Inplace ,cleans ,transforms,converts data type Classification Attributes \n",
    "    \n",
    "    INPUT - df - pandas dataframe \n",
    "            cols - TBD transform coluns\n",
    "    '''\n",
    "    df_cols=df.columns.tolist()\n",
    "    if 'CAMEO_DEUG_2015' in df_cols:\n",
    "        df.CAMEO_DEUG_2015=df.CAMEO_DEUG_2015.replace('X',-1).astype(float)\n",
    "    if 'CAMEO_INTL_2015' in df_cols:\n",
    "        df.CAMEO_INTL_2015=df.CAMEO_INTL_2015.replace('XX',-1).astype(float)\n",
    "    if 'CAMEO_DEU_2015' in df_cols:\n",
    "        df.CAMEO_DEU_2015=df.CAMEO_DEU_2015.replace(np.nan,-1).replace('XX',-1).astype('str').apply(lambda x: x if x=='-1' else x[0]+ str(ord(x[1])-65)).astype(float)\n",
    "    \n",
    "def replace_nan(df,cols):\n",
    "    '''\n",
    "    INPUT - df - pandas dataframe \n",
    "            cols - cols replaced with median\n",
    "    '''\n",
    "    df_cols=df.columns.tolist()\n",
    "    for col in cols:\n",
    "        if col in df_cols:\n",
    "            med=df[col].median()\n",
    "            df[col]=df[col].replace(np.nan,med)\n",
    "def replace_nan_with_val(df,cols,vals):\n",
    "    '''\n",
    "    INPUT - df - pandas dataframe \n",
    "            cols - cols whose nan is to be replaced \n",
    "            vals - value list\n",
    "    '''\n",
    "    df_cols=df.columns.tolist()\n",
    "    for col,val in zip(cols,vals):\n",
    "        if col in df_cols:\n",
    "            df[col]=df[col].replace(np.nan,val)\n",
    "def replace_nan_with_tuple(df,cols):\n",
    "    '''\n",
    "    INPUT - df - pandas dataframe \n",
    "            (col,val) - tuple col whose nan is to be replaced with val\n",
    "    '''\n",
    "    df_cols=df.columns.tolist()\n",
    "    for col,val in cols:\n",
    "        if col in df_cols:\n",
    "            df[col]=df[col].replace(np.nan,val)\n",
    "def replace_global_nan(df,val):\n",
    "    '''\n",
    "    INPUT - df - pandas dataframe \n",
    "            val - any col whose nan is to be replaced with val\n",
    "    '''\n",
    "    return df.replace(np.nan,val)\n",
    "\n",
    "def get_dumm(df,cols):\n",
    "    '''\n",
    "    INPUT - df - pandas dataframe \n",
    "            cols - cols for one hot encoding\n",
    "    '''\n",
    "    if cols is None:\n",
    "        cols=df.columns.tolist()\n",
    "    return pd.get_dummies(df,columns=cols,prefix=cols,prefix_sep='-',dummy_na=True)\n",
    "\n",
    "def seg_pca(df,dim=100):\n",
    "    '''\n",
    "    INPUT - df - pandas dataframe \n",
    "            dim - num of PCA components\n",
    "    OUTPUT - \n",
    "            pca -PCA fitted object\n",
    "            X - PCA transformed data\n",
    "    '''\n",
    "    pca=PCA(n_components=dim)\n",
    "    X=pca.fit_transform(df)\n",
    "    print(\"explained Variance\")\n",
    "    print(pca.explained_variance_ratio_)\n",
    "    print(pca.explained_variance_ratio_.sum())\n",
    "    return pca,X\n",
    "\n",
    "def kmeans(df,n_clusters=5,random_state=10,batch_size=1000):\n",
    "    '''\n",
    "    INPUT - df - pandas dataframe \n",
    "            n_clusters - num of KMean clusters\n",
    "            random_state\n",
    "            batch_size\n",
    "    OUTPUT - \n",
    "            kmeans- fitted KMeans model\n",
    "            \n",
    "    '''\n",
    "    #kmeans=MiniBatchKMeans(initn_clusters,random_state,batch_size)\n",
    "    kmeans=KMeans(init='k-means++',n_clusters=n_clusters,random_state=random_state)\n",
    "    kmeans.fit(df)\n",
    "    return kmeans\n",
    "\n",
    "def not_null_cols(df):\n",
    "    '''\n",
    "    INPUT - df - pandas dataframe \n",
    "    OUTPUT - List of non-null columns\n",
    "    '''\n",
    "    return df.columns[~df.isnull().any()].tolist()\n",
    "    "
   ]
  },
  {
   "cell_type": "code",
   "execution_count": 4,
   "metadata": {},
   "outputs": [
    {
     "name": "stdout",
     "output_type": "stream",
     "text": [
      "['MIN_GEBAEUDEJAHR', 'D19_LETZTER_KAUF_BRANCHE', 'EINGEZOGENAM_HH_JAHR', 'GEBURTSJAHR', 'LNR', 'EINGEFUEGT_AM']\n"
     ]
    }
   ],
   "source": [
    "#del_cols=unimportant_cols(azdias,90)\n",
    "del_cols=[]\n",
    "time_col='EINGEFUEGT_AM'\n",
    "del_cols.append(time_col)\n",
    "id_col='LNR'\n",
    "del_cols.append(id_col)\n",
    "Unimp_cols=['GEBURTSJAHR','EINGEZOGENAM_HH_JAHR','MIN_GEBAEUDEJAHR','D19_LETZTER_KAUF_BRANCHE']\n",
    "del_cols.extend(Unimp_cols)\n",
    "#del_cols.extend(chosen_cols)\n",
    "del_cols=list(set(del_cols))\n",
    "print(del_cols)\n",
    "azdias=azdias.drop(del_cols,axis=1)\n",
    "customers=customers.drop(del_cols,axis=1)\n",
    "\n"
   ]
  },
  {
   "cell_type": "code",
   "execution_count": 5,
   "metadata": {},
   "outputs": [
    {
     "name": "stdout",
     "output_type": "stream",
     "text": [
      "AGER_TYP 53.13463189451998 % 0.8178341582776804 1.2523873277861717\n",
      "AKT_DAT_KL 42.89168125535079 % 1.4043615815241857 0.8020072883042286\n",
      "ALTER_HH 9.587643818955033 % 2.4907864912820834 2.729594228356857\n",
      "ALTER_KIND1 1.2995673992239676 % 2.697419268211994 2.662364486781925\n",
      "ALTER_KIND2 1.0661517938177274 % 2.4885538542412036 2.462022092684091\n",
      "ALTER_KIND3 0.787794478657518 % 2.291348538803937 2.27329742152844\n",
      "ALTER_KIND4 5.159927389661283 % 2.1459844224192075 2.0352531844289343\n",
      "ALTERSKATEGORIE_FEIN 8.744051671361468 % 2.7672652245479816 2.525294123429889\n",
      "ANZ_HAUSHALTE_AKTIV 29.26926412315785 % 2.9093607654596774 2.0578122787217574\n",
      "ANZ_HH_TITEL 35.289912376113186 % 0.15501762244320297 0.20972320557094326\n",
      "ANZ_KINDER 10.926096251186273 % 0.43151460631460586 0.3843669050907445\n",
      "ANZ_PERSONEN 23.417149132554336 % 1.3557240796777612 1.6731960092418523\n",
      "ANZ_STATISTISCHE_HAUSHALTE 30.080965438629764 % 2.7757071620592852 1.9407476499626606\n",
      "ANZ_TITEL 274.2291429437465 % 0.026459415372509093 0.0990188433764667\n",
      "ARBEIT 1.738755736313534 % 1.3619323517050343 1.3856130285950155\n",
      "BALLRAUM 0.15531471538680502 % 1.8013342984976668 1.7985365612587902\n",
      "CAMEO_DEU_2015 0.10245027511218341 % 3.517318022295719 3.5137145203053066\n",
      "CAMEO_DEUG_2015 4.1508203100957815 % 2.82591857034922 2.708619768384396\n",
      "CAMEO_INTL_2015 1.59896303475714 % 3.4309643090070256 3.3761044579702926\n",
      "CJT_GESAMTTYP 2.2660135827298573 % 1.763746803830248 1.7237800616904908\n",
      "CJT_KATALOGNUTZER 19.28458212744654 % 1.5593075262488687 1.2586015857299506\n",
      "CJT_TYP_1 5.042061323387612 % 1.5536251651063724 1.475290431546127\n",
      "CJT_TYP_2 9.753769517794893 % 1.5844777436274669 1.4299314364532867\n",
      "CJT_TYP_3 41.32289341369471 % 1.5644481752818198 0.9179729232976217\n",
      "CJT_TYP_4 35.93633505181693 % 1.5701273588716789 1.0058811304473083\n",
      "CJT_TYP_5 42.30506078582351 % 1.5572092006421254 0.898430901748038\n",
      "CJT_TYP_6 42.81658319752861 % 1.541100990150453 0.8812542025447472\n",
      "D19_BANKEN_ANZ_12 13.077602995420138 % 0.32798783470107895 0.285094887805597\n",
      "D19_BANKEN_ANZ_24 15.284028331228505 % 0.49325001959263 0.41786154685430227\n",
      "D19_BANKEN_DATUM 11.68941265140021 % 0.9862735578527998 0.8709839718037397\n",
      "D19_BANKEN_DIREKT 21.2048195622147 % 0.743785338913219 0.5860669998664638\n",
      "D19_BANKEN_GROSS 23.17805367880073 % 0.5302167453266692 0.4073228234808636\n",
      "D19_BANKEN_LOKAL 15.68015860241158 % 0.11478870844689895 0.13278775998903253\n",
      "D19_BANKEN_OFFLINE_DATUM 54.86337535609308 % 0.14192696640908925 0.21979289072162403\n",
      "D19_BANKEN_ONLINE_DATUM 25.165029260680015 % 0.8124704198018449 0.6080120009243408\n",
      "D19_BANKEN_ONLINE_QUOTE_12 24.550138389284555 % 0.2688676045820103 0.2028602355731724\n",
      "D19_BANKEN_REST 1.5101521563896632 % 0.37186746294927797 0.377483227459918\n",
      "D19_BEKLEIDUNG_GEH 75.18365804046519 % 0.4428493627988645 0.7757997133599418\n",
      "D19_BEKLEIDUNG_REST 13.076118093593085 % 0.8474393042848588 0.9582514684846706\n",
      "D19_BILDUNG 78.74715295997396 % 0.41596613919470543 0.7435276310880583\n",
      "D19_BIO_OEKO 82.55469802440915 % 0.2173185978882994 0.396725310125865\n",
      "D19_BUCH_CD 26.006843144742465 % 0.9479088340681812 1.1944299976994501\n",
      "D19_DIGIT_SERV 10.301355316122512 % 0.21194323243360452 0.23377625787506554\n",
      "D19_DROGERIEARTIKEL 7.44470051647986 % 0.6620343577350383 0.7113208329846128\n",
      "D19_ENERGIE 32.58903104544513 % 0.35319674334854867 0.46830013968990836\n",
      "D19_FREIZEIT 13.162642328766646 % 0.5076162361187582 0.5744319456818179\n",
      "D19_GARTEN 28.76133686821452 % 0.2377230846619051 0.3060954218550264\n",
      "D19_GESAMT_ANZ_12 11.363222365526083 % 1.1597298199577015 1.2915124982388104\n",
      "D19_GESAMT_ANZ_24 10.261216623670116 % 1.4158206742524284 1.561101100640177\n",
      "D19_GESAMT_DATUM 6.606203289081232 % 1.9530194263794551 2.08203985996133\n",
      "D19_GESAMT_OFFLINE_DATUM 29.356241200231075 % 1.2795802643507537 1.6552169331041153\n",
      "D19_GESAMT_ONLINE_DATUM 4.667207701338063 % 1.7404635599238754 1.821694609231625\n",
      "D19_GESAMT_ONLINE_QUOTE_12 15.000713303016289 % 0.9595944230008555 1.1035404312669472\n",
      "D19_HANDWERK 45.219670031298534 % 0.5043248448088077 0.7323788755172089\n",
      "D19_HAUS_DEKO 34.13969875694629 % 0.7686995427842456 1.0311312510368105\n",
      "D19_KINDERARTIKEL 18.749865234282154 % 0.6522653181589383 0.7745641862837009\n",
      "D19_KONSUMTYP 7.120214587398175 % 1.68533874054233 1.5653390056911622\n",
      "D19_KONSUMTYP_MAX 13.921526441550055 % 1.6418233878890447 1.4132565108205184\n",
      "D19_KOSMETIK 38.70715822769628 % 0.5717132650931877 0.7930072232215365\n",
      "D19_LEBENSMITTEL 57.855964758171 % 0.3064346842913919 0.4837254272418322\n",
      "D19_LOTTO 27.675645356629737 % 0.6740056479191338 0.8605410607208877\n",
      "D19_NAHRUNGSERGAENZUNG 78.82205104450608 % 0.2425422619837223 0.43371904752903156\n",
      "D19_RATGEBER 45.96339283788498 % 0.45768678662554374 0.6680551623293348\n",
      "D19_REISEN 44.612690216633105 % 0.6352627440373172 0.9186705440963684\n",
      "D19_SAMMELARTIKEL 76.38858302106354 % 0.39750962958309277 0.7011616029938957\n",
      "D19_SCHUHE 7.524991094159009 % 0.6080094025770297 0.6537620559726006\n",
      "D19_SONSTIGE 15.499536246261153 % 1.2599570953109573 1.4552446019860183\n",
      "D19_SOZIALES 28.087711998580573 % 0.8204016995829885 1.0508337661933185\n",
      "D19_TECHNIK 19.629765796481337 % 0.8640854583893044 1.033703410152577\n",
      "D19_TELKO_ANZ_12 3.0996129255431497 % 0.18600297544294658 0.18023760317422216\n",
      "D19_TELKO_ANZ_24 7.197967448793991 % 0.3173191111525568 0.29447858482299333\n",
      "D19_TELKO_DATUM 8.122131717738252 % 0.9423248982890354 0.865788028840957\n",
      "D19_TELKO_MOBILE 6.774860835025703 % 0.6727607553740695 0.6271821504448086\n",
      "D19_TELKO_OFFLINE_DATUM 3.4349329460395395 % 0.3941376590216091 0.4076760233240913\n",
      "D19_TELKO_ONLINE_DATUM 17.84650605248508 % 0.06455566345221836 0.0760765938374404\n",
      "D19_TELKO_ONLINE_QUOTE_12 8.921459186725933 % 0.009721432969907365 0.01058872664468257\n",
      "D19_TELKO_REST 7.656053259009064 % 0.548070428093942 0.5061098642221908\n",
      "D19_TIERARTIKEL 4.355970682693195 % 0.2366284611542737 0.22632099475948547\n",
      "D19_VERSAND_ANZ_12 16.92962255292734 % 0.9979776838707892 1.1669315389125603\n",
      "D19_VERSAND_ANZ_24 15.23424695173128 % 1.253767498580612 1.4447695355149264\n",
      "D19_VERSAND_DATUM 11.900339907792157 % 1.7616565780393711 1.971299698834036\n",
      "D19_VERSAND_OFFLINE_DATUM 44.744860587915234 % 1.0442160443857225 1.511449057682757\n",
      "D19_VERSAND_ONLINE_DATUM 6.503239884918269 % 1.6277547698658286 1.7336115672884027\n",
      "D19_VERSAND_ONLINE_QUOTE_12 17.532351586692144 % 0.8625347133456043 1.0137573318466229\n",
      "D19_VERSAND_REST 8.682042810377254 % 0.7263320912250671 0.6632716281193984\n",
      "D19_VERSI_ANZ_12 5.6591865938399994 % 0.34363112949835223 0.3241844026855205\n",
      "D19_VERSI_ANZ_24 8.418774235787572 % 0.5168487177400618 0.47333639105296305\n",
      "D19_VERSI_DATUM 6.916856964403799 % 1.0667809578173713 0.9929932448416469\n",
      "D19_VERSI_OFFLINE_DATUM 15.239579259084964 % 0.20891047339297436 0.17707339621972243\n",
      "D19_VERSI_ONLINE_DATUM 24.960318049751447 % 0.06268095460154467 0.04703558897637881\n",
      "D19_VERSI_ONLINE_QUOTE_12 28.010530433419472 % 0.018783011372226825 0.01352179025549659\n",
      "D19_VERSICHERUNGEN 4.9348217918030945 % 0.9746584732934375 0.9265608145576976\n",
      "D19_VOLLSORTIMENT 17.646803467402275 % 1.049757940272009 1.2350066608752606\n",
      "D19_WEIN_FEINKOST 80.28759422503283 % 0.29934364905743926 0.5396794633510824\n",
      "DSL_FLAG 23.56158606590241 % 0.14225309766822014 0.10873601162971024\n",
      "EWDICHTE 0.19370578281688675 % 1.7416382359087494 1.7450118898874547\n",
      "EXTSEL992 5.424083665458467 % 3.6158583236220436 3.41973114292434\n",
      "FINANZ_ANLEGER 19.19477482606926 % 1.587543738495304 1.2828182926257685\n",
      "FINANZ_HAUSBAUER 8.06438144273572 % 1.5943156389851287 1.4657439444561786\n",
      "FINANZ_MINIMALIST 23.671218955706376 % 1.5856504731363068 1.2103076777680175\n",
      "FINANZ_SPARER 28.2718126315803 % 1.5829939598905376 1.1354528735810514\n",
      "FINANZ_UNAUFFAELLIGER 10.976650520873093 % 1.5872614802926264 1.4130333347484678\n",
      "FINANZ_VORSORGER 29.580731191806453 % 1.5550820421038842 1.0950774034170798\n",
      "FINANZTYP 7.098238002574096 % 1.6635510576879824 1.5454682443189507\n",
      "FIRMENDICHTE 4.964726724607175 % 1.4909589212036656 1.4169368851897524\n",
      "GEBAEUDETYP 8.678526797998876 % 1.0133569214853626 0.925412469494879\n",
      "GEBAEUDETYP_RASTER 8.393460830262415 % 1.2970159072661032 1.18815138512745\n",
      "GEMEINDETYP 0.080773466654783 % 1.8924638789874413 1.8909352703071935\n",
      "GFK_URLAUBERTYP 8.832548172400259 % 2.390357599127539 2.179228112691969\n",
      "GREEN_AVANTGARDE 32.63514852014286 % 0.4956700399841144 0.6574326937027817\n",
      "HEALTH_TYP 5.627531782291366 % 1.3043887860054382 1.3777936795025387\n",
      "HH_DELTA_FLAG 36.70722690602653 % 0.30884390923703264 0.4222119437861128\n",
      "HH_EINKOMMEN_SCORE 1.6549983189659254 % 1.6820156057402753 1.6541782757405292\n",
      "INNENSTADT 1.6203140382240313 % 2.0317587917194615 1.99883791879438\n",
      "KBA05_ALTER1 9.720115731643622 % 1.6101908450246687 1.4536784313879405\n",
      "KBA05_ALTER2 5.081317407694226 % 1.5239694877259033 1.4465317608581385\n",
      "KBA05_ALTER3 4.155721982725854 % 1.529350694121296 1.4657951311327269\n",
      "KBA05_ALTER4 8.126906819351301 % 1.63298238601312 1.5002714291254142\n",
      "KBA05_ANHANG 1.2411732267917168 % 1.2691489485092853 1.2533966115522794\n",
      "KBA05_ANTG1 3.562508028008711 % 1.5394258746164546 1.5942680449849091\n",
      "KBA05_ANTG2 2.703241643309888 % 1.4401771540079826 1.4012456854434037\n",
      "KBA05_ANTG3 35.36989432475012 % 0.9861780541055859 0.6373679185145631\n",
      "KBA05_ANTG4 37.85947350499947 % 0.6553185556038441 0.4072184006716615\n",
      "KBA05_AUTOQUOT 11.563090507245244 % 1.5743678545716508 1.3923222746305557\n",
      "KBA05_BAUMAX 16.970777488374793 % 1.385261445116258 1.1501718076333327\n",
      "KBA05_CCM1 7.863466610925609 % 1.5277580766326615 1.407623330380933\n",
      "KBA05_CCM2 6.816154210058762 % 1.5042999711224636 1.401764565308887\n",
      "KBA05_CCM3 8.364876539673366 % 1.535261979307139 1.406839210177551\n",
      "KBA05_CCM4 2.3292799848710626 % 1.5109508865812131 1.5461451631635812\n",
      "KBA05_DIESEL 8.239141784673793 % 1.5201205625766352 1.3948756741279653\n",
      "KBA05_FRAU 7.019981704833434 % 1.5236084217676562 1.4166513893062653\n",
      "KBA05_GBZ 7.868896346836267 % 1.5903651517983894 1.465220966467169\n",
      "KBA05_HERST1 4.681492055377726 % 1.7444360034861024 1.6627703705717518\n",
      "KBA05_HERST2 6.062755488493242 % 1.4964441834640667 1.4057184315988611\n",
      "KBA05_HERST3 4.677375851799629 % 1.578388394087279 1.5045612364946326\n",
      "KBA05_HERST4 6.04243755867697 % 1.6699989715316947 1.5690903264463445\n",
      "KBA05_HERST5 6.2299456814138985 % 1.6951518164157606 1.5895447790355577\n",
      "KBA05_HERSTTEMP 1.145617209903531 % 1.583224284504063 1.5650865946294124\n",
      "KBA05_KRSAQUOT 6.845983313323536 % 1.5636259311467298 1.4565803608176249\n",
      "KBA05_KRSHERST1 3.658203871890512 % 1.4846816910983291 1.4303690079893205\n",
      "KBA05_KRSHERST2 4.748752584440408 % 1.5207930491326764 1.4485743499079984\n",
      "KBA05_KRSHERST3 4.340124984020526 % 1.5392541385073777 1.472448585074449\n",
      "KBA05_KRSKLEIN 9.650340998986565 % 1.0411773967696816 0.940700227577036\n",
      "KBA05_KRSOBER 5.8966168737863836 % 0.9980240725356635 0.9391744166700755\n",
      "KBA05_KRSVAN 5.2782070475188885 % 0.9528496433271385 0.9025562663007869\n",
      "KBA05_KRSZUL 7.214918612779747 % 1.102158166396884 1.0226383517072433\n",
      "KBA05_KW1 6.702401558702407 % 1.5549886087329887 1.450767027983624\n",
      "KBA05_KW2 7.232145278859233 % 1.5105223570334756 1.401279185703166\n",
      "KBA05_KW3 0.5563899498150708 % 1.5648327923250605 1.5735393647129676\n",
      "KBA05_MAXAH 10.404227947488977 % 1.5778198455812527 1.4136598722462606\n",
      "KBA05_MAXBJ 1.5715151038500592 % 1.4188789028111874 1.3965810065481676\n",
      "KBA05_MAXHERST 6.747560965092951 % 1.538107034092899 1.4343223242590977\n",
      "KBA05_MAXSEG 0.4060624400807429 % 1.3514795745900385 1.3459917236522654\n",
      "KBA05_MAXVORB 7.330409251549612 % 1.1453525433078133 1.0613935145103186\n",
      "KBA05_MOD1 3.3308277040112815 % 1.5227949175353934 1.573516592523938\n",
      "KBA05_MOD2 7.294617042926578 % 1.50723028525979 1.3972836079950786\n",
      "KBA05_MOD3 5.898935121832626 % 1.534209714733817 1.4437076790288157\n",
      "KBA05_MOD4 5.518172641713958 % 1.7517969978058086 1.655129815134522\n",
      "KBA05_MOD8 3.6279324799132024 % 1.4014588040457883 1.350614824901208\n",
      "KBA05_MODTEMP 0.5401023538997549 % 1.5238346027671432 1.515604336208059\n",
      "KBA05_MOTOR 4.951680862198073 % 1.3773020310700148 1.3091024299828555\n",
      "KBA05_MOTRAD 0.615518605122411 % 1.2197392568273457 1.2122315347675916\n",
      "KBA05_SEG1 6.017257589834615 % 1.3528082110045927 1.271406256252013\n",
      "KBA05_SEG10 6.296027648233103 % 1.5755874934532414 1.4763880692433224\n",
      "KBA05_SEG2 7.068512414389194 % 1.5102198518724106 1.4034697741582391\n",
      "KBA05_SEG3 7.7815310280791445 % 1.528161176921052 1.4092468407798808\n",
      "KBA05_SEG4 7.339118180940246 % 1.4876332205376472 1.3784540603834619\n",
      "KBA05_SEG5 1.7159308627301468 % 1.561890375160204 1.5350894161708184\n",
      "KBA05_SEG6 10.852088067433199 % 0.4540654853312766 0.5033410716832447\n",
      "KBA05_SEG7 0.6046080324472167 % 1.2635375493009984 1.271176998817059\n",
      "KBA05_SEG8 5.495024324756768 % 1.2102825347739679 1.2767878544580802\n",
      "KBA05_SEG9 3.322353979438248 % 1.3474612894125428 1.3026938556423553\n",
      "KBA05_VORB0 6.192804663708405 % 1.5797576364924937 1.4819263319044969\n",
      "KBA05_VORB1 6.21034778270907 % 1.50826030222848 1.4145920919915524\n",
      "KBA05_VORB2 6.644509013819627 % 1.7451815792118364 1.6292228318735862\n",
      "KBA05_ZUL1 8.947421025814922 % 1.5151649282426485 1.3795967428772922\n",
      "KBA05_ZUL2 7.460038084858407 % 1.523412587686011 1.4097654284551075\n",
      "KBA05_ZUL3 7.172391529664478 % 1.7339117261724364 1.6095487883925854\n",
      "KBA05_ZUL4 4.082605188146364 % 1.7861162377743771 1.7131961635846757\n",
      "KBA13_ALTERHALTER_30 6.596625604001679 % 1.4405962914650168 1.3455655476519368\n",
      "KBA13_ALTERHALTER_45 2.992488778031943 % 1.4835459766933565 1.4391510298238634\n",
      "KBA13_ALTERHALTER_60 1.5566747608880238 % 1.4384251348770594 1.4160335338481587\n",
      "KBA13_ALTERHALTER_61 2.2304851223601334 % 1.4468731678453333 1.4146008770971223\n",
      "KBA13_ANTG1 4.259332069641852 % 1.311789940267151 1.2559164506550164\n",
      "KBA13_ANTG2 5.476337028379161 % 1.3086660227558446 1.2369990607738495\n",
      "KBA13_ANTG3 4.2399540914916685 % 1.360173004471914 1.302502293517442\n",
      "KBA13_ANTG4 11.420480787428774 % 1.0128512468481348 0.8971787647966107\n",
      "KBA13_ANZAHL_PKW 0.6959261871018102 % 6.843862049520169 6.7962338213084355\n",
      "KBA13_AUDI 2.344955322682514 % 1.3978911770736027 1.365111253511506\n",
      "KBA13_AUTOQUOTE 5.366108330674839 % 1.4322046698449258 1.3553510157440631\n",
      "KBA13_BAUMAX 21.584131488453863 % 1.1606492854249115 0.9101332175389985\n",
      "KBA13_BJ_1999 2.0074630403231684 % 1.3618286059408495 1.3344904000040387\n",
      "KBA13_BJ_2000 3.4668053101154097 % 1.393126264643613 1.3448292893243359\n",
      "KBA13_BJ_2004 2.310641816759054 % 1.3500237408626712 1.3188295277701234\n",
      "KBA13_BJ_2006 3.8991602904742564 % 1.3648553984833787 1.3116374987633206\n",
      "KBA13_BJ_2008 0.35931163123333504 % 1.6332972406139872 1.627428613655848\n",
      "KBA13_BJ_2009 1.3056110289247915 % 1.6680474183463454 1.6462692072847203\n",
      "KBA13_BMW 4.406922366774439 % 1.3916300743306138 1.3303020173221782\n",
      "KBA13_CCM_0_1400 2.388349710220731 % 1.6346466694216697 1.5956055904294044\n",
      "KBA13_CCM_1000 1.7848783300804119 % 1.6590514533196652 1.6294394034444784\n",
      "KBA13_CCM_1200 1.0176812978418006 % 1.6290192294353996 1.6124410053991889\n",
      "KBA13_CCM_1400 0.7090399719060941 % 1.3444732607917995 1.3349404079611964\n",
      "KBA13_CCM_1401_2500 2.0953280922053406 % 1.3462584655123384 1.3180499336907658\n",
      "KBA13_CCM_1500 0.4380655866619798 % 1.4619111811319874 1.4683153109240903\n",
      "KBA13_CCM_1600 1.7593465874679515 % 1.340154559699243 1.3165765961863782\n",
      "KBA13_CCM_1800 1.0150330648481964 % 1.6173427974921548 1.6009262333256686\n",
      "KBA13_CCM_2000 1.712965898599307 % 1.3391690359180424 1.3162295270081652\n",
      "KBA13_CCM_2500 0.6749113128567426 % 1.6635330839419367 1.6523057109652979\n",
      "KBA13_CCM_2501 0.6924959832078357 % 1.6600121589519152 1.6485166414304115\n",
      "KBA13_CCM_3000 0.5140338725903242 % 1.6164406703907712 1.624749722966906\n",
      "KBA13_CCM_3001 4.905100971333868 % 1.271360296732865 1.333721802997062\n",
      "KBA13_FAB_ASIEN 4.8844283417395715 % 1.4102995328802002 1.3414144627927789\n",
      "KBA13_FAB_SONSTIGE 4.794039533274736 % 1.4014903377586116 1.3343023369114382\n",
      "KBA13_FIAT 3.1436283535690315 % 1.3950964291947205 1.3512397822869262\n",
      "KBA13_FORD 1.6003113026293172 % 1.4276686681618256 1.4505158112225167\n",
      "KBA13_GBZ 6.935676757567697 % 1.4634738215089598 1.361972007817475\n",
      "KBA13_HALTER_20 5.55991884967307 % 1.3996435708513133 1.3218245241273139\n",
      "KBA13_HALTER_25 7.543783644596 % 1.421252793028505 1.3140365572796568\n",
      "KBA13_HALTER_30 4.829794199442118 % 1.460853836612237 1.3902976027492115\n",
      "KBA13_HALTER_35 1.4827697102830084 % 1.4753381749251524 1.45346230734312\n",
      "KBA13_HALTER_40 3.6151984536443096 % 1.4696645262618067 1.4165332370346309\n",
      "KBA13_HALTER_45 3.7636741929040833 % 1.4596632429621943 1.4047262741835194\n",
      "KBA13_HALTER_50 1.3412756705098123 % 1.437042870728824 1.4177681643289426\n",
      "KBA13_HALTER_55 1.6106442298829742 % 1.4453315557149444 1.4220524064101439\n",
      "KBA13_HALTER_60 2.6508454156396577 % 1.4529900416897803 1.414473521779946\n",
      "KBA13_HALTER_65 5.597223314787015 % 1.430029393693081 1.3499874550609845\n",
      "KBA13_HALTER_66 1.4811828685467248 % 1.4543322294805952 1.432790909645775\n",
      "KBA13_HERST_ASIEN 5.051499320766435 % 1.4203990073777293 1.34864756116787\n",
      "KBA13_HERST_AUDI_VW 3.4268901038249187 % 1.4180542310997515 1.3694590709873236\n",
      "KBA13_HERST_BMW_BENZ 6.671262636610874 % 1.4098305061412915 1.3157770103455455\n",
      "KBA13_HERST_EUROPA 0.8962034969175577 % 1.4063582669191916 1.4189620988865106\n",
      "KBA13_HERST_FORD_OPEL 1.8364249997947442 % 1.4430982638108711 1.4695996810990979\n",
      "KBA13_HERST_SONST 4.794039533274736 % 1.4014903377586116 1.3343023369114382\n",
      "KBA13_HHZ 3.5531132430725547 % 1.336875448880515 1.2893747502629558\n",
      "KBA13_KMH_0_140 0.24645092889829875 % 1.4974752009043646 1.501165742447015\n",
      "KBA13_KMH_110 6.111007478296383 % 0.6371295193205356 0.5981944867484239\n",
      "KBA13_KMH_140 0.2903829396540137 % 1.5174179382626172 1.5218242610785815\n",
      "KBA13_KMH_140_210 0.18079585935874062 % 1.3632386245258885 1.3657033035122104\n",
      "KBA13_KMH_180 0.2956904811395934 % 1.3686596174634327 1.3646126212553917\n",
      "KBA13_KMH_210 2.191378414856234 % 1.3554046503786779 1.325702605436322\n",
      "KBA13_KMH_211 0.1780461861276166 % 1.6288141182340032 1.631714159650627\n",
      "KBA13_KMH_250 0.13629132914142952 % 1.6278370541752265 1.6300556549326186\n",
      "KBA13_KMH_251 16.261904395905475 % 0.449862206932694 0.5230183689373992\n",
      "KBA13_KRSAQUOT 3.730775931028238 % 1.444721451597603 1.3908221314109979\n",
      "KBA13_KRSHERST_AUDI_VW 1.7547741896178786 % 1.4084014349533422 1.3836871700865732\n",
      "KBA13_KRSHERST_BMW_BENZ 4.348577668971725 % 1.4014237675628305 1.340481766558931\n",
      "KBA13_KRSHERST_FORD_OPEL 0.7558151740782062 % 1.431985850521279 1.4428090168701717\n",
      "KBA13_KRSSEG_KLEIN 7.395295910690307 % 0.3514346769416927 0.32544504264907603\n",
      "KBA13_KRSSEG_OBER 8.653914506789613 % 0.8797763210429639 0.8036412303689269\n",
      "KBA13_KRSSEG_VAN 4.054660810941776 % 0.9284179954065733 0.8907737947850918\n",
      "KBA13_KRSZUL_NEU 5.028157713557245 % 1.1567378258289156 1.0985752236138646\n",
      "KBA13_KW_0_60 1.186851034251339 % 1.367121685796609 1.3508959879292577\n",
      "KBA13_KW_110 1.2369036569017091 % 1.6380643269829567 1.6178030494201021\n",
      "KBA13_KW_120 3.267691478983669 % 1.550186278703558 1.6008415836411283\n",
      "KBA13_KW_121 0.5283178268718072 % 1.6717104586426461 1.6628785142759566\n",
      "KBA13_KW_30 5.6297807795177155 % 0.8001498097292712 0.7551031295337851\n",
      "KBA13_KW_40 1.9447085752936466 % 1.660742448751351 1.6284458479369417\n",
      "KBA13_KW_50 2.000957517123623 % 1.6135899381340333 1.58130268897139\n",
      "KBA13_KW_60 0.5556835350829512 % 1.6386122425150143 1.6295067440795048\n",
      "KBA13_KW_61_120 2.5666878937401645 % 1.3572429356309228 1.3224067455134403\n",
      "KBA13_KW_70 1.0056608292685008 % 1.6065137100958282 1.5903576309965664\n",
      "KBA13_KW_80 0.833201198638893 % 1.6375300590826571 1.6238861390023083\n",
      "KBA13_KW_90 0.7698920478280249 % 1.6169878615572515 1.6045388005967778\n",
      "KBA13_MAZDA 1.4168541591545065 % 1.3954273719745687 1.3756562012167666\n",
      "KBA13_MERCEDES 6.6359765232337224 % 1.4111581210638533 1.3175139994443499\n",
      "KBA13_MOTOR 0.91856748661288 % 1.0845060641768303 1.0944679842727036\n",
      "KBA13_NISSAN 2.2637983885567965 % 1.4129324242970116 1.3809464828443794\n",
      "KBA13_OPEL 2.099790108554056 % 1.4407051166778313 1.4709569002112646\n",
      "KBA13_PEUGEOT 0.14070527736360983 % 1.404043574365162 1.4020680109595456\n",
      "KBA13_RENAULT 1.3997195997889167 % 1.4158737374254515 1.3960554752144436\n",
      "KBA13_SEG_GELAENDEWAGEN 4.526536663328719 % 1.3958184845747146 1.3326362491169208\n",
      "KBA13_SEG_GROSSRAUMVANS 3.837331002505194 % 1.4067092631790397 1.352729172507958\n",
      "KBA13_SEG_KLEINST 1.203748524060188 % 1.418790747357325 1.4017120746765086\n",
      "KBA13_SEG_KLEINWAGEN 3.3304901308386823 % 1.408778596557695 1.3618593644339734\n",
      "KBA13_SEG_KOMPAKTKLASSE 6.858281305404386 % 1.407277913500733 1.3107628354440273\n",
      "KBA13_SEG_MINIVANS 2.5485082570488324 % 1.4081224678641964 1.3722363505013175\n",
      "KBA13_SEG_MINIWAGEN 4.313372792678619 % 1.404926060050441 1.3443263616189736\n",
      "KBA13_SEG_MITTELKLASSE 3.1796900461230395 % 1.4169579405578918 1.3719030699642225\n",
      "KBA13_SEG_OBEREMITTELKLASSE 5.66573254868074 % 1.4001767333035295 1.3208464643856968\n",
      "KBA13_SEG_OBERKLASSE 1.1853426429874807 % 1.6589647228714248 1.6393003065791107\n",
      "KBA13_SEG_SONSTIGE 4.290827234949936 % 1.3625062794326772 1.3040434889168768\n",
      "KBA13_SEG_SPORTWAGEN 4.635668371658092 % 1.6870124067812957 1.6088081062141872\n",
      "KBA13_SEG_UTILITIES 3.9668479535851864 % 1.3944382212288913 1.3391229771860633\n",
      "KBA13_SEG_VAN 2.9040742187620467 % 1.4056868726279397 1.3648646825634292\n",
      "KBA13_SEG_WOHNMOBILE 2.522651672054651 % 1.6737244890629388 1.6315022502540044\n",
      "KBA13_SITZE_4 7.943944708174438 % 1.4344051431435179 1.3204567916809864\n",
      "KBA13_SITZE_5 7.414445232100883 % 1.4353147588548316 1.3288941321512793\n",
      "KBA13_SITZE_6 4.519155741879639 % 1.4268412307808407 1.3623600533725022\n",
      "KBA13_TOYOTA 1.7441664363107265 % 1.4009334183870934 1.3764988079085252\n",
      "KBA13_VORB_0 2.028677036806485 % 1.3729649074215573 1.3451118836212848\n",
      "KBA13_VORB_1 2.302295541867637 % 1.3569042985830524 1.3256643514093644\n",
      "KBA13_VORB_1_2 0.21931160032375902 % 1.3602959487572965 1.3573126619429376\n",
      "KBA13_VORB_2 1.7570531530550166 % 1.344953343911395 1.321321798775081\n",
      "KBA13_VORB_3 4.337362232032321 % 1.6376738614153799 1.5666420138664838\n",
      "KBA13_VW 3.5957962151216742 % 1.4193540836667349 1.3683170032470715\n",
      "KK_KUNDENTYP 0.018451375781735255 % 1.7759985694499325 1.77632626561986\n",
      "KKK 1.1263121524979758 % 1.4577906567094472 1.4742099300339457\n",
      "KOMBIALTER 28.28098508046334 % 1.5184615140313749 1.089025639795584\n",
      "KONSUMNAEHE 1.8010366032793965 % 1.7145004408231663 1.6836216603205545\n",
      "KONSUMZELLE 14.558711470876023 % 0.5466185601825733 0.4670379411593356\n",
      "LP_FAMILIE_FEIN 7.476237279134411 % 1.695363323591246 1.8221127084063469\n",
      "LP_FAMILIE_GROB 5.980738324425137 % 1.426087870956833 1.5113784547951268\n",
      "LP_LEBENSPHASE_FEIN 15.265397356139927 % 3.4861661808975555 2.953989060888176\n",
      "LP_LEBENSPHASE_GROB 14.486455249016139 % 2.3822059424635498 2.0371087446691645\n",
      "LP_STATUS_FEIN 9.19178636869628 % 2.059765157417812 1.8704359444511263\n",
      "LP_STATUS_GROB 3.7933359741412382 % 1.438420997110362 1.4929851382533506\n",
      "MOBI_RASTER 10.467929218049212 % 1.52710013415032 1.6869558952819101\n",
      "MOBI_REGIO 6.71696077463496 % 1.6117629131425324 1.5035014304866348\n",
      "NATIONALITAET_KZ 13.00150848737855 % 0.7739704515544477 0.6733426176057941\n",
      "ONLINE_AFFINITAET 11.988596904670704 % 1.7480023532605045 1.5384413972439446\n",
      "ORTSGR_KLS9 1.6254530798704405 % 2.142132298369834 2.107312942951082\n",
      "OST_WEST_KZ 45.908857992995664 % 0.5155290089493894 0.2788555283181163\n",
      "PLZ8_ANTG1 3.9568096006465603 % 1.3505537283621298 1.297114888776407\n",
      "PLZ8_ANTG2 5.199152245980272 % 1.2965859180133603 1.2291744421359048\n",
      "PLZ8_ANTG3 5.501117144773453 % 1.345375833376246 1.2713651327447466\n",
      "PLZ8_ANTG4 11.45195024542093 % 1.0173949789982588 0.9008834122039675\n",
      "PLZ8_BAUMAX 25.450778065572997 % 1.1313480270101535 0.8434111515065604\n",
      "PLZ8_GBZ 6.892756111197228 % 1.4618024443377875 1.3610439670220642\n",
      "PLZ8_HHZ 3.4417579122218855 % 1.329425802788134 1.2836701850335541\n",
      "PRAEGENDE_JUGENDJAHRE 1.0662583581980893 % 2.376210218043756 2.3508736779855073\n",
      "REGIOTYP 1.6161178527873714 % 1.9624844421326013 1.994200503560081\n",
      "RELAT_AB 1.3320606631386487 % 1.5351544634874303 1.5556036522139636\n",
      "RETOURTYP_BK_S 20.120962848723224 % 1.5215453723818024 1.2153957932783925\n",
      "RT_KEIN_ANREIZ 12.503616106980337 % 1.5938814545339155 1.3945886362586404\n",
      "RT_SCHNAEPPCHEN 37.58029748872583 % 1.4025903431809066 0.8754927196653813\n",
      "RT_UEBERGROESSE 6.651122666286054 % 1.6912230376969954 1.578737718899279\n",
      "SEMIO_DOM 10.391894000020143 % 1.8712381416824775 1.6767810575108877\n",
      "SEMIO_ERL 25.550505440577027 % 1.8366330018445536 1.3673639867848277\n",
      "SEMIO_FAM 10.932877373036137 % 1.9153220492791085 1.7059222383327008\n",
      "SEMIO_KAEM 9.93729521511666 % 1.861385319197551 1.6764139649380487\n",
      "SEMIO_KRIT 13.224926624329145 % 1.8503988212401434 1.605684934873683\n",
      "SEMIO_KULT 7.490971898979374 % 1.8779828412146555 1.7373036743116113\n",
      "SEMIO_LUST 21.989264294891772 % 1.9140430698681719 1.4931590805167996\n",
      "SEMIO_MAT 7.752375612345041 % 1.920417771101748 1.771539772159716\n",
      "SEMIO_PFLICHT 11.05850466029836 % 1.8962155231449138 1.6865224411486326\n",
      "SEMIO_RAT 7.726231677746158 % 1.7383055375481502 1.6040000244500894\n",
      "SEMIO_REL 3.389133298018038 % 1.8415444089626687 1.7791320142007254\n",
      "SEMIO_SOZ 11.004579817754838 % 1.8670347211494267 1.6615753950353416\n",
      "SEMIO_TRADV 20.97690056633187 % 1.864453902408601 1.4733492611952546\n",
      "SEMIO_VERT 3.927111305125834 % 1.8644920219387657 1.7912713449620392\n",
      "SHOPPER_TYP 0.3444687079799259 % 1.564867087027694 1.5702575644639813\n",
      "SOHO_KZ 13.895855368128954 % 0.04862423238190269 0.055380985387554815\n",
      "STRUKTURTYP 1.4201826670053657 % 0.8181424510370182 0.8065233337559776\n",
      "TITEL_KZ 362.6210360429252 % 0.019456310690647946 0.09000898609280594\n",
      "UMFELD_ALT 2.017475876877957 % 1.559434738467218 1.590895958131449\n",
      "UMFELD_JUNG 16.753950728353978 % 1.3296548006719529 1.1068850905101806\n",
      "UNGLEICHENN_FLAG 4.123535154944926 % 0.3026934671894905 0.29021179565821015\n",
      "VERDICHTUNGSRAUM 1.1308521052632838 % 2.2698352609236188 2.2441667810894557\n",
      "VERS_TYP 10.301744369599175 % 0.9827649995581524 1.0840069375665258\n",
      "VHA 56.99270864704372 % 0.7195425341304482 1.1296293141989697\n",
      "VHN 1.0082065690436797 % 1.4969079658467377 1.4818160414025328\n",
      "VK_DHT4A 4.0220407248045085 % 2.2957473133631248 2.2034114214810545\n",
      "VK_DISTANZ 8.082888391228908 % 2.468900028897103 2.269341595070332\n",
      "VK_ZG11 16.123775299904416 % 2.318402194675991 1.9445882342583818\n",
      "W_KEIT_KIND_HH 11.271274182490215 % 1.7644908475779817 1.5656102462225219\n",
      "WOHNDAUER_2008 52.41848058626037 % 1.2159698643026342 0.5785769370483813\n",
      "WOHNLAGE 1.9549586943167157 % 1.760432890515019 1.7260171546642846\n",
      "ZABEOTYP 26.219982963920202 % 1.5342281308503876 1.1319537763137446\n",
      "ANREDE_KZ 4.316810937544623 % 0.6921701895499783 0.6622905111010615\n",
      "ALTERSKATEGORIE_GROB 6.994225361135836 % 1.3343429081358025 1.2410159580504507\n"
     ]
    },
    {
     "data": {
      "text/plain": [
       "[('TITEL_KZ', 362.6210360429252),\n",
       " ('ANZ_TITEL', 274.2291429437465),\n",
       " ('D19_BIO_OEKO', 82.55469802440915),\n",
       " ('D19_WEIN_FEINKOST', 80.28759422503283),\n",
       " ('D19_NAHRUNGSERGAENZUNG', 78.82205104450608),\n",
       " ('D19_BILDUNG', 78.74715295997396),\n",
       " ('D19_SAMMELARTIKEL', 76.38858302106354),\n",
       " ('D19_BEKLEIDUNG_GEH', 75.18365804046519),\n",
       " ('D19_LEBENSMITTEL', 57.855964758171),\n",
       " ('VHA', 56.99270864704372),\n",
       " ('D19_BANKEN_OFFLINE_DATUM', 54.86337535609308),\n",
       " ('AGER_TYP', 53.13463189451998),\n",
       " ('WOHNDAUER_2008', 52.41848058626037),\n",
       " ('D19_RATGEBER', 45.96339283788498),\n",
       " ('OST_WEST_KZ', 45.908857992995664),\n",
       " ('D19_HANDWERK', 45.219670031298534),\n",
       " ('D19_VERSAND_OFFLINE_DATUM', 44.744860587915234),\n",
       " ('D19_REISEN', 44.612690216633105),\n",
       " ('AKT_DAT_KL', 42.89168125535079),\n",
       " ('CJT_TYP_6', 42.81658319752861),\n",
       " ('CJT_TYP_5', 42.30506078582351),\n",
       " ('CJT_TYP_3', 41.32289341369471),\n",
       " ('D19_KOSMETIK', 38.70715822769628),\n",
       " ('KBA05_ANTG4', 37.85947350499947),\n",
       " ('RT_SCHNAEPPCHEN', 37.58029748872583),\n",
       " ('HH_DELTA_FLAG', 36.70722690602653),\n",
       " ('CJT_TYP_4', 35.93633505181693),\n",
       " ('KBA05_ANTG3', 35.36989432475012),\n",
       " ('ANZ_HH_TITEL', 35.289912376113186),\n",
       " ('D19_HAUS_DEKO', 34.13969875694629),\n",
       " ('GREEN_AVANTGARDE', 32.63514852014286),\n",
       " ('D19_ENERGIE', 32.58903104544513),\n",
       " ('ANZ_STATISTISCHE_HAUSHALTE', 30.080965438629764),\n",
       " ('FINANZ_VORSORGER', 29.580731191806453),\n",
       " ('D19_GESAMT_OFFLINE_DATUM', 29.356241200231075),\n",
       " ('ANZ_HAUSHALTE_AKTIV', 29.26926412315785),\n",
       " ('D19_GARTEN', 28.76133686821452),\n",
       " ('KOMBIALTER', 28.28098508046334),\n",
       " ('FINANZ_SPARER', 28.2718126315803),\n",
       " ('D19_SOZIALES', 28.087711998580573),\n",
       " ('D19_VERSI_ONLINE_QUOTE_12', 28.010530433419472),\n",
       " ('D19_LOTTO', 27.675645356629737),\n",
       " ('ZABEOTYP', 26.219982963920202),\n",
       " ('D19_BUCH_CD', 26.006843144742465),\n",
       " ('SEMIO_ERL', 25.550505440577027),\n",
       " ('PLZ8_BAUMAX', 25.450778065572997),\n",
       " ('D19_BANKEN_ONLINE_DATUM', 25.165029260680015),\n",
       " ('D19_VERSI_ONLINE_DATUM', 24.960318049751447),\n",
       " ('D19_BANKEN_ONLINE_QUOTE_12', 24.550138389284555),\n",
       " ('FINANZ_MINIMALIST', 23.671218955706376),\n",
       " ('DSL_FLAG', 23.56158606590241),\n",
       " ('ANZ_PERSONEN', 23.417149132554336),\n",
       " ('D19_BANKEN_GROSS', 23.17805367880073),\n",
       " ('SEMIO_LUST', 21.989264294891772),\n",
       " ('KBA13_BAUMAX', 21.584131488453863),\n",
       " ('D19_BANKEN_DIREKT', 21.2048195622147),\n",
       " ('SEMIO_TRADV', 20.97690056633187),\n",
       " ('RETOURTYP_BK_S', 20.120962848723224),\n",
       " ('D19_TECHNIK', 19.629765796481337),\n",
       " ('CJT_KATALOGNUTZER', 19.28458212744654),\n",
       " ('FINANZ_ANLEGER', 19.19477482606926),\n",
       " ('D19_KINDERARTIKEL', 18.749865234282154),\n",
       " ('D19_TELKO_ONLINE_DATUM', 17.84650605248508),\n",
       " ('D19_VOLLSORTIMENT', 17.646803467402275),\n",
       " ('D19_VERSAND_ONLINE_QUOTE_12', 17.532351586692144),\n",
       " ('KBA05_BAUMAX', 16.970777488374793),\n",
       " ('D19_VERSAND_ANZ_12', 16.92962255292734),\n",
       " ('UMFELD_JUNG', 16.753950728353978),\n",
       " ('KBA13_KMH_251', 16.261904395905475),\n",
       " ('VK_ZG11', 16.123775299904416),\n",
       " ('D19_BANKEN_LOKAL', 15.68015860241158),\n",
       " ('D19_SONSTIGE', 15.499536246261153),\n",
       " ('D19_BANKEN_ANZ_24', 15.284028331228505),\n",
       " ('LP_LEBENSPHASE_FEIN', 15.265397356139927),\n",
       " ('D19_VERSI_OFFLINE_DATUM', 15.239579259084964),\n",
       " ('D19_VERSAND_ANZ_24', 15.23424695173128),\n",
       " ('D19_GESAMT_ONLINE_QUOTE_12', 15.000713303016289),\n",
       " ('KONSUMZELLE', 14.558711470876023),\n",
       " ('LP_LEBENSPHASE_GROB', 14.486455249016139),\n",
       " ('D19_KONSUMTYP_MAX', 13.921526441550055),\n",
       " ('SOHO_KZ', 13.895855368128954),\n",
       " ('SEMIO_KRIT', 13.224926624329145),\n",
       " ('D19_FREIZEIT', 13.162642328766646),\n",
       " ('D19_BANKEN_ANZ_12', 13.077602995420138),\n",
       " ('D19_BEKLEIDUNG_REST', 13.076118093593085),\n",
       " ('NATIONALITAET_KZ', 13.00150848737855),\n",
       " ('RT_KEIN_ANREIZ', 12.503616106980337),\n",
       " ('ONLINE_AFFINITAET', 11.988596904670704),\n",
       " ('D19_VERSAND_DATUM', 11.900339907792157),\n",
       " ('D19_BANKEN_DATUM', 11.68941265140021),\n",
       " ('KBA05_AUTOQUOT', 11.563090507245244),\n",
       " ('PLZ8_ANTG4', 11.45195024542093),\n",
       " ('KBA13_ANTG4', 11.420480787428774),\n",
       " ('D19_GESAMT_ANZ_12', 11.363222365526083),\n",
       " ('W_KEIT_KIND_HH', 11.271274182490215),\n",
       " ('SEMIO_PFLICHT', 11.05850466029836),\n",
       " ('SEMIO_SOZ', 11.004579817754838),\n",
       " ('FINANZ_UNAUFFAELLIGER', 10.976650520873093),\n",
       " ('SEMIO_FAM', 10.932877373036137),\n",
       " ('ANZ_KINDER', 10.926096251186273),\n",
       " ('KBA05_SEG6', 10.852088067433199),\n",
       " ('MOBI_RASTER', 10.467929218049212),\n",
       " ('KBA05_MAXAH', 10.404227947488977),\n",
       " ('SEMIO_DOM', 10.391894000020143),\n",
       " ('VERS_TYP', 10.301744369599175),\n",
       " ('D19_DIGIT_SERV', 10.301355316122512),\n",
       " ('D19_GESAMT_ANZ_24', 10.261216623670116)]"
      ]
     },
     "execution_count": 5,
     "metadata": {},
     "output_type": "execute_result"
    }
   ],
   "source": [
    "ent_vals=[]\n",
    "for col in azdias.columns.tolist():\n",
    "    ent=seg_entropy(azdias,col)\n",
    "    if ent is not None:\n",
    "        ent_vals.append(ent)\n",
    "    \n",
    "#print(ent_vals)\n",
    "\n",
    "cust_ent_vals=[]\n",
    "for col in azdias.columns.tolist():\n",
    "    ent=seg_entropy(customers,col)\n",
    "    if ent is not None:\n",
    "        cust_ent_vals.append(ent)\n",
    "    \n",
    "## Choose columns whose entropy changes significantly between population and customers\n",
    "chosen_dict={}\n",
    "chosen_cols=[]\n",
    "for i,col in enumerate((azdias.columns.tolist())):\n",
    "    diff=(ent_vals[i] -cust_ent_vals[i]) /ent_vals[i] * 100\n",
    "    diff=np.abs(diff)\n",
    "    print(col,diff,'%',ent_vals[i],cust_ent_vals[i])\n",
    "    if diff>10:\n",
    "        chosen_cols.append(col)\n",
    "        chosen_dict[col]=diff\n",
    "sorted(chosen_dict.items(),key = lambda kv:kv[1],reverse=True)"
   ]
  },
  {
   "cell_type": "code",
   "execution_count": 6,
   "metadata": {},
   "outputs": [
    {
     "name": "stdout",
     "output_type": "stream",
     "text": [
      "AGER_TYP 53.13463189451998 % 0.8178341582776804 1.2523873277861717\n",
      "AKT_DAT_KL 26.16334165694144 % 1.5733047926753014 1.1616756844626281\n",
      "ALTER_HH 1.9640897793039573 % 2.5701322350908726 2.620611939634889\n",
      "ALTER_KIND1 28.330532422603817 % 0.5500687007058153 0.3942313091057587\n",
      "ALTER_KIND2 17.32545276798548 % 0.22772659864562753 0.18827193435713946\n",
      "ALTER_KIND3 3.6507640103346333 % 0.05719004240671975 0.05510216892104011\n",
      "ALTER_KIND4 9.085900098749468 % 0.013184678365956494 0.011986731661284254\n",
      "ALTERSKATEGORIE_FEIN 5.140168212984858 % 2.5574117756827754 2.425956508513998\n",
      "ANZ_HAUSHALTE_AKTIV 28.73485665814139 % 2.9401788571551544 2.095322677058641\n",
      "ANZ_HH_TITEL 53.00067001180299 % 0.48224509169643476 0.7378382213945789\n",
      "ANZ_KINDER 24.22355134934488 % 0.6806885120195177 0.8455754432576572\n",
      "ANZ_PERSONEN 19.126027773364225 % 1.528678425831542 1.8210538861215098\n",
      "ANZ_STATISTISCHE_HAUSHALTE 28.78006001828075 % 2.8204943656243655 2.0087543943854462\n",
      "ANZ_TITEL 103.72998662542163 % 0.3090382245514787 0.629603533546168\n",
      "ARBEIT 2.520842194780099 % 1.557961628877942 1.5972353829971806\n",
      "BALLRAUM 2.2956655431244597 % 1.9481882384867668 1.9034643523806227\n",
      "CAMEO_DEU_2015 8.917975073062593 % 3.475410489658644 3.1654742485042835\n",
      "CAMEO_DEUG_2015 10.087382456963946 % 2.860797857540462 2.572218236329725\n",
      "CAMEO_INTL_2015 9.84434907431226 % 3.3986472193550257 3.06407252327731\n",
      "CJT_GESAMTTYP 0.4427613970674306 % 1.7879634793528656 1.7800470672726274\n",
      "CJT_KATALOGNUTZER 16.53188482608612 % 1.5846376722276132 1.3226671973441722\n",
      "CJT_TYP_1 2.73991956233714 % 1.5789862598407967 1.5357233064208031\n",
      "CJT_TYP_2 7.3646149815552855 % 1.6096708010107277 1.4911247440457707\n",
      "CJT_TYP_3 37.8676589127492 % 1.5897503229185082 0.9877490930713985\n",
      "CJT_TYP_4 32.66989472601853 % 1.5953985750591022 1.0741835401268938\n",
      "CJT_TYP_5 38.79913971144589 % 1.582550775068466 0.9685346888450821\n",
      "CJT_TYP_6 39.25135348257203 % 1.5665302973094455 0.9516459529009286\n",
      "D19_BANKEN_ANZ_12 13.077602995420138 % 0.32798783470107895 0.285094887805597\n",
      "D19_BANKEN_ANZ_24 15.284028331228505 % 0.49325001959263 0.41786154685430227\n",
      "D19_BANKEN_DATUM 11.68941265140021 % 0.9862735578527998 0.8709839718037397\n",
      "D19_BANKEN_DIREKT 21.2048195622147 % 0.743785338913219 0.5860669998664638\n",
      "D19_BANKEN_GROSS 23.17805367880073 % 0.5302167453266692 0.4073228234808636\n",
      "D19_BANKEN_LOKAL 15.68015860241158 % 0.11478870844689895 0.13278775998903253\n",
      "D19_BANKEN_OFFLINE_DATUM 54.86337535609308 % 0.14192696640908925 0.21979289072162403\n",
      "D19_BANKEN_ONLINE_DATUM 25.165029260680015 % 0.8124704198018449 0.6080120009243408\n",
      "D19_BANKEN_ONLINE_QUOTE_12 9.92704053506994 % 0.7920994091858484 0.7134673797579197\n",
      "D19_BANKEN_REST 1.5101521563896632 % 0.37186746294927797 0.377483227459918\n",
      "D19_BEKLEIDUNG_GEH 75.18365804046519 % 0.4428493627988645 0.7757997133599418\n",
      "D19_BEKLEIDUNG_REST 13.076118093593085 % 0.8474393042848588 0.9582514684846706\n",
      "D19_BILDUNG 78.74715295997396 % 0.41596613919470543 0.7435276310880583\n",
      "D19_BIO_OEKO 82.55469802440915 % 0.2173185978882994 0.396725310125865\n",
      "D19_BUCH_CD 26.006843144742465 % 0.9479088340681812 1.1944299976994501\n",
      "D19_DIGIT_SERV 10.301355316122512 % 0.21194323243360452 0.23377625787506554\n",
      "D19_DROGERIEARTIKEL 7.44470051647986 % 0.6620343577350383 0.7113208329846128\n",
      "D19_ENERGIE 32.58903104544513 % 0.35319674334854867 0.46830013968990836\n",
      "D19_FREIZEIT 13.162642328766646 % 0.5076162361187582 0.5744319456818179\n",
      "D19_GARTEN 28.76133686821452 % 0.2377230846619051 0.3060954218550264\n",
      "D19_GESAMT_ANZ_12 11.363222365526083 % 1.1597298199577015 1.2915124982388104\n",
      "D19_GESAMT_ANZ_24 10.261216623670116 % 1.4158206742524284 1.561101100640177\n",
      "D19_GESAMT_DATUM 6.606203289081232 % 1.9530194263794551 2.08203985996133\n",
      "D19_GESAMT_OFFLINE_DATUM 29.356241200231075 % 1.2795802643507537 1.6552169331041153\n",
      "D19_GESAMT_ONLINE_DATUM 4.667207701338063 % 1.7404635599238754 1.821694609231625\n",
      "D19_GESAMT_ONLINE_QUOTE_12 8.292422517085598 % 1.2835548409743018 1.389992631626397\n",
      "D19_HANDWERK 45.219670031298534 % 0.5043248448088077 0.7323788755172089\n",
      "D19_HAUS_DEKO 34.13969875694629 % 0.7686995427842456 1.0311312510368105\n",
      "D19_KINDERARTIKEL 18.749865234282154 % 0.6522653181589383 0.7745641862837009\n",
      "D19_KONSUMTYP 3.5036653102654753 % 1.7999253907117847 1.7368620291867556\n",
      "D19_KONSUMTYP_MAX 13.921526441550055 % 1.6418233878890447 1.4132565108205184\n",
      "D19_KOSMETIK 38.70715822769628 % 0.5717132650931877 0.7930072232215365\n",
      "D19_LEBENSMITTEL 57.855964758171 % 0.3064346842913919 0.4837254272418322\n",
      "D19_LOTTO 11.76575546363249 % 1.0803570628816397 1.2074692330343757\n",
      "D19_NAHRUNGSERGAENZUNG 78.82205104450608 % 0.2425422619837223 0.43371904752903156\n",
      "D19_RATGEBER 45.96339283788498 % 0.45768678662554374 0.6680551623293348\n",
      "D19_REISEN 44.612690216633105 % 0.6352627440373172 0.9186705440963684\n",
      "D19_SAMMELARTIKEL 76.38858302106354 % 0.39750962958309277 0.7011616029938957\n",
      "D19_SCHUHE 7.524991094159009 % 0.6080094025770297 0.6537620559726006\n",
      "D19_SONSTIGE 15.499536246261153 % 1.2599570953109573 1.4552446019860183\n",
      "D19_SOZIALES 14.004396685193269 % 1.1845185531612261 1.3504032301556361\n",
      "D19_TECHNIK 19.629765796481337 % 0.8640854583893044 1.033703410152577\n",
      "D19_TELKO_ANZ_12 3.0996129255431497 % 0.18600297544294658 0.18023760317422216\n",
      "D19_TELKO_ANZ_24 7.197967448793991 % 0.3173191111525568 0.29447858482299333\n",
      "D19_TELKO_DATUM 8.122131717738252 % 0.9423248982890354 0.865788028840957\n",
      "D19_TELKO_MOBILE 6.774860835025703 % 0.6727607553740695 0.6271821504448086\n",
      "D19_TELKO_OFFLINE_DATUM 3.4349329460395395 % 0.3941376590216091 0.4076760233240913\n",
      "D19_TELKO_ONLINE_DATUM 17.84650605248508 % 0.06455566345221836 0.0760765938374404\n",
      "D19_TELKO_ONLINE_QUOTE_12 6.362946009826194 % 0.6077156698118802 0.5690470498484966\n",
      "D19_TELKO_REST 7.656053259009064 % 0.548070428093942 0.5061098642221908\n",
      "D19_TIERARTIKEL 4.355970682693195 % 0.2366284611542737 0.22632099475948547\n",
      "D19_VERSAND_ANZ_12 16.92962255292734 % 0.9979776838707892 1.1669315389125603\n",
      "D19_VERSAND_ANZ_24 15.23424695173128 % 1.253767498580612 1.4447695355149264\n",
      "D19_VERSAND_DATUM 11.900339907792157 % 1.7616565780393711 1.971299698834036\n",
      "D19_VERSAND_OFFLINE_DATUM 44.744860587915234 % 1.0442160443857225 1.511449057682757\n",
      "D19_VERSAND_ONLINE_DATUM 6.503239884918269 % 1.6277547698658286 1.7336115672884027\n",
      "D19_VERSAND_ONLINE_QUOTE_12 8.897327686253883 % 1.2144963937764999 1.3225541176685314\n",
      "D19_VERSAND_REST 8.682042810377254 % 0.7263320912250671 0.6632716281193984\n",
      "D19_VERSI_ANZ_12 5.6591865938399994 % 0.34363112949835223 0.3241844026855205\n",
      "D19_VERSI_ANZ_24 8.418774235787572 % 0.5168487177400618 0.47333639105296305\n",
      "D19_VERSI_DATUM 6.916856964403799 % 1.0667809578173713 0.9929932448416469\n",
      "D19_VERSI_OFFLINE_DATUM 15.239579259084964 % 0.20891047339297436 0.17707339621972243\n",
      "D19_VERSI_ONLINE_DATUM 24.960318049751447 % 0.06268095460154467 0.04703558897637881\n",
      "D19_VERSI_ONLINE_QUOTE_12 6.987212038562795 % 0.614163026143854 0.571250153244729\n",
      "D19_VERSICHERUNGEN 4.9348217918030945 % 0.9746584732934375 0.9265608145576976\n",
      "D19_VOLLSORTIMENT 17.646803467402275 % 1.049757940272009 1.2350066608752606\n",
      "D19_WEIN_FEINKOST 80.28759422503283 % 0.29934364905743926 0.5396794633510824\n",
      "DSL_FLAG 41.47163862691111 % 0.46228177241710194 0.6539975985120021\n",
      "EWDICHTE 1.629687251936067 % 1.894771099876397 1.8638922568083425\n",
      "EXTSEL992 67.74472449532884 % 1.5410746481500734 2.585071422806699\n",
      "FINANZ_ANLEGER 19.19477482606926 % 1.587543738495304 1.2828182926257685\n",
      "FINANZ_HAUSBAUER 8.06438144273572 % 1.5943156389851287 1.4657439444561786\n",
      "FINANZ_MINIMALIST 23.671218955706376 % 1.5856504731363068 1.2103076777680175\n",
      "FINANZ_SPARER 28.2718126315803 % 1.5829939598905376 1.1354528735810514\n",
      "FINANZ_UNAUFFAELLIGER 10.976650520873093 % 1.5872614802926264 1.4130333347484678\n",
      "FINANZ_VORSORGER 29.580731191806453 % 1.5550820421038842 1.0950774034170798\n",
      "FINANZTYP 7.098238002574096 % 1.6635510576879824 1.5454682443189507\n",
      "FIRMENDICHTE 2.911854221102778 % 1.6700296842968283 1.6214008544409617\n",
      "GEBAEUDETYP 1.2542942949949942 % 1.2423401888875603 1.257922791001207\n",
      "GEBAEUDETYP_RASTER 2.95000407890623 % 1.4963585910875183 1.4522159516153728\n",
      "GEMEINDETYP 3.0121617964004814 % 2.0306353113387536 1.9694692902663897\n",
      "GFK_URLAUBERTYP 7.602221002385455 % 2.4111614636859025 2.2278596404921482\n",
      "GREEN_AVANTGARDE 32.63514852014286 % 0.4956700399841144 0.6574326937027817\n",
      "HEALTH_TYP 5.627531782291366 % 1.3043887860054382 1.3777936795025387\n",
      "HH_DELTA_FLAG 40.19397114068873 % 0.6399433276903965 0.8971619641390376\n",
      "HH_EINKOMMEN_SCORE 2.2448268951400707 % 1.747703915210199 1.7084709876741444\n",
      "INNENSTADT 4.772810263478083 % 2.154376327949437 2.051552033455124\n",
      "KBA05_ALTER1 8.833465499765811 % 1.7913205331205313 1.6330848518371082\n",
      "KBA05_ALTER2 5.237025105799228 % 1.7179976333766271 1.6280256659996566\n",
      "KBA05_ALTER3 4.69712615796468 % 1.7225738273660514 1.6416623615305872\n",
      "KBA05_ALTER4 7.987734808441191 % 1.8107025276432416 1.666068411565358\n",
      "KBA05_ANHANG 0.6656744110722835 % 1.5012974858142856 1.4913037326171483\n",
      "KBA05_ANTG1 0.08477553970553951 % 1.7311417909483044 1.732609375744649\n",
      "KBA05_ANTG2 3.0832483329095095 % 1.6467403825400653 1.595967287148051\n",
      "KBA05_ANTG3 16.296737069932036 % 1.2606581921308107 1.0552120412086938\n",
      "KBA05_ANTG4 8.884658122376688 % 0.9792942865047372 0.8922873371368232\n",
      "KBA05_AUTOQUOT 9.722894352839422 % 1.760856555055191 1.589650332502127\n",
      "KBA05_BAUMAX 11.36283165275959 % 1.6000398996947203 1.4182300595154258\n",
      "KBA05_CCM1 7.014642229068732 % 1.7212194606974207 1.6004820735523904\n",
      "KBA05_CCM2 6.168096375905343 % 1.7012706177147463 1.5963346063991406\n",
      "KBA05_CCM3 7.390238142767967 % 1.7276008019419364 1.5999269885220582\n",
      "KBA05_CCM4 0.4911621562571628 % 1.7069265760835906 1.6985427987067718\n",
      "KBA05_DIESEL 7.188711165014292 % 1.7147244959350105 1.5914579046464954\n",
      "KBA05_FRAU 6.4515386844446105 % 1.7176905818074226 1.606873109443055\n",
      "KBA05_GBZ 7.506776472413599 % 1.7744607043921716 1.6412559057226355\n",
      "KBA05_HERST1 6.5274940757244675 % 1.9054830167945531 1.7811027257593528\n",
      "KBA05_HERST2 5.633011542366145 % 1.6945900324290135 1.599133580306501\n",
      "KBA05_HERST3 5.394306374885936 % 1.7642756338664805 1.6691052008782616\n",
      "KBA05_HERST4 6.91547897463469 % 1.8421815425169612 1.7147858652695998\n",
      "KBA05_HERST5 7.206906326918442 % 1.8635715969244526 1.7292657375990492\n",
      "KBA05_HERSTTEMP 1.2375727259094185 % 1.7526465618370568 1.7309562860061722\n",
      "KBA05_KRSAQUOT 6.655306455992516 % 1.7517215912942634 1.6351391511378415\n",
      "KBA05_KRSHERST1 4.036790274616956 % 1.6845871737929226 1.6165839225938052\n",
      "KBA05_KRSHERST2 5.003493867687018 % 1.7152963805106254 1.6294716312991189\n",
      "KBA05_KRSHERST3 4.888709338713325 % 1.7309957460482617 1.64637239535847\n",
      "KBA05_KRSKLEIN 2.867179768285837 % 1.3074297973859494 1.269943434750759\n",
      "KBA05_KRSOBER 0.14706331354743682 % 1.2707320815814638 1.2688633008759798\n",
      "KBA05_KRSVAN 0.8622307512446498 % 1.2323156120706986 1.242941016230361\n",
      "KBA05_KRSZUL 2.3056136913778764 % 1.3592880259938345 1.3279480951612606\n",
      "KBA05_KW1 6.4981698652570685 % 1.74437638651856 1.6310238458331507\n",
      "KBA05_KW2 6.479175154059841 % 1.7065621532764064 1.5959910022527328\n",
      "KBA05_KW3 1.986168919734787 % 1.7527479096445644 1.7179353754219029\n",
      "KBA05_MAXAH 9.016751164221514 % 1.7637921385190054 1.6047553903346454\n",
      "KBA05_MAXBJ 2.208187292998803 % 1.628628286115837 1.592665123251643\n",
      "KBA05_MAXHERST 6.395170126414601 % 1.7300202450284023 1.6193825071374213\n",
      "KBA05_MAXSEG 0.9201952222773134 % 1.5713116961108615 1.5568525609561648\n",
      "KBA05_MAXVORB 2.9109501240928615 % 1.3960206531173678 1.3553831881830858\n",
      "KBA05_MOD1 0.053609789337442815 % 1.7169987753788052 1.7179192548052122\n",
      "KBA05_MOD2 6.491518674351971 % 1.703762565608408 1.59316250049532\n",
      "KBA05_MOD3 5.830725097487172 % 1.726705953006232 1.6260264756444927\n",
      "KBA05_MOD4 7.116486146901114 % 1.9117428283473803 1.7756939148036635\n",
      "KBA05_MOD8 3.326832233600421 % 1.6138141821012326 1.5601252917006738\n",
      "KBA05_MODTEMP 0.3000678513867855 % 1.6994641284419407 1.6943645829466358\n",
      "KBA05_MOTOR 3.9248094628541876 % 1.5932711902192866 1.5307383317766305\n",
      "KBA05_MOTRAD 0.19758421076456917 % 1.4592793364476675 1.462162642007438\n",
      "KBA05_SEG1 4.349202412547676 % 1.5724415724857241 1.5040529056792724\n",
      "KBA05_SEG10 6.398374034854745 % 1.761893739602504 1.6491611880460462\n",
      "KBA05_SEG2 6.374192814547144 % 1.706304901984015 1.5975417375274843\n",
      "KBA05_SEG3 6.966398578673719 % 1.7215622583865127 1.6016313696872915\n",
      "KBA05_SEG4 6.357917851175529 % 1.6870971632427567 1.5798329115342695\n",
      "KBA05_SEG5 3.401198146166092 % 1.7502456693001456 1.6907163460425567\n",
      "KBA05_SEG6 18.83136064224155 % 0.8081480745097684 0.9603333529440339\n",
      "KBA05_SEG7 0.4921451151678409 % 1.4965255351693132 1.5038906124878884\n",
      "KBA05_SEG8 3.9018615577449207 % 1.451237311771309 1.5078625825509646\n",
      "KBA05_SEG9 2.6591638202001775 % 1.567894534395453 1.526201650197913\n",
      "KBA05_VORB0 6.364321080945433 % 1.7654400416970688 1.6530817689518904\n",
      "KBA05_VORB1 5.82077544131558 % 1.704638495114691 1.6054153162278435\n",
      "KBA05_VORB2 7.804499947425339 % 1.9061170566183527 1.757354151936708\n",
      "KBA05_ZUL1 7.592377014347691 % 1.7105102096975613 1.5806418257084132\n",
      "KBA05_ZUL2 6.726284981802309 % 1.71752404391954 1.6019984820945363\n",
      "KBA05_ZUL3 8.072962142829923 % 1.8965331399366296 1.743426737523322\n",
      "KBA05_ZUL4 6.395314996985335 % 1.9409280125098476 1.816799552245116\n",
      "KBA13_ALTERHALTER_30 4.135647939240132 % 1.6339319552700984 1.5663582820333846\n",
      "KBA13_ALTERHALTER_45 2.206037828236221 % 1.6717829313150159 1.6349027674442103\n",
      "KBA13_ALTERHALTER_60 0.8607526676665854 % 1.632018544367 1.6179709012095476\n",
      "KBA13_ALTERHALTER_61 1.3749676935713941 % 1.6394636814339842 1.6169215854664307\n",
      "KBA13_ANTG1 1.2969966160442612 % 1.5204166620216457 1.5006969093654519\n",
      "KBA13_ANTG2 2.0309035443349255 % 1.5176635958173623 1.4868413120588266\n",
      "KBA13_ANTG3 1.8066139045180962 % 1.5630560013895125 1.534817614333005\n",
      "KBA13_ANTG4 1.5130170754898233 % 1.2569660391976134 1.2379479283914454\n",
      "KBA13_ANZAHL_PKW 13.08969137234381 % 6.3957569066092566 5.5585720666087415\n",
      "KBA13_AUDI 0.9786678998873048 % 1.5962965161922276 1.5806740746012349\n",
      "KBA13_AUTOQUOTE 3.2591407384010886 % 1.6265365327604473 1.573525417996275\n",
      "KBA13_BAUMAX 10.076447355009318 % 1.3872184493820798 1.247436112631118\n",
      "KBA13_BJ_1999 0.4006679189986296 % 1.5645150605469298 1.5582465506114163\n",
      "KBA13_BJ_2000 1.6505421529624125 % 1.5920972633854882 1.5658190269371497\n",
      "KBA13_BJ_2004 0.47200469780164883 % 1.554111592793625 1.5467761130665592\n",
      "KBA13_BJ_2006 1.6382298004458233 % 1.5671825318313202 1.5415084805674781\n",
      "KBA13_BJ_2008 1.7161093284999338 % 1.8037566925479829 1.772802255683725\n",
      "KBA13_BJ_2009 2.6046897485827234 % 1.8343815536595658 1.7866016053815026\n",
      "KBA13_BMW 2.2378865833921546 % 1.5907786911213404 1.5551788682212746\n",
      "KBA13_CCM_0_1400 3.072208110656825 % 1.8049459258846734 1.7494942307566745\n",
      "KBA13_CCM_1000 2.8568216609801977 % 1.826453531488612 1.7742750113733075\n",
      "KBA13_CCM_1200 2.1201050055152084 % 1.799986539221369 1.7618249345047368\n",
      "KBA13_CCM_1400 0.6039244467535839 % 1.54922002986171 1.558576148356048\n",
      "KBA13_CCM_1401_2500 0.29586076185705257 % 1.5507933066099133 1.546205117718149\n",
      "KBA13_CCM_1500 0.21461517146074563 % 1.6527164789259834 1.6562634592309904\n",
      "KBA13_CCM_1600 0.018636478489731916 % 1.5454140170648654 1.5451260063139978\n",
      "KBA13_CCM_1800 2.0285591580141316 % 1.789696257850873 1.753391210511603\n",
      "KBA13_CCM_2000 0.021126950214280155 % 1.5445454883006708 1.544871803657021\n",
      "KBA13_CCM_2500 2.1514512653709303 % 1.830403131873898 1.791022900531808\n",
      "KBA13_CCM_2501 2.137169521363587 % 1.8273001883541786 1.7882476856648537\n",
      "KBA13_CCM_3000 1.0096175234204634 % 1.7889012254513943 1.7708401652025536\n",
      "KBA13_CCM_3001 4.909597577738141 % 1.484786564599859 1.557683609810035\n",
      "KBA13_FAB_ASIEN 2.7322700881300315 % 1.60723183215311 1.5633179175562864\n",
      "KBA13_FAB_SONSTIGE 2.5858341025957907 % 1.5994684077706132 1.5581088082222347\n",
      "KBA13_FIAT 1.4630951326781918 % 1.5938335427279806 1.5705142417413351\n",
      "KBA13_FORD 1.2750151581565823 % 1.6225390158954474 1.643226634295119\n",
      "KBA13_GBZ 4.57766139869136 % 1.6540936127317645 1.5783748079235231\n",
      "KBA13_HALTER_20 3.0585742354646976 % 1.5978408771007824 1.5489697277100547\n",
      "KBA13_HALTER_25 4.553149229999646 % 1.6168847920126084 1.543265614555105\n",
      "KBA13_HALTER_30 3.1882746694908066 % 1.6517846555173712 1.5991212237509749\n",
      "KBA13_HALTER_35 1.1513493947253042 % 1.6645495067518778 1.645384726080987\n",
      "KBA13_HALTER_40 2.483354820612131 % 1.6595493970071413 1.618336897056125\n",
      "KBA13_HALTER_45 2.4865424597063086 % 1.6507354014544504 1.609689164799882\n",
      "KBA13_HALTER_50 0.7087920365219648 % 1.6308003736892767 1.6192413905089966\n",
      "KBA13_HALTER_55 0.9599992620701232 % 1.6381050795371905 1.6223792828617003\n",
      "KBA13_HALTER_60 1.703864638590309 % 1.6448543995294724 1.6168283070595928\n",
      "KBA13_HALTER_65 3.3867922622470745 % 1.6246194913414747 1.5695970041177638\n",
      "KBA13_HALTER_66 0.959443927574561 % 1.6460372514560424 1.6302444470013322\n",
      "KBA13_HERST_ASIEN 2.940151007416136 % 1.6161323622789976 1.5686156303482734\n",
      "KBA13_HERST_AUDI_VW 1.871510366360551 % 1.614065942693928 1.5838585312565159\n",
      "KBA13_HERST_BMW_BENZ 3.8758650924711526 % 1.60681848523882 1.544540368470075\n",
      "KBA13_HERST_EUROPA 1.0199423729266104 % 1.6037584478271558 1.620115859795935\n",
      "KBA13_HERST_FORD_OPEL 1.287621849601182 % 1.6361369096213232 1.6572041659589969\n",
      "KBA13_HERST_SONST 2.5858341025957907 % 1.5994684077706132 1.5581088082222347\n",
      "KBA13_HHZ 1.1229339088311514 % 1.5425241811000978 1.5252026540186048\n",
      "KBA13_KMH_0_140 0.22176086255457317 % 1.6840585680078612 1.6803239852015228\n",
      "KBA13_KMH_110 10.057417742215643 % 0.925847568070413 1.0189639256473988\n",
      "KBA13_KMH_140 0.3631216647922392 % 1.7016338324132738 1.6954548313123468\n",
      "KBA13_KMH_140_210 0.9803571111848286 % 1.5657576908340078 1.5811077077000224\n",
      "KBA13_KMH_180 0.6223181120984596 % 1.5705351385086013 1.580308863132411\n",
      "KBA13_KMH_210 0.45184344522074166 % 1.5588537154915545 1.551810137157526\n",
      "KBA13_KMH_211 1.3259583193888995 % 1.7998057774968232 1.775941103057262\n",
      "KBA13_KMH_250 1.3462522685058231 % 1.7989447041714544 1.7747263702823808\n",
      "KBA13_KMH_251 26.69406888699462 % 0.7608114212976474 0.9639029461989643\n",
      "KBA13_KRSAQUOT 2.3243013103320878 % 1.637567403039502 1.5995054024330837\n",
      "KBA13_KRSHERST_AUDI_VW 0.7025276482702784 % 1.6055590641507735 1.5942795678158048\n",
      "KBA13_KRSHERST_BMW_BENZ 2.299282872606716 % 1.599409740358444 1.5626347861355787\n",
      "KBA13_KRSHERST_FORD_OPEL 0.691015302562993 % 1.6263436902533726 1.637581974025291\n",
      "KBA13_KRSSEG_KLEIN 21.52992206415531 % 0.6740685718438507 0.8191950100207965\n",
      "KBA13_KRSSEG_OBER 2.610330942038868 % 1.139688908945046 1.1694385611782236\n",
      "KBA13_KRSSEG_VAN 4.287373623485488 % 1.1825561579442736 1.2332567587428798\n",
      "KBA13_KRSZUL_NEU 0.12174663784636061 % 1.3837713330020274 1.385456028075439\n",
      "KBA13_KW_0_60 0.06899512145299694 % 1.569179780154513 1.5702624376496466\n",
      "KBA13_KW_110 2.334436248949285 % 1.8079578612177092 1.7657522375397148\n",
      "KBA13_KW_120 1.31851625473136 % 1.730512127154381 1.753329210841009\n",
      "KBA13_KW_121 2.113780686906834 % 1.8376097414744412 1.7987667016584359\n",
      "KBA13_KW_30 6.018879539133192 % 1.0695151426822316 1.1338879707730636\n",
      "KBA13_KW_40 2.9758288174460095 % 1.8279437828661595 1.7735473050089157\n",
      "KBA13_KW_50 2.651746569875563 % 1.786388913712982 1.7390184069689607\n",
      "KBA13_KW_60 1.8865090638835176 % 1.8084407317572317 1.7743243334376702\n",
      "KBA13_KW_61_120 0.7098875691121405 % 1.5604737713936299 1.549396162071251\n",
      "KBA13_KW_70 1.9381619837741928 % 1.7801527297563708 1.7456504862951143\n",
      "KBA13_KW_80 2.0624969551019965 % 1.8074870181512632 1.7702076534380295\n",
      "KBA13_KW_90 1.8635640688884312 % 1.789383457617342 1.7560371504465517\n",
      "KBA13_MAZDA 0.35930205361391965 % 1.5941251981188334 1.5883974735448154\n",
      "KBA13_MERCEDES 3.8666886753687706 % 1.6079884942939178 1.545812585283822\n",
      "KBA13_MOTOR 4.721811603458973 % 1.3201144594896859 1.3824477772168096\n",
      "KBA13_NISSAN 1.0735873117964594 % 1.6095521637089008 1.5922722159025766\n",
      "KBA13_OPEL 1.4791894490423234 % 1.6340278614566377 1.6581982291777162\n",
      "KBA13_PEUGEOT 0.3760736762964653 % 1.601718540620662 1.6077421824202962\n",
      "KBA13_RENAULT 0.5462204037975 % 1.6121443031430622 1.6033384420206358\n",
      "KBA13_SEG_GELAENDEWAGEN 2.356981428076083 % 1.5944698803576038 1.5568885214013082\n",
      "KBA13_SEG_GROSSRAUMVANS 2.0237714379821585 % 1.6040677760784046 1.5716051105802542\n",
      "KBA13_SEG_KLEINST 0.447976214283934 % 1.6147150244991586 1.6074814852609334\n",
      "KBA13_SEG_KLEINWAGEN 1.7186184416412482 % 1.6058914515658504 1.5782923049264994\n",
      "KBA13_SEG_KOMPAKTKLASSE 3.969980044283937 % 1.6045689199072803 1.540867853990179\n",
      "KBA13_SEG_MINIVANS 1.2097657791373335 % 1.6053132142323758 1.585892684318623\n",
      "KBA13_SEG_MINIWAGEN 2.311742921765109 % 1.602496263306076 1.5654506693675474\n",
      "KBA13_SEG_MITTELKLASSE 1.7017679818859492 % 1.6130997966833671 1.5856485808275422\n",
      "KBA13_SEG_OBEREMITTELKLASSE 3.1318925448412664 % 1.598310745950801 1.548253370854971\n",
      "KBA13_SEG_OBERKLASSE 2.457307378129683 % 1.8263770971189237 1.7814973979589497\n",
      "KBA13_SEG_SONSTIGE 1.8634994205947404 % 1.5651122850194508 1.5359464266564562\n",
      "KBA13_SEG_SPORTWAGEN 4.966305415379577 % 1.8510951411777765 1.7591641029376364\n",
      "KBA13_SEG_UTILITIES 1.9842354452793274 % 1.593253472959955 1.5616395728163397\n",
      "KBA13_SEG_VAN 1.414280674104476 % 1.6031667571290804 1.5804934795093364\n",
      "KBA13_SEG_WOHNMOBILE 3.45761193559335 % 1.8393846792134942 1.775785895003533\n",
      "KBA13_SITZE_4 4.943752730086543 % 1.628475780083674 1.5479679642469892\n",
      "KBA13_SITZE_5 4.611229229386233 % 1.629277412093687 1.5541476958394354\n",
      "KBA13_SITZE_6 2.6606562370861937 % 1.621809806535243 1.5786590227639876\n",
      "KBA13_TOYOTA 0.6230844794787532 % 1.5989776022692874 1.589014620999206\n",
      "KBA13_VORB_0 0.5274198733668147 % 1.5743293322542602 1.5660260064837082\n",
      "KBA13_VORB_1 0.5379662185588423 % 1.5601753351485512 1.5517821188951648\n",
      "KBA13_VORB_1_2 0.7547401584388953 % 1.563164350523531 1.5749621796193327\n",
      "KBA13_VORB_2 0.0672156221967848 % 1.549643120614594 1.5486015183492432\n",
      "KBA13_VORB_3 4.388836328953091 % 1.8076137491999809 1.728280540287941\n",
      "KBA13_VW 1.9928928723331958 % 1.615211485160962 1.583022050600082\n",
      "KK_KUNDENTYP 13.00013036447026 % 1.2546753069228553 1.417784732473644\n",
      "KKK 0.268714167681234 % 1.6571620558869165 1.6527090266613107\n",
      "KOMBIALTER 28.28098508046334 % 1.5184615140313749 1.089025639795584\n",
      "KONSUMNAEHE 1.5845057277630858 % 1.8582310525427936 1.8287872750801808\n",
      "KONSUMZELLE 11.470467924564154 % 0.8243966319353389 0.9189587831726691\n",
      "LP_FAMILIE_FEIN 9.115295244644171 % 1.7199524470398881 1.8767311906550561\n",
      "LP_FAMILIE_GROB 8.19910170474386 % 1.4521435925299446 1.571206322580396\n",
      "LP_LEBENSPHASE_FEIN 14.606386823013477 % 3.501001767266882 2.9896319064593433\n",
      "LP_LEBENSPHASE_GROB 13.105461140091723 % 2.403054204698188 2.088122869726127\n",
      "LP_STATUS_FEIN 7.593526285602746 % 2.0823695806614615 1.9242442991905377\n",
      "LP_STATUS_GROB 6.057855808990566 % 1.4644095467986673 1.5531213655968228\n",
      "MOBI_RASTER 6.971924259122781 % 1.702388355348136 1.821077582079134\n",
      "MOBI_REGIO 6.93397785894432 % 1.7926574245428881 1.6683549556383628\n",
      "NATIONALITAET_KZ 13.00150848737855 % 0.7739704515544477 0.6733426176057941\n",
      "ONLINE_AFFINITAET 9.845328015051152 % 1.7723047803117165 1.5978155612635963\n",
      "ORTSGR_KLS9 5.512382832605881 % 2.253055953014811 2.1288588834518176\n",
      "OST_WEST_KZ 2.1021296729204755 % 0.7965438985832229 0.7797995129332674\n",
      "PLZ8_ANTG1 2.131977541178499 % 1.5617713593540314 1.5284747447280453\n",
      "PLZ8_ANTG2 2.3513751283627737 % 1.5148591047235263 1.4792390845053183\n",
      "PLZ8_ANTG3 3.047396955283488 % 1.5572704035720941 1.5098141927081072\n",
      "PLZ8_ANTG4 2.4240674971019045 % 1.2721685761109447 1.2413303511490952\n",
      "PLZ8_BAUMAX 12.510207975379476 % 1.3712238160717434 1.1996808648732333\n",
      "PLZ8_GBZ 5.0451389354747 % 1.658475821837117 1.5748034124141785\n",
      "PLZ8_HHZ 1.5986788690897722 % 1.543405622112957 1.5187315225678937\n",
      "PRAEGENDE_JUGENDJAHRE 1.0662583581980893 % 2.376210218043756 2.3508736779855073\n",
      "REGIOTYP 3.236249125985731 % 2.093223181152663 2.0254812642476794\n",
      "RELAT_AB 0.593747740093107 % 1.7122883591342775 1.7224550325705146\n",
      "RETOURTYP_BK_S 17.25154767265746 % 1.5470811884411113 1.2801857396824774\n",
      "RT_KEIN_ANREIZ 10.046108541333473 % 1.619023294976889 1.4563744574540372\n",
      "RT_SCHNAEPPCHEN 33.79071628109804 % 1.4287740431116023 0.9459810599057873\n",
      "RT_UEBERGROESSE 3.2690186293520425 % 1.8139864230456222 1.754686868942344\n",
      "SEMIO_DOM 10.391894000020143 % 1.8712381416824775 1.6767810575108877\n",
      "SEMIO_ERL 25.550505440577027 % 1.8366330018445536 1.3673639867848277\n",
      "SEMIO_FAM 10.932877373036137 % 1.9153220492791085 1.7059222383327008\n",
      "SEMIO_KAEM 9.93729521511666 % 1.861385319197551 1.6764139649380487\n",
      "SEMIO_KRIT 13.224926624329145 % 1.8503988212401434 1.605684934873683\n",
      "SEMIO_KULT 7.490971898979374 % 1.8779828412146555 1.7373036743116113\n",
      "SEMIO_LUST 21.989264294891772 % 1.9140430698681719 1.4931590805167996\n",
      "SEMIO_MAT 7.752375612345041 % 1.920417771101748 1.771539772159716\n",
      "SEMIO_PFLICHT 11.05850466029836 % 1.8962155231449138 1.6865224411486326\n",
      "SEMIO_RAT 7.726231677746158 % 1.7383055375481502 1.6040000244500894\n",
      "SEMIO_REL 3.389133298018038 % 1.8415444089626687 1.7791320142007254\n",
      "SEMIO_SOZ 11.004579817754838 % 1.8670347211494267 1.6615753950353416\n",
      "SEMIO_TRADV 20.97690056633187 % 1.864453902408601 1.4733492611952546\n",
      "SEMIO_VERT 3.927111305125834 % 1.8644920219387657 1.7912713449620392\n",
      "SHOPPER_TYP 0.3444687079799259 % 1.564867087027694 1.5702575644639813\n",
      "SOHO_KZ 81.12336111759127 % 0.3293751089993938 0.596575268104432\n",
      "STRUKTURTYP 9.043604099535916 % 1.0735727255637841 1.17066239258437\n",
      "TITEL_KZ 105.80243210537866 % 0.30261266594518377 0.6227842263741131\n",
      "UMFELD_ALT 0.8228605956954518 % 1.7342638260074446 1.7485343996570601\n",
      "UMFELD_JUNG 9.006193551141418 % 1.529695660597758 1.3919283086609127\n",
      "UNGLEICHENN_FLAG 37.657623893151246 % 0.5624912528350197 0.7743120932595058\n",
      "VERDICHTUNGSRAUM 5.794645163867887 % 2.366817780753279 2.229669088683294\n",
      "VERS_TYP 10.301744369599175 % 0.9827649995581524 1.0840069375665258\n",
      "VHA 49.17450757516125 % 0.94496277529364 1.409643566812865\n",
      "VHN 1.9396164920180579 % 1.6909598523576486 1.6581617161879154\n",
      "VK_DHT4A 7.372219132893249 % 2.391437725854605 2.2151356962779247\n",
      "VK_DISTANZ 11.186697644577 % 2.5498407500043 2.2645977748831045\n",
      "VK_ZG11 16.217860955426104 % 2.4121627933226137 2.02096158548303\n",
      "W_KEIT_KIND_HH 10.412691348297905 % 1.9198420264147265 1.719934801829253\n",
      "WOHNDAUER_2008 29.125086295207087 % 1.4004497412460362 0.9925675455871238\n",
      "WOHNLAGE 3.2108864953471814 % 1.9113338053209756 1.849963046284919\n",
      "ZABEOTYP 26.219982963920202 % 1.5342281308503876 1.1319537763137446\n",
      "ANREDE_KZ 4.316810937544623 % 0.6921701895499783 0.6622905111010615\n",
      "ALTERSKATEGORIE_GROB 6.994225361135836 % 1.3343429081358025 1.2410159580504507\n"
     ]
    },
    {
     "data": {
      "text/plain": [
       "[('TITEL_KZ', 105.80243210537866),\n",
       " ('ANZ_TITEL', 103.72998662542163),\n",
       " ('D19_BIO_OEKO', 82.55469802440915),\n",
       " ('SOHO_KZ', 81.12336111759127),\n",
       " ('D19_WEIN_FEINKOST', 80.28759422503283),\n",
       " ('D19_NAHRUNGSERGAENZUNG', 78.82205104450608),\n",
       " ('D19_BILDUNG', 78.74715295997396),\n",
       " ('D19_SAMMELARTIKEL', 76.38858302106354),\n",
       " ('D19_BEKLEIDUNG_GEH', 75.18365804046519),\n",
       " ('EXTSEL992', 67.74472449532884),\n",
       " ('D19_LEBENSMITTEL', 57.855964758171),\n",
       " ('D19_BANKEN_OFFLINE_DATUM', 54.86337535609308),\n",
       " ('AGER_TYP', 53.13463189451998),\n",
       " ('ANZ_HH_TITEL', 53.00067001180299),\n",
       " ('VHA', 49.17450757516125),\n",
       " ('D19_RATGEBER', 45.96339283788498),\n",
       " ('D19_HANDWERK', 45.219670031298534),\n",
       " ('D19_VERSAND_OFFLINE_DATUM', 44.744860587915234),\n",
       " ('D19_REISEN', 44.612690216633105),\n",
       " ('DSL_FLAG', 41.47163862691111),\n",
       " ('HH_DELTA_FLAG', 40.19397114068873),\n",
       " ('CJT_TYP_6', 39.25135348257203),\n",
       " ('CJT_TYP_5', 38.79913971144589),\n",
       " ('D19_KOSMETIK', 38.70715822769628),\n",
       " ('CJT_TYP_3', 37.8676589127492),\n",
       " ('UNGLEICHENN_FLAG', 37.657623893151246),\n",
       " ('D19_HAUS_DEKO', 34.13969875694629),\n",
       " ('RT_SCHNAEPPCHEN', 33.79071628109804),\n",
       " ('CJT_TYP_4', 32.66989472601853),\n",
       " ('GREEN_AVANTGARDE', 32.63514852014286),\n",
       " ('D19_ENERGIE', 32.58903104544513),\n",
       " ('FINANZ_VORSORGER', 29.580731191806453),\n",
       " ('D19_GESAMT_OFFLINE_DATUM', 29.356241200231075),\n",
       " ('WOHNDAUER_2008', 29.125086295207087),\n",
       " ('ANZ_STATISTISCHE_HAUSHALTE', 28.78006001828075),\n",
       " ('D19_GARTEN', 28.76133686821452),\n",
       " ('ANZ_HAUSHALTE_AKTIV', 28.73485665814139),\n",
       " ('ALTER_KIND1', 28.330532422603817),\n",
       " ('KOMBIALTER', 28.28098508046334),\n",
       " ('FINANZ_SPARER', 28.2718126315803),\n",
       " ('KBA13_KMH_251', 26.69406888699462),\n",
       " ('ZABEOTYP', 26.219982963920202),\n",
       " ('AKT_DAT_KL', 26.16334165694144),\n",
       " ('D19_BUCH_CD', 26.006843144742465),\n",
       " ('SEMIO_ERL', 25.550505440577027),\n",
       " ('D19_BANKEN_ONLINE_DATUM', 25.165029260680015),\n",
       " ('D19_VERSI_ONLINE_DATUM', 24.960318049751447),\n",
       " ('ANZ_KINDER', 24.22355134934488),\n",
       " ('FINANZ_MINIMALIST', 23.671218955706376),\n",
       " ('D19_BANKEN_GROSS', 23.17805367880073),\n",
       " ('SEMIO_LUST', 21.989264294891772),\n",
       " ('KBA13_KRSSEG_KLEIN', 21.52992206415531),\n",
       " ('D19_BANKEN_DIREKT', 21.2048195622147),\n",
       " ('SEMIO_TRADV', 20.97690056633187),\n",
       " ('D19_TECHNIK', 19.629765796481337),\n",
       " ('FINANZ_ANLEGER', 19.19477482606926),\n",
       " ('ANZ_PERSONEN', 19.126027773364225),\n",
       " ('KBA05_SEG6', 18.83136064224155),\n",
       " ('D19_KINDERARTIKEL', 18.749865234282154),\n",
       " ('D19_TELKO_ONLINE_DATUM', 17.84650605248508),\n",
       " ('D19_VOLLSORTIMENT', 17.646803467402275),\n",
       " ('ALTER_KIND2', 17.32545276798548),\n",
       " ('RETOURTYP_BK_S', 17.25154767265746),\n",
       " ('D19_VERSAND_ANZ_12', 16.92962255292734),\n",
       " ('CJT_KATALOGNUTZER', 16.53188482608612),\n",
       " ('KBA05_ANTG3', 16.296737069932036),\n",
       " ('VK_ZG11', 16.217860955426104),\n",
       " ('D19_BANKEN_LOKAL', 15.68015860241158),\n",
       " ('D19_SONSTIGE', 15.499536246261153),\n",
       " ('D19_BANKEN_ANZ_24', 15.284028331228505),\n",
       " ('D19_VERSI_OFFLINE_DATUM', 15.239579259084964),\n",
       " ('D19_VERSAND_ANZ_24', 15.23424695173128),\n",
       " ('LP_LEBENSPHASE_FEIN', 14.606386823013477),\n",
       " ('D19_SOZIALES', 14.004396685193269),\n",
       " ('D19_KONSUMTYP_MAX', 13.921526441550055),\n",
       " ('SEMIO_KRIT', 13.224926624329145),\n",
       " ('D19_FREIZEIT', 13.162642328766646),\n",
       " ('LP_LEBENSPHASE_GROB', 13.105461140091723),\n",
       " ('KBA13_ANZAHL_PKW', 13.08969137234381),\n",
       " ('D19_BANKEN_ANZ_12', 13.077602995420138),\n",
       " ('D19_BEKLEIDUNG_REST', 13.076118093593085),\n",
       " ('NATIONALITAET_KZ', 13.00150848737855),\n",
       " ('KK_KUNDENTYP', 13.00013036447026),\n",
       " ('PLZ8_BAUMAX', 12.510207975379476),\n",
       " ('D19_VERSAND_DATUM', 11.900339907792157),\n",
       " ('D19_LOTTO', 11.76575546363249),\n",
       " ('D19_BANKEN_DATUM', 11.68941265140021),\n",
       " ('KONSUMZELLE', 11.470467924564154),\n",
       " ('D19_GESAMT_ANZ_12', 11.363222365526083),\n",
       " ('KBA05_BAUMAX', 11.36283165275959),\n",
       " ('VK_DISTANZ', 11.186697644577),\n",
       " ('SEMIO_PFLICHT', 11.05850466029836),\n",
       " ('SEMIO_SOZ', 11.004579817754838),\n",
       " ('FINANZ_UNAUFFAELLIGER', 10.976650520873093),\n",
       " ('SEMIO_FAM', 10.932877373036137),\n",
       " ('W_KEIT_KIND_HH', 10.412691348297905),\n",
       " ('SEMIO_DOM', 10.391894000020143),\n",
       " ('VERS_TYP', 10.301744369599175),\n",
       " ('D19_DIGIT_SERV', 10.301355316122512),\n",
       " ('D19_GESAMT_ANZ_24', 10.261216623670116),\n",
       " ('CAMEO_DEUG_2015', 10.087382456963946),\n",
       " ('KBA13_BAUMAX', 10.076447355009318),\n",
       " ('KBA13_KMH_110', 10.057417742215643),\n",
       " ('RT_KEIN_ANREIZ', 10.046108541333473)]"
      ]
     },
     "execution_count": 6,
     "metadata": {},
     "output_type": "execute_result"
    }
   ],
   "source": [
    "ent_vals2=[]\n",
    "for col in azdias.columns.tolist():\n",
    "    ent=seg_entropy(azdias,col,dropna=False)\n",
    "    if ent is not None:\n",
    "        ent_vals2.append(ent)\n",
    "    \n",
    "#print(ent_vals)\n",
    "\n",
    "cust_ent_vals2=[]\n",
    "for col in azdias.columns.tolist():\n",
    "    ent=seg_entropy(customers,col,dropna=False)\n",
    "    if ent is not None:\n",
    "        cust_ent_vals2.append(ent)\n",
    "    \n",
    "## Choose columns whose entropy changes significantly between population and customers including null values\n",
    "chosen_dict2={}\n",
    "chosen_cols2=[]\n",
    "for i,col in enumerate((azdias.columns.tolist())):\n",
    "    \n",
    "    diff=(ent_vals2[i] -cust_ent_vals2[i]) /ent_vals2[i] * 100\n",
    "    diff=np.abs(diff)\n",
    "    print(col,diff,'%',ent_vals2[i],cust_ent_vals2[i])\n",
    "    if diff>10:\n",
    "        chosen_cols2.append(col)\n",
    "        chosen_dict2[col]=diff\n",
    "sorted(chosen_dict2.items(),key = lambda kv:kv[1],reverse=True)"
   ]
  },
  {
   "cell_type": "code",
   "execution_count": 7,
   "metadata": {
    "scrolled": true
   },
   "outputs": [
    {
     "name": "stdout",
     "output_type": "stream",
     "text": [
      "{'VK_DISTANZ', 'KBA13_ANZAHL_PKW', 'UMFELD_JUNG', 'UNGLEICHENN_FLAG', 'KBA13_KMH_110', 'KK_KUNDENTYP', 'KBA05_MAXAH', 'KBA13_ANTG4', 'PLZ8_ANTG4', 'CAMEO_DEUG_2015', 'KBA13_KRSSEG_KLEIN', 'D19_VERSAND_ONLINE_QUOTE_12', 'OST_WEST_KZ', 'D19_GESAMT_ONLINE_QUOTE_12', 'D19_BANKEN_ONLINE_QUOTE_12', 'D19_VERSI_ONLINE_QUOTE_12', 'MOBI_RASTER', 'ALTER_KIND2', 'ALTER_KIND1', 'ONLINE_AFFINITAET', 'KBA05_AUTOQUOT', 'EXTSEL992', 'KBA05_ANTG4'}\n",
      "['AGER_TYP' 'AKT_DAT_KL' 'ALTER_KIND1' 'ALTER_KIND2' 'ANZ_HAUSHALTE_AKTIV'\n",
      " 'ANZ_HH_TITEL' 'ANZ_KINDER' 'ANZ_PERSONEN' 'ANZ_STATISTISCHE_HAUSHALTE'\n",
      " 'ANZ_TITEL' 'CAMEO_DEUG_2015' 'CJT_KATALOGNUTZER' 'CJT_TYP_3' 'CJT_TYP_4'\n",
      " 'CJT_TYP_5' 'CJT_TYP_6' 'D19_BANKEN_ANZ_12' 'D19_BANKEN_ANZ_24'\n",
      " 'D19_BANKEN_DATUM' 'D19_BANKEN_DIREKT' 'D19_BANKEN_GROSS'\n",
      " 'D19_BANKEN_LOKAL' 'D19_BANKEN_OFFLINE_DATUM' 'D19_BANKEN_ONLINE_DATUM'\n",
      " 'D19_BANKEN_ONLINE_QUOTE_12' 'D19_BEKLEIDUNG_GEH' 'D19_BEKLEIDUNG_REST'\n",
      " 'D19_BILDUNG' 'D19_BIO_OEKO' 'D19_BUCH_CD' 'D19_DIGIT_SERV' 'D19_ENERGIE'\n",
      " 'D19_FREIZEIT' 'D19_GARTEN' 'D19_GESAMT_ANZ_12' 'D19_GESAMT_ANZ_24'\n",
      " 'D19_GESAMT_OFFLINE_DATUM' 'D19_GESAMT_ONLINE_QUOTE_12' 'D19_HANDWERK'\n",
      " 'D19_HAUS_DEKO' 'D19_KINDERARTIKEL' 'D19_KONSUMTYP_MAX' 'D19_KOSMETIK'\n",
      " 'D19_LEBENSMITTEL' 'D19_LOTTO' 'D19_NAHRUNGSERGAENZUNG' 'D19_RATGEBER'\n",
      " 'D19_REISEN' 'D19_SAMMELARTIKEL' 'D19_SONSTIGE' 'D19_SOZIALES'\n",
      " 'D19_TECHNIK' 'D19_TELKO_ONLINE_DATUM' 'D19_VERSAND_ANZ_12'\n",
      " 'D19_VERSAND_ANZ_24' 'D19_VERSAND_DATUM' 'D19_VERSAND_OFFLINE_DATUM'\n",
      " 'D19_VERSAND_ONLINE_QUOTE_12' 'D19_VERSI_OFFLINE_DATUM'\n",
      " 'D19_VERSI_ONLINE_DATUM' 'D19_VERSI_ONLINE_QUOTE_12' 'D19_VOLLSORTIMENT'\n",
      " 'D19_WEIN_FEINKOST' 'DSL_FLAG' 'EXTSEL992' 'FINANZ_ANLEGER'\n",
      " 'FINANZ_MINIMALIST' 'FINANZ_SPARER' 'FINANZ_UNAUFFAELLIGER'\n",
      " 'FINANZ_VORSORGER' 'GREEN_AVANTGARDE' 'HH_DELTA_FLAG' 'KBA05_ANTG3'\n",
      " 'KBA05_ANTG4' 'KBA05_AUTOQUOT' 'KBA05_BAUMAX' 'KBA05_MAXAH' 'KBA05_SEG6'\n",
      " 'KBA13_ANTG4' 'KBA13_ANZAHL_PKW' 'KBA13_BAUMAX' 'KBA13_KMH_110'\n",
      " 'KBA13_KMH_251' 'KBA13_KRSSEG_KLEIN' 'KK_KUNDENTYP' 'KOMBIALTER'\n",
      " 'KONSUMZELLE' 'LP_LEBENSPHASE_FEIN' 'LP_LEBENSPHASE_GROB' 'MOBI_RASTER'\n",
      " 'NATIONALITAET_KZ' 'ONLINE_AFFINITAET' 'OST_WEST_KZ' 'PLZ8_ANTG4'\n",
      " 'PLZ8_BAUMAX' 'RETOURTYP_BK_S' 'RT_KEIN_ANREIZ' 'RT_SCHNAEPPCHEN'\n",
      " 'SEMIO_DOM' 'SEMIO_ERL' 'SEMIO_FAM' 'SEMIO_KRIT' 'SEMIO_LUST'\n",
      " 'SEMIO_PFLICHT' 'SEMIO_SOZ' 'SEMIO_TRADV' 'SOHO_KZ' 'TITEL_KZ'\n",
      " 'UMFELD_JUNG' 'UNGLEICHENN_FLAG' 'VERS_TYP' 'VHA' 'VK_DISTANZ' 'VK_ZG11'\n",
      " 'WOHNDAUER_2008' 'W_KEIT_KIND_HH' 'ZABEOTYP']\n"
     ]
    }
   ],
   "source": [
    "print(set(chosen_cols).symmetric_difference(chosen_cols2))\n",
    "common_cols=np.intersect1d(chosen_cols,chosen_cols2)\n",
    "union_cols=np.union1d(chosen_cols,chosen_cols2)\n",
    "print(union_cols)"
   ]
  },
  {
   "cell_type": "code",
   "execution_count": 8,
   "metadata": {},
   "outputs": [
    {
     "data": {
      "text/plain": [
       "117"
      ]
     },
     "execution_count": 8,
     "metadata": {},
     "output_type": "execute_result"
    }
   ],
   "source": [
    "len(union_cols)"
   ]
  },
  {
   "cell_type": "code",
   "execution_count": 9,
   "metadata": {},
   "outputs": [],
   "source": [
    "def transform_train(df,union_cols):\n",
    "    '''\n",
    "    Cleans,Transforms Dataframe for final unsupervised,supervised analysis\n",
    "    \n",
    "    INPUT - df - pandas dataframe \n",
    "            union_cols - columns to be included\n",
    "    OUTPUT - \n",
    "            df- pandas dataframe \n",
    "    '''\n",
    "    convert_cols(df)\n",
    "    df=df[union_cols]\n",
    "    numeric_cols=['ANZ_HAUSHALTE_AKTIV','ANZ_HH_TITEL','ANZ_PERSONEN','ANZ_TITEL','KBA13_ANZAHL_PKW','ANZ_STATISTISCHE_HAUSHALTE']\n",
    "    replace_nan(df,numeric_cols)\n",
    "    \n",
    "    country_cols=['OST_WEST_KZ']\n",
    "    df=get_dumm(df,country_cols)\n",
    "    \n",
    "    cols_entropy_10=[('KBA05_AUTOQUOT',9),\n",
    "    ('KBA05_BAUMAX',0),\n",
    "    ('KBA05_MAXAH',9),\n",
    "    ('KBA05_SEG6',9),\n",
    "    ('RETOURTYP_BK_S',0),\n",
    "    ('ONLINE_AFFINITAET',0),\n",
    "    ('D19_LOTTO',0),\n",
    "    ('W_KEIT_KIND_HH',0),\n",
    "    ('KBA13_BAUMAX',0)]\n",
    "    replace_nan_with_tuple(df,cols_entropy_10)\n",
    "    \n",
    "    \n",
    "    \n",
    "    median_cols=['MOBI_RASTER','LP_LEBENSPHASE_GROB','LP_LEBENSPHASE_FEIN','EXTSEL992']\n",
    "    replace_nan(df,median_cols)\n",
    "    \n",
    "    \n",
    "    cols_9=[('KBA05_ALTER1',9),\n",
    "    ('KBA05_ALTER2',9),\n",
    "    ('KBA05_ALTER4',9),\n",
    "    ('KBA05_CCM1',9),\n",
    "    ('KBA05_CCM2',9),\n",
    "    ('KBA05_CCM3',9),\n",
    "    ('KBA05_DIESEL',9),\n",
    "    ('KBA05_FRAU',9),\n",
    "    ('KBA05_HERST2',9),\n",
    "    ('KBA05_HERST4',9),\n",
    "    ('KBA05_HERST5',9),\n",
    "    ('KBA05_KRSAQUOT',9),\n",
    "    ('KBA05_KRSKLEIN',9),\n",
    "    ('KBA05_KRSOBER',9),\n",
    "    ('KBA05_KRSVAN',9),\n",
    "    ('KBA05_KRSZUL',9),\n",
    "    ('KBA05_KW1',9),\n",
    "    ('KBA05_KW2',9),\n",
    "    ('KBA05_MAXHERST',9),\n",
    "    ('KBA05_MAXVORB',9),\n",
    "    ('KBA05_MOD2',9),\n",
    "    ('KBA05_MOD3',9),\n",
    "    ('KBA05_MOD4',9),\n",
    "    ('KBA05_SEG1',9),\n",
    "    ('KBA05_SEG10',9),\n",
    "    ('KBA05_SEG2',9),\n",
    "    ('KBA05_SEG3',9),\n",
    "    ('KBA05_SEG4',9),\n",
    "    ('KBA05_SEG8',9),\n",
    "    ('KBA05_VORB0',9),\n",
    "    ('KBA05_VORB1',9),\n",
    "    ('KBA05_VORB2',9),\n",
    "    ('KBA05_ZUL1',9),\n",
    "    ('KBA05_ZUL2',9),\n",
    "    ('KBA05_ZUL3',9),\n",
    "    ('KBA05_ZUL4',9),\n",
    "    ('KBA05_HERST1',9),\n",
    "    ('KBA05_HERST3',9),\n",
    "    ('KBA05_KRSHERST2',9)]\n",
    "    replace_nan_with_tuple(df,cols_9)\n",
    "    \n",
    "    \n",
    "    median_cols=['ALTERSKATEGORIE_FEIN']\n",
    "    replace_nan(df,median_cols)\n",
    "    \n",
    "    \n",
    "    cols_0=[('ALTER_HH',0)]\n",
    "    replace_nan_with_tuple(df,cols_0)\n",
    "    \n",
    "    \n",
    "    df=replace_global_nan(df,-1)\n",
    "    return df"
   ]
  },
  {
   "cell_type": "code",
   "execution_count": 10,
   "metadata": {},
   "outputs": [
    {
     "name": "stderr",
     "output_type": "stream",
     "text": [
      "/opt/conda/lib/python3.6/site-packages/ipykernel_launcher.py:46: SettingWithCopyWarning: \n",
      "A value is trying to be set on a copy of a slice from a DataFrame.\n",
      "Try using .loc[row_indexer,col_indexer] = value instead\n",
      "\n",
      "See the caveats in the documentation: http://pandas.pydata.org/pandas-docs/stable/indexing.html#indexing-view-versus-copy\n"
     ]
    }
   ],
   "source": [
    "azdias=transform_train(azdias,union_cols)\n",
    "customers=transform_train(customers,union_cols)"
   ]
  },
  {
   "cell_type": "code",
   "execution_count": 11,
   "metadata": {},
   "outputs": [],
   "source": [
    "def remove_corr_cols(corr,compare=0.9):\n",
    "    '''\n",
    "    INPUT - corr - correlation matrix \n",
    "            compare - threshold for similarity\n",
    "    OUTPUT - \n",
    "            list- columns with removed correlated columns\n",
    "    '''\n",
    "    similar_cols=corr.columns[(corr>compare).sum(axis=1) > 1]\n",
    "    remove_cols=[]\n",
    "    for col in similar_cols:\n",
    "        if col not in remove_cols:\n",
    "            print(\"\\n\",col, \"--similar to--\" , corr.columns[(corr.loc[col] > compare) & ~(corr.loc[col] == 1)].tolist())\n",
    "            remove_cols.extend(corr.columns[(corr.loc[col] > compare) & ~(corr.loc[col] == 1)].tolist())\n",
    "    print(set(remove_cols))\n",
    "\n",
    "    uc=union_cols.tolist()\n",
    "    #uc=union_cols.copy()\n",
    "    #print(uc)\n",
    "    for col in set(remove_cols):\n",
    "        print(\"--\",col)\n",
    "        if col in uc:\n",
    "            uc.remove(col)\n",
    "    print(uc,len(uc))\n",
    "    return uc"
   ]
  },
  {
   "cell_type": "code",
   "execution_count": 12,
   "metadata": {},
   "outputs": [
    {
     "name": "stdout",
     "output_type": "stream",
     "text": [
      "\n",
      " ANZ_HAUSHALTE_AKTIV --similar to-- ['ANZ_STATISTISCHE_HAUSHALTE']\n",
      "\n",
      " D19_GESAMT_ANZ_12 --similar to-- ['D19_GESAMT_ANZ_24', 'D19_VERSAND_ANZ_12']\n",
      "\n",
      " D19_GESAMT_ONLINE_QUOTE_12 --similar to-- ['D19_VERSAND_ONLINE_QUOTE_12']\n",
      "\n",
      " D19_VERSAND_ANZ_24 --similar to-- ['D19_GESAMT_ANZ_24', 'D19_VERSAND_ANZ_12']\n",
      "\n",
      " KBA05_AUTOQUOT --similar to-- ['KBA05_SEG6']\n",
      "\n",
      " KBA13_ANTG4 --similar to-- ['PLZ8_ANTG4']\n",
      "\n",
      " KBA13_BAUMAX --similar to-- ['PLZ8_BAUMAX']\n",
      "\n",
      " LP_LEBENSPHASE_FEIN --similar to-- ['LP_LEBENSPHASE_GROB']\n",
      "\n",
      " SOHO_KZ --similar to-- ['TITEL_KZ']\n",
      "\n",
      " VK_DISTANZ --similar to-- ['VK_ZG11']\n",
      "{'ANZ_STATISTISCHE_HAUSHALTE', 'LP_LEBENSPHASE_GROB', 'D19_VERSAND_ANZ_12', 'KBA05_SEG6', 'PLZ8_ANTG4', 'TITEL_KZ', 'D19_GESAMT_ANZ_24', 'VK_ZG11', 'D19_VERSAND_ONLINE_QUOTE_12', 'PLZ8_BAUMAX'}\n",
      "-- ANZ_STATISTISCHE_HAUSHALTE\n",
      "-- LP_LEBENSPHASE_GROB\n",
      "-- D19_VERSAND_ANZ_12\n",
      "-- KBA05_SEG6\n",
      "-- PLZ8_ANTG4\n",
      "-- TITEL_KZ\n",
      "-- D19_GESAMT_ANZ_24\n",
      "-- VK_ZG11\n",
      "-- D19_VERSAND_ONLINE_QUOTE_12\n",
      "-- PLZ8_BAUMAX\n",
      "['AGER_TYP', 'AKT_DAT_KL', 'ALTER_KIND1', 'ALTER_KIND2', 'ANZ_HAUSHALTE_AKTIV', 'ANZ_HH_TITEL', 'ANZ_KINDER', 'ANZ_PERSONEN', 'ANZ_TITEL', 'CAMEO_DEUG_2015', 'CJT_KATALOGNUTZER', 'CJT_TYP_3', 'CJT_TYP_4', 'CJT_TYP_5', 'CJT_TYP_6', 'D19_BANKEN_ANZ_12', 'D19_BANKEN_ANZ_24', 'D19_BANKEN_DATUM', 'D19_BANKEN_DIREKT', 'D19_BANKEN_GROSS', 'D19_BANKEN_LOKAL', 'D19_BANKEN_OFFLINE_DATUM', 'D19_BANKEN_ONLINE_DATUM', 'D19_BANKEN_ONLINE_QUOTE_12', 'D19_BEKLEIDUNG_GEH', 'D19_BEKLEIDUNG_REST', 'D19_BILDUNG', 'D19_BIO_OEKO', 'D19_BUCH_CD', 'D19_DIGIT_SERV', 'D19_ENERGIE', 'D19_FREIZEIT', 'D19_GARTEN', 'D19_GESAMT_ANZ_12', 'D19_GESAMT_OFFLINE_DATUM', 'D19_GESAMT_ONLINE_QUOTE_12', 'D19_HANDWERK', 'D19_HAUS_DEKO', 'D19_KINDERARTIKEL', 'D19_KONSUMTYP_MAX', 'D19_KOSMETIK', 'D19_LEBENSMITTEL', 'D19_LOTTO', 'D19_NAHRUNGSERGAENZUNG', 'D19_RATGEBER', 'D19_REISEN', 'D19_SAMMELARTIKEL', 'D19_SONSTIGE', 'D19_SOZIALES', 'D19_TECHNIK', 'D19_TELKO_ONLINE_DATUM', 'D19_VERSAND_ANZ_24', 'D19_VERSAND_DATUM', 'D19_VERSAND_OFFLINE_DATUM', 'D19_VERSI_OFFLINE_DATUM', 'D19_VERSI_ONLINE_DATUM', 'D19_VERSI_ONLINE_QUOTE_12', 'D19_VOLLSORTIMENT', 'D19_WEIN_FEINKOST', 'DSL_FLAG', 'EXTSEL992', 'FINANZ_ANLEGER', 'FINANZ_MINIMALIST', 'FINANZ_SPARER', 'FINANZ_UNAUFFAELLIGER', 'FINANZ_VORSORGER', 'GREEN_AVANTGARDE', 'HH_DELTA_FLAG', 'KBA05_ANTG3', 'KBA05_ANTG4', 'KBA05_AUTOQUOT', 'KBA05_BAUMAX', 'KBA05_MAXAH', 'KBA13_ANTG4', 'KBA13_ANZAHL_PKW', 'KBA13_BAUMAX', 'KBA13_KMH_110', 'KBA13_KMH_251', 'KBA13_KRSSEG_KLEIN', 'KK_KUNDENTYP', 'KOMBIALTER', 'KONSUMZELLE', 'LP_LEBENSPHASE_FEIN', 'MOBI_RASTER', 'NATIONALITAET_KZ', 'ONLINE_AFFINITAET', 'OST_WEST_KZ', 'RETOURTYP_BK_S', 'RT_KEIN_ANREIZ', 'RT_SCHNAEPPCHEN', 'SEMIO_DOM', 'SEMIO_ERL', 'SEMIO_FAM', 'SEMIO_KRIT', 'SEMIO_LUST', 'SEMIO_PFLICHT', 'SEMIO_SOZ', 'SEMIO_TRADV', 'SOHO_KZ', 'UMFELD_JUNG', 'UNGLEICHENN_FLAG', 'VERS_TYP', 'VHA', 'VK_DISTANZ', 'WOHNDAUER_2008', 'W_KEIT_KIND_HH', 'ZABEOTYP'] 107\n"
     ]
    }
   ],
   "source": [
    "corr=azdias.corr()\n",
    "uc=remove_corr_cols(corr)"
   ]
  },
  {
   "cell_type": "markdown",
   "metadata": {},
   "source": [
    " ANZ_HAUSHALTE_AKTIV --similar to-- ['ANZ_STATISTISCHE_HAUSHALTE']\n",
    "\n",
    " D19_GESAMT_ANZ_12 --similar to-- ['D19_GESAMT_ANZ_24', 'D19_VERSAND_ANZ_12']\n",
    "\n",
    " D19_GESAMT_ONLINE_QUOTE_12 --similar to-- ['D19_VERSAND_ONLINE_QUOTE_12']\n",
    "\n",
    " D19_VERSAND_ANZ_24 --similar to-- ['D19_GESAMT_ANZ_24', 'D19_VERSAND_ANZ_12']\n",
    "\n",
    " KBA05_AUTOQUOT --similar to-- ['KBA05_SEG6']\n",
    "\n",
    " KBA13_ANTG4 --similar to-- ['PLZ8_ANTG4']\n",
    "\n",
    " KBA13_BAUMAX --similar to-- ['PLZ8_BAUMAX']\n",
    "\n",
    " LP_LEBENSPHASE_FEIN --similar to-- ['LP_LEBENSPHASE_GROB']\n",
    "\n",
    " SOHO_KZ --similar to-- ['TITEL_KZ']\n",
    "\n",
    " VK_DISTANZ --similar to-- ['VK_ZG11']\n",
    "{'ANZ_STATISTISCHE_HAUSHALTE', 'TITEL_KZ', 'PLZ8_BAUMAX', 'D19_VERSAND_ANZ_12', 'D19_GESAMT_ANZ_24', 'PLZ8_ANTG4', 'VK_ZG11', 'D19_VERSAND_ONLINE_QUOTE_12', 'KBA05_SEG6', 'LP_LEBENSPHASE_GROB'}\n",
    "-- ANZ_STATISTISCHE_HAUSHALTE\n",
    "-- TITEL_KZ\n",
    "-- PLZ8_BAUMAX\n",
    "-- D19_VERSAND_ANZ_12\n",
    "-- D19_GESAMT_ANZ_24\n",
    "-- PLZ8_ANTG4\n",
    "-- VK_ZG11\n",
    "-- D19_VERSAND_ONLINE_QUOTE_12\n",
    "-- KBA05_SEG6\n",
    "-- LP_LEBENSPHASE_GROB\n",
    "['AGER_TYP', 'AKT_DAT_KL', 'ALTER_KIND1', 'ALTER_KIND2', 'ANZ_HAUSHALTE_AKTIV', 'ANZ_HH_TITEL', 'ANZ_KINDER', 'ANZ_PERSONEN', 'ANZ_TITEL', 'CAMEO_DEUG_2015', 'CJT_KATALOGNUTZER', 'CJT_TYP_3', 'CJT_TYP_4', 'CJT_TYP_5', 'CJT_TYP_6', 'D19_BANKEN_ANZ_12', 'D19_BANKEN_ANZ_24', 'D19_BANKEN_DATUM', 'D19_BANKEN_DIREKT', 'D19_BANKEN_GROSS', 'D19_BANKEN_LOKAL', 'D19_BANKEN_OFFLINE_DATUM', 'D19_BANKEN_ONLINE_DATUM', 'D19_BANKEN_ONLINE_QUOTE_12', 'D19_BEKLEIDUNG_GEH', 'D19_BEKLEIDUNG_REST', 'D19_BILDUNG', 'D19_BIO_OEKO', 'D19_BUCH_CD', 'D19_DIGIT_SERV', 'D19_ENERGIE', 'D19_FREIZEIT', 'D19_GARTEN', 'D19_GESAMT_ANZ_12', 'D19_GESAMT_OFFLINE_DATUM', 'D19_GESAMT_ONLINE_QUOTE_12', 'D19_HANDWERK', 'D19_HAUS_DEKO', 'D19_KINDERARTIKEL', 'D19_KONSUMTYP_MAX', 'D19_KOSMETIK', 'D19_LEBENSMITTEL', 'D19_LOTTO', 'D19_NAHRUNGSERGAENZUNG', 'D19_RATGEBER', 'D19_REISEN', 'D19_SAMMELARTIKEL', 'D19_SONSTIGE', 'D19_SOZIALES', 'D19_TECHNIK', 'D19_TELKO_ONLINE_DATUM', 'D19_VERSAND_ANZ_24', 'D19_VERSAND_DATUM', 'D19_VERSAND_OFFLINE_DATUM', 'D19_VERSI_OFFLINE_DATUM', 'D19_VERSI_ONLINE_DATUM', 'D19_VERSI_ONLINE_QUOTE_12', 'D19_VOLLSORTIMENT', 'D19_WEIN_FEINKOST', 'DSL_FLAG', 'EXTSEL992', 'FINANZ_ANLEGER', 'FINANZ_MINIMALIST', 'FINANZ_SPARER', 'FINANZ_UNAUFFAELLIGER', 'FINANZ_VORSORGER', 'GREEN_AVANTGARDE', 'HH_DELTA_FLAG', 'KBA05_ANTG3', 'KBA05_ANTG4', 'KBA05_AUTOQUOT', 'KBA05_BAUMAX', 'KBA05_MAXAH', 'KBA13_ANTG4', 'KBA13_ANZAHL_PKW', 'KBA13_BAUMAX', 'KBA13_KMH_110', 'KBA13_KMH_251', 'KBA13_KRSSEG_KLEIN', 'KK_KUNDENTYP', 'KOMBIALTER', 'KONSUMZELLE', 'LP_LEBENSPHASE_FEIN', 'MOBI_RASTER', 'NATIONALITAET_KZ', 'ONLINE_AFFINITAET', 'OST_WEST_KZ', 'RETOURTYP_BK_S', 'RT_KEIN_ANREIZ', 'RT_SCHNAEPPCHEN', 'SEMIO_DOM', 'SEMIO_ERL', 'SEMIO_FAM', 'SEMIO_KRIT', 'SEMIO_LUST', 'SEMIO_PFLICHT', 'SEMIO_SOZ', 'SEMIO_TRADV', 'SOHO_KZ', 'UMFELD_JUNG', 'UNGLEICHENN_FLAG', 'VERS_TYP', 'VHA', 'VK_DISTANZ', 'WOHNDAUER_2008', 'W_KEIT_KIND_HH', 'ZABEOTYP'] 107"
   ]
  },
  {
   "cell_type": "code",
   "execution_count": 13,
   "metadata": {},
   "outputs": [
    {
     "name": "stdout",
     "output_type": "stream",
     "text": [
      "(191652, 119) (891221, 119)\n",
      "[]\n"
     ]
    }
   ],
   "source": [
    "print(customers.shape,azdias.shape)\n",
    "na_cols1=azdias.columns[azdias.isnull().any()].tolist()\n",
    "na_cols2=customers.columns[customers.isnull().any()].tolist()\n",
    "na_cols3=np.union1d(na_cols1,na_cols2)\n",
    "na_cols3,len(na_cols3)\n",
    "#azdias.AKT_DAT_KL.median()\n",
    "print(na_cols3)"
   ]
  },
  {
   "cell_type": "code",
   "execution_count": 14,
   "metadata": {},
   "outputs": [],
   "source": [
    "transformed_cols=azdias.columns.tolist()"
   ]
  },
  {
   "cell_type": "code",
   "execution_count": 15,
   "metadata": {},
   "outputs": [],
   "source": [
    "## Perform Scaling before PCA\n",
    "std_scaler=StandardScaler()\n",
    "with active_session():\n",
    "    azdias=std_scaler.fit_transform(azdias)"
   ]
  },
  {
   "cell_type": "code",
   "execution_count": 16,
   "metadata": {},
   "outputs": [
    {
     "name": "stdout",
     "output_type": "stream",
     "text": [
      "explained Variance\n",
      "[0.15911067 0.11795306 0.07829145 0.03608249 0.02923297 0.02790533\n",
      " 0.02158216 0.01862138 0.01619815 0.0152396  0.01505069 0.01347042\n",
      " 0.01227783 0.01182264 0.01146067 0.01089034 0.00997846 0.00973352\n",
      " 0.00953352 0.00932409 0.00898696 0.00870383 0.00837283 0.00812667\n",
      " 0.00804875 0.00796757 0.00778796 0.00764259 0.00758204 0.00746207\n",
      " 0.00737653 0.00727215 0.00699154 0.0068399  0.00675805 0.00668508\n",
      " 0.00664108 0.00651817 0.00636708 0.00632792 0.00617672 0.00613271\n",
      " 0.00603203 0.00581276 0.00570688 0.00564388 0.00559713 0.00558207\n",
      " 0.00551533 0.00545779 0.00535993 0.00529325 0.00524567 0.00513029\n",
      " 0.00500053 0.0048951  0.0047841  0.00474064 0.00466962 0.0045785\n",
      " 0.00440101 0.00425737 0.00417135 0.00408005 0.00394646 0.00387151\n",
      " 0.00375662 0.00358636 0.00348712 0.00345678 0.00336862 0.00320574\n",
      " 0.0030794  0.00301229 0.0029262  0.00279475 0.00263159 0.00247038\n",
      " 0.00242116 0.00236319 0.00229746 0.00229426 0.00221541 0.00211467\n",
      " 0.00209309 0.00200676 0.00197235 0.00186102 0.00178841 0.0017341\n",
      " 0.00165327 0.00159244 0.00152097 0.00147028 0.00143148 0.00134179\n",
      " 0.00131822 0.00128464 0.00105757 0.00098931]\n",
      "0.9908985884951649\n"
     ]
    }
   ],
   "source": [
    "## Peform PCA\n",
    "with active_session():\n",
    "    pop_pca,pop_pca_df=seg_pca(azdias,dim=100)\n"
   ]
  },
  {
   "cell_type": "code",
   "execution_count": 29,
   "metadata": {},
   "outputs": [
    {
     "data": {
      "image/png": "[encoded data removed]",
      "text/plain": [
       "<matplotlib.figure.Figure at 0x7f4e96020780>"
      ]
     },
     "metadata": {
      "needs_background": "light"
     },
     "output_type": "display_data"
    }
   ],
   "source": [
    "## Plot PCA \n",
    "\n",
    "sum=0\n",
    "xax=[]\n",
    "yax=[]\n",
    "for i,val in enumerate(pop_pca.explained_variance_ratio_):\n",
    "    sum+=val\n",
    "    xax.append(i)\n",
    "    yax.append(sum *100)\n",
    "plt.plot(xax,yax,label='PCA explained variance');\n",
    "plt.xlabel('Number of components')\n",
    "plt.ylabel('Total Perecent Explained Variance')\n",
    "plt.legend()\n",
    "plt.show()"
   ]
  },
  {
   "cell_type": "code",
   "execution_count": 30,
   "metadata": {},
   "outputs": [],
   "source": [
    "## Transform customers dataframe using scaler and PCA for customer clustering analysis\n",
    "cust_pca_df=pop_pca.transform(std_scaler.transform(customers))"
   ]
  },
  {
   "cell_type": "code",
   "execution_count": 31,
   "metadata": {},
   "outputs": [
    {
     "data": {
      "image/png": "[encoded data removed]",
      "text/plain": [
       "<matplotlib.figure.Figure at 0x7f4e960aeac8>"
      ]
     },
     "metadata": {
      "needs_background": "light"
     },
     "output_type": "display_data"
    },
    {
     "data": {
      "image/png": "[encoded data removed]",
      "text/plain": [
       "<matplotlib.figure.Figure at 0x7f4e95cabfd0>"
      ]
     },
     "metadata": {
      "needs_background": "light"
     },
     "output_type": "display_data"
    },
    {
     "data": {
      "image/png": "[encoded data removed]",
      "text/plain": [
       "<matplotlib.figure.Figure at 0x7f4e926d4dd8>"
      ]
     },
     "metadata": {
      "needs_background": "light"
     },
     "output_type": "display_data"
    },
    {
     "data": {
      "image/png": "[encoded data removed]",
      "text/plain": [
       "<matplotlib.figure.Figure at 0x7f4e95eca400>"
      ]
     },
     "metadata": {
      "needs_background": "light"
     },
     "output_type": "display_data"
    }
   ],
   "source": [
    "## Plot features of PCA components\n",
    "comps_df=pd.DataFrame(pop_pca.components_,columns=transformed_cols)\n",
    "\n",
    "for k in range(4):\n",
    "    i=[]\n",
    "    j=[]\n",
    "    v=comps_df.iloc[k].sort_values(ascending=False)[:5]\n",
    "    i=v.index.tolist()\n",
    "    j=v.values.astype('float').tolist()\n",
    "    \n",
    "    v=comps_df.iloc[k].sort_values(ascending=True)[:5]\n",
    "    i.extend(v.index.tolist())\n",
    "    j.extend(v.values.astype('float').tolist())\n",
    "\n",
    "    plt.barh(range(len(i)),j,tick_label=i,color='violet');\n",
    "    plt.show()\n"
   ]
  },
  {
   "cell_type": "code",
   "execution_count": 32,
   "metadata": {
    "scrolled": true
   },
   "outputs": [
    {
     "data": {
      "text/plain": [
       "<matplotlib.collections.PathCollection at 0x7f4e95befcf8>"
      ]
     },
     "execution_count": 32,
     "metadata": {},
     "output_type": "execute_result"
    },
    {
     "data": {
      "image/png": "[encoded data removed]",
      "text/plain": [
       "<matplotlib.figure.Figure at 0x7f4e93923e48>"
      ]
     },
     "metadata": {
      "needs_background": "light"
     },
     "output_type": "display_data"
    }
   ],
   "source": [
    "#from sklearn.manifold import TSNE\n",
    "#plt.scatter(TNSE.fit_transform(customers2))\n",
    "plt.scatter(cust_pca_df[0],cust_pca_df[1],color='orange')\n",
    "plt.scatter(pop_pca_df[0],pop_pca_df[1])"
   ]
  },
  {
   "cell_type": "code",
   "execution_count": 33,
   "metadata": {
    "scrolled": true
   },
   "outputs": [],
   "source": [
    "from sklearn.manifold import TSNE\n",
    "#plt.scatter(TSNE().fit_transform(customers2))"
   ]
  },
  {
   "cell_type": "markdown",
   "metadata": {},
   "source": [
    "## Part 1: Customer Segmentation Report\n",
    "\n",
    "The main bulk of your analysis will come in this part of the project. Here, you should use unsupervised learning techniques to describe the relationship between the demographics of the company's existing customers and the general population of Germany. By the end of this part, you should be able to describe parts of the general population that are more likely to be part of the mail-order company's main customer base, and which parts of the general population are less so."
   ]
  },
  {
   "cell_type": "code",
   "execution_count": 23,
   "metadata": {},
   "outputs": [],
   "source": [
    "## Choosing number of clusters using elbow curve\n",
    "x= range(2,20)\n",
    "y=[]\n",
    "sil_y=[]\n",
    "with active_session():\n",
    "    for k in range(2,20):\n",
    "        pop_kmeans=kmeans(pop_pca_df,n_clusters=k)\n",
    "        #print(pop_kmeans.inertia_)\n",
    "        y.append(pop_kmeans.inertia_)\n",
    "        #sil_y.append(silhouette_score(pop_pca_df,pop_kmeans.labels_,sample_size=10000))"
   ]
  },
  {
   "cell_type": "code",
   "execution_count": 24,
   "metadata": {},
   "outputs": [
    {
     "data": {
      "image/png": "[encoded data removed]",
      "text/plain": [
       "<matplotlib.figure.Figure at 0x7f93a20e5908>"
      ]
     },
     "metadata": {
      "needs_background": "light"
     },
     "output_type": "display_data"
    }
   ],
   "source": [
    "plt.plot(x,y,color='blue')\n",
    "plt.show()"
   ]
  },
  {
   "cell_type": "code",
   "execution_count": 17,
   "metadata": {},
   "outputs": [],
   "source": [
    "# Final Kmeans with 12 clusters\n",
    "pop_kmeans=kmeans(pop_pca_df,n_clusters=12)"
   ]
  },
  {
   "cell_type": "code",
   "execution_count": 34,
   "metadata": {},
   "outputs": [],
   "source": [
    "len(pop_kmeans.cluster_centers_),\n",
    "labels=pop_kmeans.labels_\n",
    "total=labels.shape[0]\n",
    "pop_p=[(labels==0).sum()/total *100,\n",
    "(labels==1).sum()/total *100,\n",
    "(labels==2).sum()/total *100,\n",
    "(labels==3).sum()/total *100,\n",
    "(labels==4).sum()/total *100,\n",
    "(labels==5).sum()/total *100,\n",
    "(labels==6).sum()/total *100,\n",
    "(labels==7).sum()/total *100,\n",
    "(labels==8).sum()/total *100,\n",
    "(labels==8).sum()/total *100,\n",
    "(labels==10).sum()/total *100,\n",
    "(labels==11).sum()/total *100,       \n",
    "      ]\n"
   ]
  },
  {
   "cell_type": "code",
   "execution_count": 35,
   "metadata": {},
   "outputs": [],
   "source": [
    "cust_pred_labels=pop_kmeans.predict(cust_pca_df)\n",
    "\n",
    "labels=cust_pred_labels\n",
    "total=labels.shape[0]\n",
    "cust_p=[(labels==0).sum()/total *100,\n",
    "(labels==1).sum()/total *100,\n",
    "(labels==2).sum()/total *100,\n",
    "(labels==3).sum()/total *100,\n",
    "(labels==4).sum()/total *100,\n",
    "(labels==5).sum()/total *100,\n",
    "(labels==6).sum()/total *100,\n",
    "(labels==7).sum()/total *100,\n",
    "(labels==8).sum()/total *100,\n",
    "(labels==8).sum()/total *100,\n",
    "(labels==10).sum()/total *100,\n",
    "(labels==11).sum()/total *100,            \n",
    "]"
   ]
  },
  {
   "cell_type": "code",
   "execution_count": 36,
   "metadata": {},
   "outputs": [],
   "source": [
    "#plt.bar(range(0,34,3),pop_p,label='population');\n",
    "#plt.bar(range(1,35,3),cust_p,color='orange',label='customers');\n",
    "#plt.xlabel('clusters')\n",
    "#plt.ylabel('share of people')\n",
    "#plt.xticks([]);\n",
    "\n",
    "#plt.legend();\n",
    "\n"
   ]
  },
  {
   "cell_type": "code",
   "execution_count": 37,
   "metadata": {},
   "outputs": [
    {
     "data": {
      "image/png": "[encoded data removed]",
      "text/plain": [
       "<matplotlib.figure.Figure at 0x7f4e95be60f0>"
      ]
     },
     "metadata": {
      "needs_background": "light"
     },
     "output_type": "display_data"
    }
   ],
   "source": [
    "## Plot customers and population clusters\n",
    "clusters=np.arange(0,12)\n",
    "width=0.3\n",
    "plt.bar(clusters-width/2,pop_p,width,label='population');\n",
    "plt.bar(clusters+width/2,cust_p,width,color='orange',label='customers');\n",
    "plt.xlabel('clusters')\n",
    "plt.ylabel('share of people')\n",
    "plt.xticks(clusters);\n",
    "#pop_p,cust_p\n",
    "plt.legend();"
   ]
  },
  {
   "cell_type": "code",
   "execution_count": 38,
   "metadata": {},
   "outputs": [
    {
     "data": {
      "text/html": [
       "<style  type=\"text/css\" >\n",
       "    #T_b8725596_d6ac_11eb_a26b_0242ac120002row0_col2 {\n",
       "            width:  10em;\n",
       "             height:  80%;\n",
       "            background:  linear-gradient(90deg, transparent 0%, transparent 5.7%, green 5.7%, green 100.0%, transparent 100.0%);\n",
       "        }    #T_b8725596_d6ac_11eb_a26b_0242ac120002row1_col2 {\n",
       "            width:  10em;\n",
       "             height:  80%;\n",
       "            background:  linear-gradient(90deg, transparent 0%, transparent 5.7%, green 5.7%, green 17.1%, transparent 17.1%);\n",
       "        }    #T_b8725596_d6ac_11eb_a26b_0242ac120002row2_col2 {\n",
       "            width:  10em;\n",
       "             height:  80%;\n",
       "            background:  linear-gradient(90deg, transparent 0%, transparent 5.7%, green 5.7%, green 9.4%, transparent 9.4%);\n",
       "        }    #T_b8725596_d6ac_11eb_a26b_0242ac120002row3_col2 {\n",
       "            width:  10em;\n",
       "             height:  80%;\n",
       "            background:  linear-gradient(90deg, transparent 0%, transparent 5.7%, green 5.7%, green 8.8%, transparent 8.8%);\n",
       "        }    #T_b8725596_d6ac_11eb_a26b_0242ac120002row4_col2 {\n",
       "            width:  10em;\n",
       "             height:  80%;\n",
       "            background:  linear-gradient(90deg, transparent 0%, transparent 5.7%, green 5.7%, green 8.5%, transparent 8.5%);\n",
       "        }    #T_b8725596_d6ac_11eb_a26b_0242ac120002row5_col2 {\n",
       "            width:  10em;\n",
       "             height:  80%;\n",
       "            background:  linear-gradient(90deg, transparent 0%, transparent 5.7%, green 5.7%, green 8.4%, transparent 8.4%);\n",
       "        }    #T_b8725596_d6ac_11eb_a26b_0242ac120002row6_col2 {\n",
       "            width:  10em;\n",
       "             height:  80%;\n",
       "            background:  linear-gradient(90deg, transparent 0%, transparent 3.0%, red 3.0%, red 5.7%, transparent 5.7%);\n",
       "        }    #T_b8725596_d6ac_11eb_a26b_0242ac120002row7_col2 {\n",
       "            width:  10em;\n",
       "             height:  80%;\n",
       "            background:  linear-gradient(90deg, transparent 0%, transparent 2.9%, red 2.9%, red 5.7%, transparent 5.7%);\n",
       "        }    #T_b8725596_d6ac_11eb_a26b_0242ac120002row8_col2 {\n",
       "            width:  10em;\n",
       "             height:  80%;\n",
       "            background:  linear-gradient(90deg, transparent 0%, transparent 2.8%, red 2.8%, red 5.7%, transparent 5.7%);\n",
       "        }    #T_b8725596_d6ac_11eb_a26b_0242ac120002row9_col2 {\n",
       "            width:  10em;\n",
       "             height:  80%;\n",
       "            background:  linear-gradient(90deg, transparent 0%, transparent 2.4%, red 2.4%, red 5.7%, transparent 5.7%);\n",
       "        }    #T_b8725596_d6ac_11eb_a26b_0242ac120002row10_col2 {\n",
       "            width:  10em;\n",
       "             height:  80%;\n",
       "            background:  linear-gradient(90deg, transparent 0%, transparent 0.7%, red 0.7%, red 5.7%, transparent 5.7%);\n",
       "        }    #T_b8725596_d6ac_11eb_a26b_0242ac120002row11_col2 {\n",
       "            width:  10em;\n",
       "             height:  80%;\n",
       "            background:  linear-gradient(90deg, transparent 0%, transparent 0.0%, red 0.0%, red 5.7%, transparent 5.7%);\n",
       "        }</style>  \n",
       "<table id=\"T_b8725596_d6ac_11eb_a26b_0242ac120002\" > \n",
       "<thead>    <tr> \n",
       "        <th class=\"blank level0\" ></th> \n",
       "        <th class=\"col_heading level0 col0\" >Attribute</th> \n",
       "        <th class=\"col_heading level0 col1\" >Cluster_10</th> \n",
       "        <th class=\"col_heading level0 col2\" >Difference</th> \n",
       "        <th class=\"col_heading level0 col3\" >Cluster_11</th> \n",
       "    </tr></thead> \n",
       "<tbody>    <tr> \n",
       "        <th id=\"T_b8725596_d6ac_11eb_a26b_0242ac120002level0_row0\" class=\"row_heading level0 row0\" >0</th> \n",
       "        <td id=\"T_b8725596_d6ac_11eb_a26b_0242ac120002row0_col0\" class=\"data row0 col0\" >KBA13_ANZAHL_PKW</td> \n",
       "        <td id=\"T_b8725596_d6ac_11eb_a26b_0242ac120002row0_col1\" class=\"data row0 col1\" >590.608</td> \n",
       "        <td id=\"T_b8725596_d6ac_11eb_a26b_0242ac120002row0_col2\" class=\"data row0 col2\" >87.0321</td> \n",
       "        <td id=\"T_b8725596_d6ac_11eb_a26b_0242ac120002row0_col3\" class=\"data row0 col3\" >677.641</td> \n",
       "    </tr>    <tr> \n",
       "        <th id=\"T_b8725596_d6ac_11eb_a26b_0242ac120002level0_row1\" class=\"row_heading level0 row1\" >1</th> \n",
       "        <td id=\"T_b8725596_d6ac_11eb_a26b_0242ac120002row1_col0\" class=\"data row1 col0\" >LP_LEBENSPHASE_FEIN</td> \n",
       "        <td id=\"T_b8725596_d6ac_11eb_a26b_0242ac120002row1_col1\" class=\"data row1 col1\" >11.8666</td> \n",
       "        <td id=\"T_b8725596_d6ac_11eb_a26b_0242ac120002row1_col2\" class=\"data row1 col2\" >10.5232</td> \n",
       "        <td id=\"T_b8725596_d6ac_11eb_a26b_0242ac120002row1_col3\" class=\"data row1 col3\" >22.3898</td> \n",
       "    </tr>    <tr> \n",
       "        <th id=\"T_b8725596_d6ac_11eb_a26b_0242ac120002level0_row2\" class=\"row_heading level0 row2\" >2</th> \n",
       "        <td id=\"T_b8725596_d6ac_11eb_a26b_0242ac120002row2_col0\" class=\"data row2 col0\" >EXTSEL992</td> \n",
       "        <td id=\"T_b8725596_d6ac_11eb_a26b_0242ac120002row2_col1\" class=\"data row2 col1\" >33.8887</td> \n",
       "        <td id=\"T_b8725596_d6ac_11eb_a26b_0242ac120002row2_col2\" class=\"data row2 col2\" >3.41576</td> \n",
       "        <td id=\"T_b8725596_d6ac_11eb_a26b_0242ac120002row2_col3\" class=\"data row2 col3\" >37.3044</td> \n",
       "    </tr>    <tr> \n",
       "        <th id=\"T_b8725596_d6ac_11eb_a26b_0242ac120002level0_row3\" class=\"row_heading level0 row3\" >3</th> \n",
       "        <td id=\"T_b8725596_d6ac_11eb_a26b_0242ac120002row3_col0\" class=\"data row3 col0\" >LP_LEBENSPHASE_GROB</td> \n",
       "        <td id=\"T_b8725596_d6ac_11eb_a26b_0242ac120002row3_col1\" class=\"data row3 col1\" >3.66987</td> \n",
       "        <td id=\"T_b8725596_d6ac_11eb_a26b_0242ac120002row3_col2\" class=\"data row3 col2\" >2.85536</td> \n",
       "        <td id=\"T_b8725596_d6ac_11eb_a26b_0242ac120002row3_col3\" class=\"data row3 col3\" >6.52523</td> \n",
       "    </tr>    <tr> \n",
       "        <th id=\"T_b8725596_d6ac_11eb_a26b_0242ac120002level0_row4\" class=\"row_heading level0 row4\" >4</th> \n",
       "        <td id=\"T_b8725596_d6ac_11eb_a26b_0242ac120002row4_col0\" class=\"data row4 col0\" >FINANZ_VORSORGER</td> \n",
       "        <td id=\"T_b8725596_d6ac_11eb_a26b_0242ac120002row4_col1\" class=\"data row4 col1\" >2.26775</td> \n",
       "        <td id=\"T_b8725596_d6ac_11eb_a26b_0242ac120002row4_col2\" class=\"data row4 col2\" >2.56514</td> \n",
       "        <td id=\"T_b8725596_d6ac_11eb_a26b_0242ac120002row4_col3\" class=\"data row4 col3\" >4.83289</td> \n",
       "    </tr>    <tr> \n",
       "        <th id=\"T_b8725596_d6ac_11eb_a26b_0242ac120002level0_row5\" class=\"row_heading level0 row5\" >5</th> \n",
       "        <td id=\"T_b8725596_d6ac_11eb_a26b_0242ac120002row5_col0\" class=\"data row5 col0\" >SEMIO_LUST</td> \n",
       "        <td id=\"T_b8725596_d6ac_11eb_a26b_0242ac120002row5_col1\" class=\"data row5 col1\" >3.31286</td> \n",
       "        <td id=\"T_b8725596_d6ac_11eb_a26b_0242ac120002row5_col2\" class=\"data row5 col2\" >2.51286</td> \n",
       "        <td id=\"T_b8725596_d6ac_11eb_a26b_0242ac120002row5_col3\" class=\"data row5 col3\" >5.82572</td> \n",
       "    </tr>    <tr> \n",
       "        <th id=\"T_b8725596_d6ac_11eb_a26b_0242ac120002level0_row6\" class=\"row_heading level0 row6\" >113</th> \n",
       "        <td id=\"T_b8725596_d6ac_11eb_a26b_0242ac120002row6_col0\" class=\"data row6 col0\" >SEMIO_FAM</td> \n",
       "        <td id=\"T_b8725596_d6ac_11eb_a26b_0242ac120002row6_col1\" class=\"data row6 col1\" >6.38964</td> \n",
       "        <td id=\"T_b8725596_d6ac_11eb_a26b_0242ac120002row6_col2\" class=\"data row6 col2\" >-2.51767</td> \n",
       "        <td id=\"T_b8725596_d6ac_11eb_a26b_0242ac120002row6_col3\" class=\"data row6 col3\" >3.87197</td> \n",
       "    </tr>    <tr> \n",
       "        <th id=\"T_b8725596_d6ac_11eb_a26b_0242ac120002level0_row7\" class=\"row_heading level0 row7\" >114</th> \n",
       "        <td id=\"T_b8725596_d6ac_11eb_a26b_0242ac120002row7_col0\" class=\"data row7 col0\" >FINANZ_SPARER</td> \n",
       "        <td id=\"T_b8725596_d6ac_11eb_a26b_0242ac120002row7_col1\" class=\"data row7 col1\" >3.69482</td> \n",
       "        <td id=\"T_b8725596_d6ac_11eb_a26b_0242ac120002row7_col2\" class=\"data row7 col2\" >-2.54706</td> \n",
       "        <td id=\"T_b8725596_d6ac_11eb_a26b_0242ac120002row7_col3\" class=\"data row7 col3\" >1.14776</td> \n",
       "    </tr>    <tr> \n",
       "        <th id=\"T_b8725596_d6ac_11eb_a26b_0242ac120002level0_row8\" class=\"row_heading level0 row8\" >115</th> \n",
       "        <td id=\"T_b8725596_d6ac_11eb_a26b_0242ac120002row8_col0\" class=\"data row8 col0\" >VK_ZG11</td> \n",
       "        <td id=\"T_b8725596_d6ac_11eb_a26b_0242ac120002row8_col1\" class=\"data row8 col1\" >5.38772</td> \n",
       "        <td id=\"T_b8725596_d6ac_11eb_a26b_0242ac120002row8_col2\" class=\"data row8 col2\" >-2.63937</td> \n",
       "        <td id=\"T_b8725596_d6ac_11eb_a26b_0242ac120002row8_col3\" class=\"data row8 col3\" >2.74835</td> \n",
       "    </tr>    <tr> \n",
       "        <th id=\"T_b8725596_d6ac_11eb_a26b_0242ac120002level0_row9\" class=\"row_heading level0 row9\" >116</th> \n",
       "        <td id=\"T_b8725596_d6ac_11eb_a26b_0242ac120002row9_col0\" class=\"data row9 col0\" >VK_DISTANZ</td> \n",
       "        <td id=\"T_b8725596_d6ac_11eb_a26b_0242ac120002row9_col1\" class=\"data row9 col1\" >7.50576</td> \n",
       "        <td id=\"T_b8725596_d6ac_11eb_a26b_0242ac120002row9_col2\" class=\"data row9 col2\" >-3.08419</td> \n",
       "        <td id=\"T_b8725596_d6ac_11eb_a26b_0242ac120002row9_col3\" class=\"data row9 col3\" >4.42157</td> \n",
       "    </tr>    <tr> \n",
       "        <th id=\"T_b8725596_d6ac_11eb_a26b_0242ac120002level0_row10\" class=\"row_heading level0 row10\" >117</th> \n",
       "        <td id=\"T_b8725596_d6ac_11eb_a26b_0242ac120002row10_col0\" class=\"data row10 col0\" >ANZ_STATISTISCHE_HAUSHALTE</td> \n",
       "        <td id=\"T_b8725596_d6ac_11eb_a26b_0242ac120002row10_col1\" class=\"data row10 col1\" >7.59789</td> \n",
       "        <td id=\"T_b8725596_d6ac_11eb_a26b_0242ac120002row10_col2\" class=\"data row10 col2\" >-4.64169</td> \n",
       "        <td id=\"T_b8725596_d6ac_11eb_a26b_0242ac120002row10_col3\" class=\"data row10 col3\" >2.9562</td> \n",
       "    </tr>    <tr> \n",
       "        <th id=\"T_b8725596_d6ac_11eb_a26b_0242ac120002level0_row11\" class=\"row_heading level0 row11\" >118</th> \n",
       "        <td id=\"T_b8725596_d6ac_11eb_a26b_0242ac120002row11_col0\" class=\"data row11 col0\" >ANZ_HAUSHALTE_AKTIV</td> \n",
       "        <td id=\"T_b8725596_d6ac_11eb_a26b_0242ac120002row11_col1\" class=\"data row11 col1\" >8.3858</td> \n",
       "        <td id=\"T_b8725596_d6ac_11eb_a26b_0242ac120002row11_col2\" class=\"data row11 col2\" >-5.25623</td> \n",
       "        <td id=\"T_b8725596_d6ac_11eb_a26b_0242ac120002row11_col3\" class=\"data row11 col3\" >3.12957</td> \n",
       "    </tr></tbody> \n",
       "</table> "
      ],
      "text/plain": [
       "<pandas.io.formats.style.Styler at 0x7f4e95be8da0>"
      ]
     },
     "execution_count": 38,
     "metadata": {},
     "output_type": "execute_result"
    }
   ],
   "source": [
    "## Find the difference between clusters of maximum customers and minimum customers\n",
    "cust_11=customers[(labels==11)].mean()\n",
    "cust_10= customers[(labels==10)].mean()\n",
    "sorted_cust=(cust_11-cust_10).sort_values(ascending=False)\n",
    "\n",
    "max_diff_clusters=pd.DataFrame()\n",
    "max_diff_clusters['Attribute']=sorted_cust.index.tolist()\n",
    "max_diff_clusters['Cluster_10']=cust_10[sorted_cust.index.tolist()].values.tolist()\n",
    "max_diff_clusters['Difference']=sorted_cust.values.tolist()\n",
    "max_diff_clusters['Cluster_11']=cust_11[sorted_cust.index.tolist()].values.tolist()\n",
    "max_diff_clusters2=max_diff_clusters.iloc[:6,:]\n",
    "max_diff_clusters3=max_diff_clusters.iloc[-6:,:]\n",
    "max_diff_clusters4=pd.concat([max_diff_clusters2,max_diff_clusters3],axis=0)\n",
    "max_diff_clusters4.style.bar(subset=['Difference'],align='mid',color=['red','green'])"
   ]
  },
  {
   "cell_type": "markdown",
   "metadata": {},
   "source": [
    "## Part 2: Supervised Learning Model\n",
    "\n",
    "Now that you've found which parts of the population are more likely to be customers of the mail-order company, it's time to build a prediction model. Each of the rows in the \"MAILOUT\" data files represents an individual that was targeted for a mailout campaign. Ideally, we should be able to use the demographic information from each individual to decide whether or not it will be worth it to include that person in the campaign.\n",
    "\n",
    "The \"MAILOUT\" data has been split into two approximately equal parts, each with almost 43 000 data rows. In this part, you can verify your model with the \"TRAIN\" partition, which includes a column, \"RESPONSE\", that states whether or not a person became a customer of the company following the campaign. In the next part, you'll need to create predictions on the \"TEST\" partition, where the \"RESPONSE\" column has been withheld."
   ]
  },
  {
   "cell_type": "code",
   "execution_count": 39,
   "metadata": {
    "scrolled": true
   },
   "outputs": [
    {
     "name": "stderr",
     "output_type": "stream",
     "text": [
      "/opt/conda/lib/python3.6/site-packages/IPython/core/interactiveshell.py:2785: DtypeWarning: Columns (18,19) have mixed types. Specify dtype option on import or set low_memory=False.\n",
      "  interactivity=interactivity, compiler=compiler, result=result)\n"
     ]
    }
   ],
   "source": [
    "mailout_train = pd.read_csv('../../data/Term2/capstone/arvato_data/Udacity_MAILOUT_052018_TRAIN.csv', sep=';')"
   ]
  },
  {
   "cell_type": "code",
   "execution_count": 40,
   "metadata": {},
   "outputs": [],
   "source": [
    "#uc=['AGER_TYP', 'AKT_DAT_KL', 'ALTER_KIND1', 'ALTER_KIND2', 'ANZ_HAUSHALTE_AKTIV', 'ANZ_HH_TITEL', 'ANZ_KINDER', 'ANZ_PERSONEN', 'ANZ_TITEL', 'CAMEO_DEUG_2015', 'CJT_KATALOGNUTZER', 'CJT_TYP_3', 'CJT_TYP_4', 'CJT_TYP_5', 'CJT_TYP_6', 'D19_BANKEN_ANZ_12', 'D19_BANKEN_ANZ_24', 'D19_BANKEN_DATUM', 'D19_BANKEN_DIREKT', 'D19_BANKEN_GROSS', 'D19_BANKEN_LOKAL', 'D19_BANKEN_OFFLINE_DATUM', 'D19_BANKEN_ONLINE_DATUM', 'D19_BANKEN_ONLINE_QUOTE_12', 'D19_BEKLEIDUNG_GEH', 'D19_BEKLEIDUNG_REST', 'D19_BILDUNG', 'D19_BIO_OEKO', 'D19_BUCH_CD', 'D19_DIGIT_SERV', 'D19_ENERGIE', 'D19_FREIZEIT', 'D19_GARTEN', 'D19_GESAMT_ANZ_12', 'D19_GESAMT_OFFLINE_DATUM', 'D19_GESAMT_ONLINE_QUOTE_12', 'D19_HANDWERK', 'D19_HAUS_DEKO', 'D19_KINDERARTIKEL', 'D19_KONSUMTYP_MAX', 'D19_KOSMETIK', 'D19_LEBENSMITTEL', 'D19_LOTTO', 'D19_NAHRUNGSERGAENZUNG', 'D19_RATGEBER', 'D19_REISEN', 'D19_SAMMELARTIKEL', 'D19_SONSTIGE', 'D19_SOZIALES', 'D19_TECHNIK', 'D19_TELKO_ONLINE_DATUM', 'D19_VERSAND_ANZ_24', 'D19_VERSAND_DATUM', 'D19_VERSAND_OFFLINE_DATUM', 'D19_VERSI_OFFLINE_DATUM', 'D19_VERSI_ONLINE_DATUM', 'D19_VERSI_ONLINE_QUOTE_12', 'D19_VOLLSORTIMENT', 'D19_WEIN_FEINKOST', 'DSL_FLAG', 'EXTSEL992', 'FINANZ_ANLEGER', 'FINANZ_MINIMALIST', 'FINANZ_SPARER', 'FINANZ_UNAUFFAELLIGER', 'FINANZ_VORSORGER', 'GREEN_AVANTGARDE', 'HH_DELTA_FLAG', 'KBA05_ANTG3', 'KBA05_ANTG4', 'KBA05_AUTOQUOT', 'KBA05_BAUMAX', 'KBA05_MAXAH', 'KBA13_ANTG4', 'KBA13_ANZAHL_PKW', 'KBA13_BAUMAX', 'KBA13_KMH_110', 'KBA13_KMH_251', 'KBA13_KRSSEG_KLEIN', 'KK_KUNDENTYP', 'KOMBIALTER', 'KONSUMZELLE', 'LP_LEBENSPHASE_FEIN', 'MOBI_RASTER', 'NATIONALITAET_KZ', 'ONLINE_AFFINITAET', 'OST_WEST_KZ', 'RETOURTYP_BK_S', 'RT_KEIN_ANREIZ', 'RT_SCHNAEPPCHEN', 'SEMIO_DOM', 'SEMIO_ERL', 'SEMIO_FAM', 'SEMIO_KRIT', 'SEMIO_LUST', 'SEMIO_PFLICHT', 'SEMIO_SOZ', 'SEMIO_TRADV', 'SOHO_KZ', 'UMFELD_JUNG', 'UNGLEICHENN_FLAG', 'VERS_TYP', 'VHA', 'VK_DISTANZ', 'WOHNDAUER_2008', 'W_KEIT_KIND_HH', 'ZABEOTYP'] "
   ]
  },
  {
   "cell_type": "code",
   "execution_count": 41,
   "metadata": {},
   "outputs": [
    {
     "name": "stderr",
     "output_type": "stream",
     "text": [
      "/opt/conda/lib/python3.6/site-packages/ipykernel_launcher.py:46: SettingWithCopyWarning: \n",
      "A value is trying to be set on a copy of a slice from a DataFrame.\n",
      "Try using .loc[row_indexer,col_indexer] = value instead\n",
      "\n",
      "See the caveats in the documentation: http://pandas.pydata.org/pandas-docs/stable/indexing.html#indexing-view-versus-copy\n"
     ]
    }
   ],
   "source": [
    "mailout_train_cluster = mailout_train.copy()\n",
    "u_c=union_cols.tolist()\n",
    "u_c.append('RESPONSE')\n",
    "mailout_train_cluster=transform_train(mailout_train_cluster,u_c)"
   ]
  },
  {
   "cell_type": "code",
   "execution_count": 42,
   "metadata": {},
   "outputs": [],
   "source": [
    "u2=uc.copy()\n",
    "#u2=union_cols.tolist()\n",
    "#u2=ind_cols.copy()\n",
    "u2.append('RESPONSE')\n",
    "#u2.append('EINGEZOGENAM_HH_JAHR')\n",
    "#u2.append('GEBURTSJAHR')"
   ]
  },
  {
   "cell_type": "code",
   "execution_count": 43,
   "metadata": {},
   "outputs": [],
   "source": [
    "#rem_cols=['D19_LETZTER_KAUF_BRANCHE', 'EINGEZOGENAM_HH_JAHR', 'EINGEFUEGT_AM', 'GEBURTSJAHR', 'MIN_GEBAEUDEJAHR']\n",
    "#rem_cols=['D19_LETZTER_KAUF_BRANCHE', 'EINGEFUEGT_AM', 'MIN_GEBAEUDEJAHR']\n",
    "#u3=mailout_train.columns.tolist()\n",
    "#for col in rem_cols:\n",
    "#    u3.remove(col)\n"
   ]
  },
  {
   "cell_type": "code",
   "execution_count": 44,
   "metadata": {},
   "outputs": [],
   "source": [
    "def plot_cluster(train_pos):\n",
    "    '''\n",
    "    plotting the cluster \n",
    "    INPUT - df - pandas dataframe \n",
    "    '''\n",
    "    train_positive_df=pop_pca.transform(std_scaler.transform(train_pos))\n",
    "    labels=pop_kmeans.predict(train_positive_df)\n",
    "    total=labels.shape[0]\n",
    "    train_pos_p=[(labels==0).sum()/total *100,\n",
    "    (labels==1).sum()/total *100,\n",
    "    (labels==2).sum()/total *100,\n",
    "    (labels==3).sum()/total *100,\n",
    "    (labels==4).sum()/total *100,\n",
    "    (labels==5).sum()/total *100,\n",
    "    (labels==6).sum()/total *100,\n",
    "    (labels==7).sum()/total *100,\n",
    "    (labels==8).sum()/total *100,\n",
    "    (labels==8).sum()/total *100,\n",
    "    (labels==10).sum()/total *100,\n",
    "    (labels==11).sum()/total *100,\n",
    "                  ]\n",
    "    clusters=np.arange(0,12)\n",
    "    width=0.35\n",
    "    plt.bar(clusters,train_pos_p,width,color='purple',label='Leads');\n",
    "    plt.xlabel('clusters')\n",
    "    plt.ylabel('share of people')\n",
    "    plt.legend();"
   ]
  },
  {
   "cell_type": "code",
   "execution_count": 45,
   "metadata": {},
   "outputs": [
    {
     "name": "stdout",
     "output_type": "stream",
     "text": [
      "532\n"
     ]
    },
    {
     "data": {
      "image/png": "[encoded data removed]",
      "text/plain": [
       "<matplotlib.figure.Figure at 0x7f4e926b4eb8>"
      ]
     },
     "metadata": {
      "needs_background": "light"
     },
     "output_type": "display_data"
    }
   ],
   "source": [
    "train_positive=mailout_train_cluster[mailout_train_cluster.RESPONSE==1]\n",
    "print(train_positive.shape[0])\n",
    "train_pos=train_positive.drop('RESPONSE',axis=1)\n",
    "plot_cluster(train_pos)\n"
   ]
  },
  {
   "cell_type": "code",
   "execution_count": 46,
   "metadata": {},
   "outputs": [
    {
     "data": {
      "image/png": "[encoded data removed]",
      "text/plain": [
       "<matplotlib.figure.Figure at 0x7f4e92a04e80>"
      ]
     },
     "metadata": {
      "needs_background": "light"
     },
     "output_type": "display_data"
    }
   ],
   "source": [
    "train_negative=mailout_train_cluster[mailout_train_cluster.RESPONSE==0]\n",
    "train_neg=train_negative.drop('RESPONSE',axis=1)\n",
    "plot_cluster(train_neg)\n"
   ]
  },
  {
   "cell_type": "code",
   "execution_count": 47,
   "metadata": {
    "scrolled": true
   },
   "outputs": [
    {
     "name": "stderr",
     "output_type": "stream",
     "text": [
      "/opt/conda/lib/python3.6/site-packages/ipykernel_launcher.py:46: SettingWithCopyWarning: \n",
      "A value is trying to be set on a copy of a slice from a DataFrame.\n",
      "Try using .loc[row_indexer,col_indexer] = value instead\n",
      "\n",
      "See the caveats in the documentation: http://pandas.pydata.org/pandas-docs/stable/indexing.html#indexing-view-versus-copy\n"
     ]
    }
   ],
   "source": [
    "mailout_train=transform_train(mailout_train,u2)\n",
    "#mailout_train=transform_train(mailout_train,u3)"
   ]
  },
  {
   "cell_type": "code",
   "execution_count": 48,
   "metadata": {},
   "outputs": [
    {
     "name": "stdout",
     "output_type": "stream",
     "text": [
      "1.19.5\n",
      "0.24.2\n",
      "0.8.0\n"
     ]
    }
   ],
   "source": [
    "print(np.__version__)\n",
    "print(sklearn.__version__)\n",
    "print(imblearn.__version__)"
   ]
  },
  {
   "cell_type": "code",
   "execution_count": 49,
   "metadata": {},
   "outputs": [
    {
     "name": "stdout",
     "output_type": "stream",
     "text": [
      "(42962, 109)\n"
     ]
    }
   ],
   "source": [
    "X=mailout_train.drop('RESPONSE',axis=1)\n",
    "y=mailout_train.RESPONSE\n",
    "print(X.shape)\n",
    "#X=pop_pca.transform(std_scaler.transform(X))\n"
   ]
  },
  {
   "cell_type": "code",
   "execution_count": 130,
   "metadata": {},
   "outputs": [],
   "source": [
    "#scaler=StandardScaler()\n",
    "#scaler=RobustScaler()\n",
    "#X=scaler.fit_transform(X)\n"
   ]
  },
  {
   "cell_type": "code",
   "execution_count": 50,
   "metadata": {},
   "outputs": [],
   "source": [
    "x_train,x_test,y_train,y_test=train_test_split(X,y,test_size=0.25,random_state=24,stratify=y)"
   ]
  },
  {
   "cell_type": "code",
   "execution_count": 51,
   "metadata": {},
   "outputs": [],
   "source": [
    "#x_train=scaler.fit_transform(x_train)\n",
    "#x_test=scaler.transform(x_test)"
   ]
  },
  {
   "cell_type": "code",
   "execution_count": 52,
   "metadata": {},
   "outputs": [],
   "source": [
    "smote=SMOTE()\n",
    "x_smote,y_smote=smote.fit_resample(x_train,y_train)"
   ]
  },
  {
   "cell_type": "code",
   "execution_count": 53,
   "metadata": {},
   "outputs": [
    {
     "data": {
      "text/plain": [
       "((63644, 109), 31822, (32221, 109), (10741, 109), (32221,), (10741,))"
      ]
     },
     "execution_count": 53,
     "metadata": {},
     "output_type": "execute_result"
    }
   ],
   "source": [
    "x_smote.shape,y_smote.sum(),x_train.shape,x_test.shape,y_train.shape,y_test.shape"
   ]
  },
  {
   "cell_type": "code",
   "execution_count": 54,
   "metadata": {},
   "outputs": [],
   "source": [
    "def train_model(model,x_train,y_train,x_test,y_test):\n",
    "    '''\n",
    "    Fits a model,finds ROC-AUC, PR-AUC metric\n",
    "    INPUT - model - ML model\n",
    "            x_train - training dataset\n",
    "            y_train - labels of training data\n",
    "            x_test - testing dataset \n",
    "            y_test - labels of testing dataset\n",
    "    '''\n",
    "    model.fit(x_train,y_train)\n",
    "    #early_stopping_rounds=5,\n",
    "    #model.fit(x_train,y_train,eval_set=[(x_test,y_test)])\n",
    "    print(f'training accuracy {model.score(x_train,y_train)}')\n",
    "    pred=model.predict(x_test)\n",
    "    proba=model.predict_proba(x_test)\n",
    "    print('testing metrics')\n",
    "    print(classification_report(y_test,pred))\n",
    "    print(f\"ROC AUC Score {roc_auc_score(y_test,proba[:,1])} \")\n",
    "    p,r,t=precision_recall_curve(y_test,proba[:,1])\n",
    "    print(f\"AUC: {auc(r,p)}\")"
   ]
  },
  {
   "cell_type": "code",
   "execution_count": 136,
   "metadata": {},
   "outputs": [
    {
     "name": "stdout",
     "output_type": "stream",
     "text": [
      "cross val with SMOTE\n",
      "[0.96027709 0.98368307 0.98291884 0.98379488 0.98266403]\n",
      "0.9786675821027284 0.009205427373463925\n",
      "\n",
      "[0.9722619  0.99100629 0.99114803 0.9913326  0.99089478]\n",
      "0.9873287194039151 0.00753483495762085\n",
      "\n",
      "[0.98201291 0.99149695 0.99177655 0.99171354 0.99155033]\n",
      "0.9897100551673113 0.0038499342834597957\n",
      "\n"
     ]
    }
   ],
   "source": [
    "print(\"cross val with SMOTE\")\n",
    "models=[]\n",
    "#models.append(LogisticRegression(class_weight='balanced'))\n",
    "models.append(AdaBoostClassifier())\n",
    "models.append(GradientBoostingClassifier())\n",
    "models.append(RandomForestClassifier(class_weight='balanced'))\n",
    "with active_session():\n",
    "    for model in models:\n",
    "        cv_scores=cross_val_score(model,x_smote,y_smote,scoring='roc_auc',cv=5)\n",
    "        print(cv_scores)\n",
    "        print(cv_scores.mean(),cv_scores.std())\n",
    "        print()"
   ]
  },
  {
   "cell_type": "code",
   "execution_count": 137,
   "metadata": {},
   "outputs": [
    {
     "name": "stdout",
     "output_type": "stream",
     "text": [
      "cross val with out SMOTE\n",
      "[0.71246269 0.7711635  0.73872368 0.72543015 0.71097777]\n",
      "0.7317515578256766 0.022115528717840373\n",
      "\n",
      "[0.77413688 0.77079062 0.76100035 0.7314749  0.72656348]\n",
      "0.7527932464167953 0.0199463542436476\n",
      "\n",
      "[0.63659564 0.68468086 0.62837641 0.62039696 0.54742693]\n",
      "0.6234953612315 0.044125079252049296\n",
      "\n"
     ]
    }
   ],
   "source": [
    "print(\"cross val with out SMOTE\")\n",
    "models=[]\n",
    "#models.append(LogisticRegression(class_weight='balanced'))\n",
    "models.append(AdaBoostClassifier())\n",
    "models.append(GradientBoostingClassifier())\n",
    "models.append(RandomForestClassifier(class_weight='balanced'))\n",
    "with active_session():\n",
    "    for model in models:\n",
    "        cv_scores=cross_val_score(model,x_train,y_train,scoring='roc_auc',cv=5)\n",
    "        print(cv_scores)\n",
    "        print(cv_scores.mean(),cv_scores.std())\n",
    "        print()"
   ]
  },
  {
   "cell_type": "code",
   "execution_count": 151,
   "metadata": {},
   "outputs": [
    {
     "name": "stdout",
     "output_type": "stream",
     "text": [
      "With SMOTE\n",
      "training accuracy 0.9080196090754824\n",
      "testing metrics\n",
      "              precision    recall  f1-score   support\n",
      "\n",
      "           0       0.99      0.95      0.97     10608\n",
      "           1       0.05      0.18      0.07       133\n",
      "\n",
      "    accuracy                           0.94     10741\n",
      "   macro avg       0.52      0.57      0.52     10741\n",
      "weighted avg       0.98      0.94      0.96     10741\n",
      "\n",
      "ROC AUC Score 0.7173196707832931 \n",
      "AUC: 0.02788996744485351\n"
     ]
    }
   ],
   "source": [
    "print(\"With SMOTE\")\n",
    "models=[]\n",
    "#models.append(LogisticRegression(max_iter=500,class_weight='balanced'))\n",
    "#models.append(AdaBoostClassifier(n_estimators=100))\n",
    "#models.append(RandomForestClassifier(class_weight='balanced',max_depth=5,n_estimators=25))\n",
    "models.append(GradientBoostingClassifier(n_estimators=20,max_depth=5))\n",
    "#models.append(XGBoostClassifier())\n",
    "#models.append(XGBClassifier())\n",
    "for model in models:\n",
    "    train_model(model,x_smote,y_smote,x_test,y_test)"
   ]
  },
  {
   "cell_type": "code",
   "execution_count": 55,
   "metadata": {
    "scrolled": true
   },
   "outputs": [
    {
     "name": "stdout",
     "output_type": "stream",
     "text": [
      "Without SMOTE\n",
      "training accuracy 0.9886099127897955\n",
      "testing metrics\n",
      "              precision    recall  f1-score   support\n",
      "\n",
      "           0       0.99      1.00      0.99     10608\n",
      "           1       0.00      0.00      0.00       133\n",
      "\n",
      "    accuracy                           0.99     10741\n",
      "   macro avg       0.49      0.50      0.50     10741\n",
      "weighted avg       0.98      0.99      0.98     10741\n",
      "\n",
      "ROC AUC Score 0.7854049008267273 \n",
      "AUC: 0.03765379472833684\n"
     ]
    }
   ],
   "source": [
    "print(\"Without SMOTE\")\n",
    "models=[]\n",
    "#models.append(LogisticRegression(max_iter=500,class_weight='balanced'))\n",
    "#models.append(AdaBoostClassifier(n_estimators=25))\n",
    "#models.append(RandomForestClassifier(class_weight='balanced'))\n",
    "#best model so far\n",
    "models.append(GradientBoostingClassifier(n_estimators=20,max_depth=5))\n",
    "#,max_features='auto',learning_rate=0.05))\n",
    "#models.append(GradientBoostingClassifier(n_estimators=100,max_depth=5,subsample=0.5,learning_rate=0.1))\n",
    "#max_features='auto',learning_rate=0.1,min_samples_split=10)\n",
    "#models.append(GradientBoostingClassifier(n_estimators=100,max_depth=6,max_features='auto',learning_rate=0.1))\n",
    "#models.append(XGBClassifier(objective='binary:logistic',eval_metric='rmse',eta=0.1,n_estimators=75))\n",
    "#DecisionTreeClassifier(max_depth=1)class_weight='balanced'\n",
    "#models.append(KNeighborsClassifier(20))\n",
    "\n",
    "for model in models:\n",
    "    train_model(model,x_train,y_train,x_test,y_test)\n",
    "\n"
   ]
  },
  {
   "cell_type": "code",
   "execution_count": 81,
   "metadata": {},
   "outputs": [
    {
     "name": "stdout",
     "output_type": "stream",
     "text": [
      "RandomizedSearchCV\n",
      "{'n_estimators': 15, 'max_depth': 4, 'learning_rate': 0.1}\n"
     ]
    }
   ],
   "source": [
    "from sklearn.model_selection import RandomizedSearchCV\n",
    "print('RandomizedSearchCV')\n",
    "models=[]\n",
    "#models.append(LogisticRegression(max_iter=500,class_weight='balanced'))\n",
    "#models.append(AdaBoostClassifier())\n",
    "models.append(GradientBoostingClassifier())\n",
    "#models.append(RandomForestClassifier(class_weight='balanced'))\n",
    "params={\n",
    "    'n_estimators':[10,15,20,25,50,55,60,65,70,75],\n",
    "    'max_depth':[3,4,5,6],\n",
    "    'learning_rate':[0.01,0.05,0.1,0.5,1]\n",
    "}\n",
    "#'max_depth':[3,4,5]\n",
    "#'learning_rate':[0.01,0.05,0.5,1],\n",
    "with active_session():\n",
    "    for model in models:\n",
    "        cv=RandomizedSearchCV(model,params,scoring='roc_auc',n_iter=10)\n",
    "        cv.fit(x_train,y_train)\n",
    "        print(cv.best_params_)"
   ]
  },
  {
   "cell_type": "code",
   "execution_count": 82,
   "metadata": {},
   "outputs": [
    {
     "name": "stdout",
     "output_type": "stream",
     "text": [
      "testing metrics\n",
      "ROC AUC Score 0.7773477812177503 \n"
     ]
    }
   ],
   "source": [
    "proba=cv.predict_proba(x_test)\n",
    "print('testing metrics')\n",
    "print(f\"ROC AUC Score {roc_auc_score(y_test,proba[:,1])} \")"
   ]
  },
  {
   "cell_type": "code",
   "execution_count": 83,
   "metadata": {},
   "outputs": [
    {
     "name": "stdout",
     "output_type": "stream",
     "text": [
      "GridSearchCV\n",
      "{'max_depth': 4, 'n_estimators': 50}\n"
     ]
    }
   ],
   "source": [
    "print('GridSearchCV')\n",
    "models=[]\n",
    "#models.append(LogisticRegression(max_iter=500,class_weight='balanced'))\n",
    "#models.append(AdaBoostClassifier())\n",
    "models.append(GradientBoostingClassifier())\n",
    "#models.append(RandomForestClassifier(class_weight='balanced'))\n",
    "params={\n",
    "    'n_estimators':[10,15,18,20,25,50,55,60,65,70,75],\n",
    "    'max_depth':[4,5]\n",
    "}\n",
    "#'max_depth':[3,4,5]\n",
    "#'learning_rate':[0.01,0.05,0.5,1],\n",
    "with active_session():\n",
    "    for model in models:\n",
    "        cv=GridSearchCV(model,params,scoring='roc_auc')\n",
    "        cv.fit(x_train,y_train)\n",
    "        print(cv.best_params_)"
   ]
  },
  {
   "cell_type": "code",
   "execution_count": 84,
   "metadata": {},
   "outputs": [
    {
     "name": "stdout",
     "output_type": "stream",
     "text": [
      "testing metrics\n",
      "ROC AUC Score 0.7750984503112986 \n"
     ]
    }
   ],
   "source": [
    "proba=cv.predict_proba(x_test)\n",
    "print('testing metrics')\n",
    "print(f\"ROC AUC Score {roc_auc_score(y_test,proba[:,1])} \")"
   ]
  },
  {
   "cell_type": "code",
   "execution_count": 85,
   "metadata": {},
   "outputs": [],
   "source": [
    "#OPTIONAL: Modelling on Full training Set after choosing the best model and hyper params\n",
    "\n",
    "#models=[]\n",
    "\n",
    "#models.append(GradientBoostingClassifier(n_estimators=15,max_depth=5))\n",
    "\n",
    "#with active_session():\n",
    "#    for model in models:\n",
    "#        train_model(model,X,y,X,y)\n"
   ]
  },
  {
   "cell_type": "markdown",
   "metadata": {},
   "source": [
    "## Part 3: Kaggle Competition\n",
    "\n",
    "Now that you've created a model to predict which individuals are most likely to respond to a mailout campaign, it's time to test that model in competition through Kaggle. If you click on the link [here](http://www.kaggle.com/t/21e6d45d4c574c7fa2d868f0e8c83140), you'll be taken to the competition page where, if you have a Kaggle account, you can enter.\n",
    "\n",
    "Your entry to the competition should be a CSV file with two columns. The first column should be a copy of \"LNR\", which acts as an ID number for each individual in the \"TEST\" partition. The second column, \"RESPONSE\", should be some measure of how likely each individual became a customer – this might not be a straightforward probability. As you should have found in Part 2, there is a large output class imbalance, where most individuals did not respond to the mailout. Thus, predicting individual classes and using accuracy does not seem to be an appropriate performance evaluation method. Instead, the competition will be using AUC to evaluate performance. The exact values of the \"RESPONSE\" column do not matter as much: only that the higher values try to capture as many of the actual customers as possible, early in the ROC curve sweep."
   ]
  },
  {
   "cell_type": "code",
   "execution_count": 56,
   "metadata": {},
   "outputs": [
    {
     "name": "stderr",
     "output_type": "stream",
     "text": [
      "/opt/conda/lib/python3.6/site-packages/IPython/core/interactiveshell.py:2785: DtypeWarning: Columns (18,19) have mixed types. Specify dtype option on import or set low_memory=False.\n",
      "  interactivity=interactivity, compiler=compiler, result=result)\n"
     ]
    }
   ],
   "source": [
    "mailout_test1 = pd.read_csv('../../data/Term2/capstone/arvato_data/Udacity_MAILOUT_052018_TEST.csv', sep=';')"
   ]
  },
  {
   "cell_type": "code",
   "execution_count": 57,
   "metadata": {},
   "outputs": [
    {
     "name": "stderr",
     "output_type": "stream",
     "text": [
      "/opt/conda/lib/python3.6/site-packages/ipykernel_launcher.py:46: SettingWithCopyWarning: \n",
      "A value is trying to be set on a copy of a slice from a DataFrame.\n",
      "Try using .loc[row_indexer,col_indexer] = value instead\n",
      "\n",
      "See the caveats in the documentation: http://pandas.pydata.org/pandas-docs/stable/indexing.html#indexing-view-versus-copy\n"
     ]
    }
   ],
   "source": [
    "mailout_test1_cluster = mailout_test1.copy()\n",
    "mailout_test1_cluster=transform_train(mailout_test1_cluster,union_cols.tolist())"
   ]
  },
  {
   "cell_type": "code",
   "execution_count": 58,
   "metadata": {},
   "outputs": [
    {
     "data": {
      "image/png": "[encoded data removed]",
      "text/plain": [
       "<matplotlib.figure.Figure at 0x7f4e95f746a0>"
      ]
     },
     "metadata": {
      "needs_background": "light"
     },
     "output_type": "display_data"
    }
   ],
   "source": [
    "plot_cluster(mailout_test1_cluster)"
   ]
  },
  {
   "cell_type": "code",
   "execution_count": 59,
   "metadata": {},
   "outputs": [],
   "source": [
    "results=pd.DataFrame()\n",
    "results['LNR']=mailout_test1.LNR"
   ]
  },
  {
   "cell_type": "code",
   "execution_count": 60,
   "metadata": {},
   "outputs": [],
   "source": [
    "u10=u2.copy()\n",
    "u10.remove('RESPONSE')"
   ]
  },
  {
   "cell_type": "code",
   "execution_count": 61,
   "metadata": {},
   "outputs": [
    {
     "name": "stderr",
     "output_type": "stream",
     "text": [
      "/opt/conda/lib/python3.6/site-packages/ipykernel_launcher.py:46: SettingWithCopyWarning: \n",
      "A value is trying to be set on a copy of a slice from a DataFrame.\n",
      "Try using .loc[row_indexer,col_indexer] = value instead\n",
      "\n",
      "See the caveats in the documentation: http://pandas.pydata.org/pandas-docs/stable/indexing.html#indexing-view-versus-copy\n"
     ]
    }
   ],
   "source": [
    "mailout_test=transform_train(mailout_test1,u10)"
   ]
  },
  {
   "cell_type": "code",
   "execution_count": 62,
   "metadata": {},
   "outputs": [],
   "source": [
    "#kaggle=pop_pca.transform(mailout_test)\n",
    "kaggle=mailout_test\n",
    "#kaggle=scaler.transform(kaggle)"
   ]
  },
  {
   "cell_type": "code",
   "execution_count": 63,
   "metadata": {},
   "outputs": [
    {
     "data": {
      "text/plain": [
       "(41, 33, 33)"
      ]
     },
     "execution_count": 63,
     "metadata": {},
     "output_type": "execute_result"
    }
   ],
   "source": [
    "#Manual Tuned Model \n",
    "\n",
    "for model in models:\n",
    "    preds=model.predict(kaggle)\n",
    "    pred=model.predict_proba(kaggle)\n",
    "    results['RESPONSE']=pred[:,1]\n",
    "    break;\n",
    "(pred[:,1] >0.5 ).sum(),(pred[:,1] >0.7 ).sum(),(pred[:,1] >0.7 ).sum()\n",
    "    "
   ]
  },
  {
   "cell_type": "code",
   "execution_count": 64,
   "metadata": {},
   "outputs": [],
   "source": [
    "results.to_csv('aravind-manual-model.csv',index=None)"
   ]
  },
  {
   "cell_type": "code",
   "execution_count": 149,
   "metadata": {},
   "outputs": [
    {
     "data": {
      "text/plain": [
       "(37, 30, 30)"
      ]
     },
     "execution_count": 149,
     "metadata": {},
     "output_type": "execute_result"
    }
   ],
   "source": [
    "#Grid Search Model\n",
    "preds=cv.predict(kaggle)\n",
    "pred=cv.predict_proba(kaggle)\n",
    "results['RESPONSE']=pred[:,1]\n",
    "\n",
    "(pred[:,1] >0.5 ).sum(),(pred[:,1] >0.7 ).sum(),(pred[:,1] >0.7 ).sum()"
   ]
  },
  {
   "cell_type": "code",
   "execution_count": 150,
   "metadata": {},
   "outputs": [],
   "source": [
    "results.to_csv('aravind-grid-search-cv.csv',index=None)"
   ]
  },
  {
   "cell_type": "code",
   "execution_count": null,
   "metadata": {},
   "outputs": [],
   "source": []
  }
 ],
 "metadata": {
  "kernelspec": {
   "display_name": "Python 3",
   "language": "python",
   "name": "python3"
  },
  "language_info": {
   "codemirror_mode": {
    "name": "ipython",
    "version": 3
   },
   "file_extension": ".py",
   "mimetype": "text/x-python",
   "name": "python",
   "nbconvert_exporter": "python",
   "pygments_lexer": "ipython3",
   "version": "3.6.3"
  }
 },
 "nbformat": 4,
 "nbformat_minor": 2
}
